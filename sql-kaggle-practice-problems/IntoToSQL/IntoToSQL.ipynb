{
 "metadata": {
  "language_info": {
   "codemirror_mode": {
    "name": "ipython",
    "version": 3
   },
   "file_extension": ".py",
   "mimetype": "text/x-python",
   "name": "python",
   "nbconvert_exporter": "python",
   "pygments_lexer": "ipython3",
   "version": "3.7.9-final"
  },
  "orig_nbformat": 2,
  "kernelspec": {
   "name": "python3",
   "display_name": "Python 3",
   "language": "python"
  }
 },
 "nbformat": 4,
 "nbformat_minor": 2,
 "cells": [
  {
   "cell_type": "code",
   "execution_count": 7,
   "metadata": {},
   "outputs": [],
   "source": [
    "# Pointing the json key file of google cloud service account to local copy\n",
    "import os\n",
    "\n",
    "os.environ['GOOGLE_APPLICATION_CREDENTIALS'] ='key.json'"
   ]
  },
  {
   "cell_type": "code",
   "execution_count": 8,
   "metadata": {},
   "outputs": [],
   "source": [
    "from google.cloud import bigquery"
   ]
  },
  {
   "cell_type": "code",
   "execution_count": 9,
   "metadata": {},
   "outputs": [],
   "source": [
    "# Create a 'Client' Object\n",
    "client = bigquery.Client()"
   ]
  },
  {
   "cell_type": "code",
   "execution_count": 10,
   "metadata": {},
   "outputs": [],
   "source": [
    "# In BigQuery, each dataset is contained in a corresponding project. In this case, our hacker_news dataset is contained in the bigquery-public-data project.\n",
    "\n",
    "# Construct a reference to the 'hacker-news' dataset\n",
    "dataset_ref = client.dataset('hacker_news', project='bigquery-public-data')\n",
    "\n",
    "# API request - fetch the dataset\n",
    "dataset = client.get_dataset(dataset_ref)"
   ]
  },
  {
   "cell_type": "code",
   "execution_count": 11,
   "metadata": {},
   "outputs": [
    {
     "output_type": "stream",
     "name": "stdout",
     "text": [
      "comments\nfull\nfull_201510\nstories\n"
     ]
    }
   ],
   "source": [
    "# List all the tables in the \"hacker_news\" dataset\n",
    "tables = list(client.list_tables(dataset))\n",
    "\n",
    "for table in tables:\n",
    "    print(table.table_id)"
   ]
  },
  {
   "cell_type": "code",
   "execution_count": 12,
   "metadata": {},
   "outputs": [],
   "source": [
    "#  Construct a reference to the \"full\" table\n",
    "table_ref = dataset_ref.table('full')\n",
    "\n",
    "# API request - fetch the table\n",
    "table = client.get_table(table_ref)"
   ]
  },
  {
   "source": [
    "![title](./img/bigquery.png)"
   ],
   "cell_type": "markdown",
   "metadata": {}
  },
  {
   "cell_type": "code",
   "execution_count": 13,
   "metadata": {},
   "outputs": [
    {
     "output_type": "execute_result",
     "data": {
      "text/plain": [
       "[SchemaField('title', 'STRING', 'NULLABLE', 'Story title', (), None),\n",
       " SchemaField('url', 'STRING', 'NULLABLE', 'Story url', (), None),\n",
       " SchemaField('text', 'STRING', 'NULLABLE', 'Story or comment text', (), None),\n",
       " SchemaField('dead', 'BOOLEAN', 'NULLABLE', 'Is dead?', (), None),\n",
       " SchemaField('by', 'STRING', 'NULLABLE', \"The username of the item's author.\", (), None),\n",
       " SchemaField('score', 'INTEGER', 'NULLABLE', 'Story score', (), None),\n",
       " SchemaField('time', 'INTEGER', 'NULLABLE', 'Unix time', (), None),\n",
       " SchemaField('timestamp', 'TIMESTAMP', 'NULLABLE', 'Timestamp for the unix time', (), None),\n",
       " SchemaField('type', 'STRING', 'NULLABLE', 'Type of details (comment, comment_ranking, poll, story, job, pollopt)', (), None),\n",
       " SchemaField('id', 'INTEGER', 'NULLABLE', \"The item's unique id.\", (), None),\n",
       " SchemaField('parent', 'INTEGER', 'NULLABLE', 'Parent comment ID', (), None),\n",
       " SchemaField('descendants', 'INTEGER', 'NULLABLE', 'Number of story or poll descendants', (), None),\n",
       " SchemaField('ranking', 'INTEGER', 'NULLABLE', 'Comment ranking', (), None),\n",
       " SchemaField('deleted', 'BOOLEAN', 'NULLABLE', 'Is deleted?', (), None)]"
      ]
     },
     "metadata": {},
     "execution_count": 13
    }
   ],
   "source": [
    "# Print information on all the columns in the \"full\" table in the \"hacker_news\" dataset\n",
    "\n",
    "table.schema"
   ]
  },
  {
   "cell_type": "code",
   "execution_count": 14,
   "metadata": {},
   "outputs": [
    {
     "output_type": "execute_result",
     "data": {
      "text/plain": [
       "  title   url                                               text  dead  \\\n",
       "0  None  None  The trouble with computer security &quot;defen...  None   \n",
       "1  None  None  That doesn&#x27;t help much when you&#x27;re i...  None   \n",
       "2  None  None  Are device drivers <i>ever</i> updated, much l...  None   \n",
       "3  None  None  To be specific about my claim: throwing away t...  None   \n",
       "4  None  None  Meanwhile, San Francisco can&#x27;t muster the...  None   \n",
       "\n",
       "          by  score        time                 timestamp     type        id  \\\n",
       "0    Animats    NaN  1452382620 2016-01-09 23:37:00+00:00  comment  10873338   \n",
       "1  Grishnakh    NaN  1452382603 2016-01-09 23:36:43+00:00  comment  10873336   \n",
       "2    cbd1984    NaN  1452382579 2016-01-09 23:36:19+00:00  comment  10873334   \n",
       "3      JackC    NaN  1452382571 2016-01-09 23:36:11+00:00  comment  10873333   \n",
       "4   capkutay    NaN  1452382557 2016-01-09 23:35:57+00:00  comment  10873332   \n",
       "\n",
       "     parent  descendants  ranking deleted  \n",
       "0  10871222          NaN      NaN    None  \n",
       "1  10871800          NaN      NaN    None  \n",
       "2  10873317          NaN      NaN    None  \n",
       "3  10865548          NaN      NaN    None  \n",
       "4  10873211          NaN      NaN    None  "
      ],
      "text/html": "<div>\n<style scoped>\n    .dataframe tbody tr th:only-of-type {\n        vertical-align: middle;\n    }\n\n    .dataframe tbody tr th {\n        vertical-align: top;\n    }\n\n    .dataframe thead th {\n        text-align: right;\n    }\n</style>\n<table border=\"1\" class=\"dataframe\">\n  <thead>\n    <tr style=\"text-align: right;\">\n      <th></th>\n      <th>title</th>\n      <th>url</th>\n      <th>text</th>\n      <th>dead</th>\n      <th>by</th>\n      <th>score</th>\n      <th>time</th>\n      <th>timestamp</th>\n      <th>type</th>\n      <th>id</th>\n      <th>parent</th>\n      <th>descendants</th>\n      <th>ranking</th>\n      <th>deleted</th>\n    </tr>\n  </thead>\n  <tbody>\n    <tr>\n      <th>0</th>\n      <td>None</td>\n      <td>None</td>\n      <td>The trouble with computer security &amp;quot;defen...</td>\n      <td>None</td>\n      <td>Animats</td>\n      <td>NaN</td>\n      <td>1452382620</td>\n      <td>2016-01-09 23:37:00+00:00</td>\n      <td>comment</td>\n      <td>10873338</td>\n      <td>10871222</td>\n      <td>NaN</td>\n      <td>NaN</td>\n      <td>None</td>\n    </tr>\n    <tr>\n      <th>1</th>\n      <td>None</td>\n      <td>None</td>\n      <td>That doesn&amp;#x27;t help much when you&amp;#x27;re i...</td>\n      <td>None</td>\n      <td>Grishnakh</td>\n      <td>NaN</td>\n      <td>1452382603</td>\n      <td>2016-01-09 23:36:43+00:00</td>\n      <td>comment</td>\n      <td>10873336</td>\n      <td>10871800</td>\n      <td>NaN</td>\n      <td>NaN</td>\n      <td>None</td>\n    </tr>\n    <tr>\n      <th>2</th>\n      <td>None</td>\n      <td>None</td>\n      <td>Are device drivers &lt;i&gt;ever&lt;/i&gt; updated, much l...</td>\n      <td>None</td>\n      <td>cbd1984</td>\n      <td>NaN</td>\n      <td>1452382579</td>\n      <td>2016-01-09 23:36:19+00:00</td>\n      <td>comment</td>\n      <td>10873334</td>\n      <td>10873317</td>\n      <td>NaN</td>\n      <td>NaN</td>\n      <td>None</td>\n    </tr>\n    <tr>\n      <th>3</th>\n      <td>None</td>\n      <td>None</td>\n      <td>To be specific about my claim: throwing away t...</td>\n      <td>None</td>\n      <td>JackC</td>\n      <td>NaN</td>\n      <td>1452382571</td>\n      <td>2016-01-09 23:36:11+00:00</td>\n      <td>comment</td>\n      <td>10873333</td>\n      <td>10865548</td>\n      <td>NaN</td>\n      <td>NaN</td>\n      <td>None</td>\n    </tr>\n    <tr>\n      <th>4</th>\n      <td>None</td>\n      <td>None</td>\n      <td>Meanwhile, San Francisco can&amp;#x27;t muster the...</td>\n      <td>None</td>\n      <td>capkutay</td>\n      <td>NaN</td>\n      <td>1452382557</td>\n      <td>2016-01-09 23:35:57+00:00</td>\n      <td>comment</td>\n      <td>10873332</td>\n      <td>10873211</td>\n      <td>NaN</td>\n      <td>NaN</td>\n      <td>None</td>\n    </tr>\n  </tbody>\n</table>\n</div>"
     },
     "metadata": {},
     "execution_count": 14
    }
   ],
   "source": [
    "# Preview the first five lines of the \"full\" table\n",
    "\n",
    "client.list_rows(table, max_results=5).to_dataframe()"
   ]
  },
  {
   "cell_type": "code",
   "execution_count": 15,
   "metadata": {},
   "outputs": [
    {
     "output_type": "execute_result",
     "data": {
      "text/plain": [
       "          by\n",
       "0    Animats\n",
       "1  Grishnakh\n",
       "2    cbd1984\n",
       "3      JackC\n",
       "4   capkutay"
      ],
      "text/html": "<div>\n<style scoped>\n    .dataframe tbody tr th:only-of-type {\n        vertical-align: middle;\n    }\n\n    .dataframe tbody tr th {\n        vertical-align: top;\n    }\n\n    .dataframe thead th {\n        text-align: right;\n    }\n</style>\n<table border=\"1\" class=\"dataframe\">\n  <thead>\n    <tr style=\"text-align: right;\">\n      <th></th>\n      <th>by</th>\n    </tr>\n  </thead>\n  <tbody>\n    <tr>\n      <th>0</th>\n      <td>Animats</td>\n    </tr>\n    <tr>\n      <th>1</th>\n      <td>Grishnakh</td>\n    </tr>\n    <tr>\n      <th>2</th>\n      <td>cbd1984</td>\n    </tr>\n    <tr>\n      <th>3</th>\n      <td>JackC</td>\n    </tr>\n    <tr>\n      <th>4</th>\n      <td>capkutay</td>\n    </tr>\n  </tbody>\n</table>\n</div>"
     },
     "metadata": {},
     "execution_count": 15
    }
   ],
   "source": [
    "# Preview the first five entries in the \"by\" column of the \"full\" table\n",
    "\n",
    "client.list_rows(table, selected_fields=table.schema[4:5], max_results=5).to_dataframe()"
   ]
  },
  {
   "source": [
    "### **EXERCISE**"
   ],
   "cell_type": "markdown",
   "metadata": {}
  },
  {
   "cell_type": "code",
   "execution_count": 16,
   "metadata": {},
   "outputs": [],
   "source": [
    "# Fetch The DataSet\n",
    "\n",
    "from google.cloud import bigquery\n",
    "\n",
    "# Create a 'Client' object\n",
    "exclient = bigquery.Client()\n",
    "\n",
    "# Construct a reference to the 'chicago_crime' dataset\n",
    "exdataset_ref = client.dataset('chicago_crime', project='bigquery-public-data')\n",
    "\n",
    "# API request - fetch the dataset\n",
    "exdataset = client.get_dataset(exdataset_ref)"
   ]
  },
  {
   "source": [
    "**1] Count tables in the dataset**"
   ],
   "cell_type": "markdown",
   "metadata": {}
  },
  {
   "cell_type": "code",
   "execution_count": 17,
   "metadata": {},
   "outputs": [
    {
     "output_type": "stream",
     "name": "stdout",
     "text": [
      "crime\n"
     ]
    }
   ],
   "source": [
    "# List the tables in the dataset\n",
    "tables = list(exclient.list_tables(exdataset))\n",
    "\n",
    "for table in tables:\n",
    "    print(table.table_id)"
   ]
  },
  {
   "cell_type": "code",
   "execution_count": 18,
   "metadata": {},
   "outputs": [
    {
     "output_type": "stream",
     "name": "stdout",
     "text": [
      "1\n"
     ]
    }
   ],
   "source": [
    "# Count the number of tables in the dataset\n",
    "\n",
    "num_tables = len(tables)\n",
    "print(num_tables)"
   ]
  },
  {
   "source": [
    "**2] Explore the table schema**"
   ],
   "cell_type": "markdown",
   "metadata": {}
  },
  {
   "cell_type": "code",
   "execution_count": 19,
   "metadata": {},
   "outputs": [
    {
     "output_type": "execute_result",
     "data": {
      "text/plain": [
       "   unique_key case_number                      date                   block  \\\n",
       "0    10246123    HY434120 2015-09-19 00:01:00+00:00        107XX S AVENUE E   \n",
       "1    10249320    HY436757 2015-09-23 22:30:00+00:00    023XX N OAK PARK AVE   \n",
       "2    10251049    HY438471 2015-09-24 00:01:00+00:00  052XX N PITTSBURGH AVE   \n",
       "3    10289907    HY477895 2015-10-26 15:00:00+00:00         052XX W 63RD PL   \n",
       "4    10298702    HY487110 2015-11-02 21:00:00+00:00      043XX S KEELER AVE   \n",
       "\n",
       "   iucr         primary_type                     description  \\\n",
       "0  1152   DECEPTIVE PRACTICE           ILLEGAL USE CASH CARD   \n",
       "1  1360    CRIMINAL TRESPASS                      TO VEHICLE   \n",
       "2  1360    CRIMINAL TRESPASS                      TO VEHICLE   \n",
       "3  1185   DECEPTIVE PRACTICE  DECEPTIVE COLLECTION PRACTICES   \n",
       "4  0920  MOTOR VEHICLE THEFT                 ATT: AUTOMOBILE   \n",
       "\n",
       "     location_description  arrest  domestic  ...  ward  community_area  \\\n",
       "0                   OTHER   False     False  ...    10              52   \n",
       "1  VEHICLE NON-COMMERCIAL   False     False  ...    36              18   \n",
       "2                  STREET   False     False  ...    41              10   \n",
       "3               RESIDENCE   False     False  ...    13              64   \n",
       "4                  STREET   False     False  ...    14              57   \n",
       "\n",
       "   fbi_code  x_coordinate y_coordinate  year                updated_on  \\\n",
       "0        11     1203836.0    1834299.0  2015 2018-02-10 15:50:01+00:00   \n",
       "1        26     1130692.0    1914937.0  2015 2018-02-10 15:50:01+00:00   \n",
       "2        26     1120336.0    1933652.0  2015 2018-02-10 15:50:01+00:00   \n",
       "3        11     1142388.0    1862000.0  2015 2018-02-10 15:50:01+00:00   \n",
       "4        07     1149068.0    1875589.0  2015 2018-02-10 15:50:01+00:00   \n",
       "\n",
       "    latitude  longitude                       location  \n",
       "0  41.700006 -87.529244  (41.700006196, -87.529244454)  \n",
       "1  41.922853 -87.795223  (41.922853085, -87.795223066)  \n",
       "2  41.974381 -87.832874  (41.974381465, -87.832873852)  \n",
       "3  41.777377 -87.753561  (41.777377147, -87.753560657)  \n",
       "4  41.814541 -87.728721  (41.814541249, -87.728721044)  \n",
       "\n",
       "[5 rows x 22 columns]"
      ],
      "text/html": "<div>\n<style scoped>\n    .dataframe tbody tr th:only-of-type {\n        vertical-align: middle;\n    }\n\n    .dataframe tbody tr th {\n        vertical-align: top;\n    }\n\n    .dataframe thead th {\n        text-align: right;\n    }\n</style>\n<table border=\"1\" class=\"dataframe\">\n  <thead>\n    <tr style=\"text-align: right;\">\n      <th></th>\n      <th>unique_key</th>\n      <th>case_number</th>\n      <th>date</th>\n      <th>block</th>\n      <th>iucr</th>\n      <th>primary_type</th>\n      <th>description</th>\n      <th>location_description</th>\n      <th>arrest</th>\n      <th>domestic</th>\n      <th>...</th>\n      <th>ward</th>\n      <th>community_area</th>\n      <th>fbi_code</th>\n      <th>x_coordinate</th>\n      <th>y_coordinate</th>\n      <th>year</th>\n      <th>updated_on</th>\n      <th>latitude</th>\n      <th>longitude</th>\n      <th>location</th>\n    </tr>\n  </thead>\n  <tbody>\n    <tr>\n      <th>0</th>\n      <td>10246123</td>\n      <td>HY434120</td>\n      <td>2015-09-19 00:01:00+00:00</td>\n      <td>107XX S AVENUE E</td>\n      <td>1152</td>\n      <td>DECEPTIVE PRACTICE</td>\n      <td>ILLEGAL USE CASH CARD</td>\n      <td>OTHER</td>\n      <td>False</td>\n      <td>False</td>\n      <td>...</td>\n      <td>10</td>\n      <td>52</td>\n      <td>11</td>\n      <td>1203836.0</td>\n      <td>1834299.0</td>\n      <td>2015</td>\n      <td>2018-02-10 15:50:01+00:00</td>\n      <td>41.700006</td>\n      <td>-87.529244</td>\n      <td>(41.700006196, -87.529244454)</td>\n    </tr>\n    <tr>\n      <th>1</th>\n      <td>10249320</td>\n      <td>HY436757</td>\n      <td>2015-09-23 22:30:00+00:00</td>\n      <td>023XX N OAK PARK AVE</td>\n      <td>1360</td>\n      <td>CRIMINAL TRESPASS</td>\n      <td>TO VEHICLE</td>\n      <td>VEHICLE NON-COMMERCIAL</td>\n      <td>False</td>\n      <td>False</td>\n      <td>...</td>\n      <td>36</td>\n      <td>18</td>\n      <td>26</td>\n      <td>1130692.0</td>\n      <td>1914937.0</td>\n      <td>2015</td>\n      <td>2018-02-10 15:50:01+00:00</td>\n      <td>41.922853</td>\n      <td>-87.795223</td>\n      <td>(41.922853085, -87.795223066)</td>\n    </tr>\n    <tr>\n      <th>2</th>\n      <td>10251049</td>\n      <td>HY438471</td>\n      <td>2015-09-24 00:01:00+00:00</td>\n      <td>052XX N PITTSBURGH AVE</td>\n      <td>1360</td>\n      <td>CRIMINAL TRESPASS</td>\n      <td>TO VEHICLE</td>\n      <td>STREET</td>\n      <td>False</td>\n      <td>False</td>\n      <td>...</td>\n      <td>41</td>\n      <td>10</td>\n      <td>26</td>\n      <td>1120336.0</td>\n      <td>1933652.0</td>\n      <td>2015</td>\n      <td>2018-02-10 15:50:01+00:00</td>\n      <td>41.974381</td>\n      <td>-87.832874</td>\n      <td>(41.974381465, -87.832873852)</td>\n    </tr>\n    <tr>\n      <th>3</th>\n      <td>10289907</td>\n      <td>HY477895</td>\n      <td>2015-10-26 15:00:00+00:00</td>\n      <td>052XX W 63RD PL</td>\n      <td>1185</td>\n      <td>DECEPTIVE PRACTICE</td>\n      <td>DECEPTIVE COLLECTION PRACTICES</td>\n      <td>RESIDENCE</td>\n      <td>False</td>\n      <td>False</td>\n      <td>...</td>\n      <td>13</td>\n      <td>64</td>\n      <td>11</td>\n      <td>1142388.0</td>\n      <td>1862000.0</td>\n      <td>2015</td>\n      <td>2018-02-10 15:50:01+00:00</td>\n      <td>41.777377</td>\n      <td>-87.753561</td>\n      <td>(41.777377147, -87.753560657)</td>\n    </tr>\n    <tr>\n      <th>4</th>\n      <td>10298702</td>\n      <td>HY487110</td>\n      <td>2015-11-02 21:00:00+00:00</td>\n      <td>043XX S KEELER AVE</td>\n      <td>0920</td>\n      <td>MOTOR VEHICLE THEFT</td>\n      <td>ATT: AUTOMOBILE</td>\n      <td>STREET</td>\n      <td>False</td>\n      <td>False</td>\n      <td>...</td>\n      <td>14</td>\n      <td>57</td>\n      <td>07</td>\n      <td>1149068.0</td>\n      <td>1875589.0</td>\n      <td>2015</td>\n      <td>2018-02-10 15:50:01+00:00</td>\n      <td>41.814541</td>\n      <td>-87.728721</td>\n      <td>(41.814541249, -87.728721044)</td>\n    </tr>\n  </tbody>\n</table>\n<p>5 rows × 22 columns</p>\n</div>"
     },
     "metadata": {},
     "execution_count": 19
    }
   ],
   "source": [
    "#  Construct a reference to the \"full\" table\n",
    "table_ref = exdataset_ref.table('crime')\n",
    "\n",
    "# API request - fetch the table\n",
    "table = exclient.get_table(table_ref)\n",
    "\n",
    "client.list_rows(table, max_results=5).to_dataframe()"
   ]
  },
  {
   "cell_type": "code",
   "execution_count": 20,
   "metadata": {},
   "outputs": [
    {
     "output_type": "execute_result",
     "data": {
      "text/plain": [
       "[SchemaField('unique_key', 'INTEGER', 'REQUIRED', 'Unique identifier for the record.', (), None),\n",
       " SchemaField('case_number', 'STRING', 'NULLABLE', 'The Chicago Police Department RD Number (Records Division Number), which is unique to the incident.', (), None),\n",
       " SchemaField('date', 'TIMESTAMP', 'NULLABLE', 'Date when the incident occurred. this is sometimes a best estimate.', (), None),\n",
       " SchemaField('block', 'STRING', 'NULLABLE', 'The partially redacted address where the incident occurred, placing it on the same block as the actual address.', (), None),\n",
       " SchemaField('iucr', 'STRING', 'NULLABLE', 'The Illinois Unifrom Crime Reporting code. This is directly linked to the Primary Type and Description. See the list of IUCR codes at https://data.cityofchicago.org/d/c7ck-438e.', (), None),\n",
       " SchemaField('primary_type', 'STRING', 'NULLABLE', 'The primary description of the IUCR code.', (), None),\n",
       " SchemaField('description', 'STRING', 'NULLABLE', 'The secondary description of the IUCR code, a subcategory of the primary description.', (), None),\n",
       " SchemaField('location_description', 'STRING', 'NULLABLE', 'Description of the location where the incident occurred.', (), None),\n",
       " SchemaField('arrest', 'BOOLEAN', 'NULLABLE', 'Indicates whether an arrest was made.', (), None),\n",
       " SchemaField('domestic', 'BOOLEAN', 'NULLABLE', 'Indicates whether the incident was domestic-related as defined by the Illinois Domestic Violence Act.', (), None),\n",
       " SchemaField('beat', 'INTEGER', 'NULLABLE', 'Indicates the beat where the incident occurred. A beat is the smallest police geographic area – each beat has a dedicated police beat car. Three to five beats make up a police sector, and three sectors make up a police district. The Chicago Police Department has 22 police districts. See the beats at https://data.cityofchicago.org/d/aerh-rz74.', (), None),\n",
       " SchemaField('district', 'INTEGER', 'NULLABLE', 'Indicates the police district where the incident occurred. See the districts at https://data.cityofchicago.org/d/fthy-xz3r.', (), None),\n",
       " SchemaField('ward', 'INTEGER', 'NULLABLE', 'The ward (City Council district) where the incident occurred. See the wards at https://data.cityofchicago.org/d/sp34-6z76.', (), None),\n",
       " SchemaField('community_area', 'INTEGER', 'NULLABLE', 'Indicates the community area where the incident occurred. Chicago has 77 community areas. See the community areas at https://data.cityofchicago.org/d/cauq-8yn6.', (), None),\n",
       " SchemaField('fbi_code', 'STRING', 'NULLABLE', \"Indicates the crime classification as outlined in the FBI's National Incident-Based Reporting System (NIBRS). See the Chicago Police Department listing of these classifications at http://gis.chicagopolice.org/clearmap_crime_sums/crime_types.html.\", (), None),\n",
       " SchemaField('x_coordinate', 'FLOAT', 'NULLABLE', 'The x coordinate of the location where the incident occurred in State Plane Illinois East NAD 1983 projection. This location is shifted from the actual location for partial redaction but falls on the same block.', (), None),\n",
       " SchemaField('y_coordinate', 'FLOAT', 'NULLABLE', 'The y coordinate of the location where the incident occurred in State Plane Illinois East NAD 1983 projection. This location is shifted from the actual location for partial redaction but falls on the same block.', (), None),\n",
       " SchemaField('year', 'INTEGER', 'NULLABLE', 'Year the incident occurred.', (), None),\n",
       " SchemaField('updated_on', 'TIMESTAMP', 'NULLABLE', 'Date and time the record was last updated.', (), None),\n",
       " SchemaField('latitude', 'FLOAT', 'NULLABLE', 'The latitude of the location where the incident occurred. This location is shifted from the actual location for partial redaction but falls on the same block.', (), None),\n",
       " SchemaField('longitude', 'FLOAT', 'NULLABLE', 'The longitude of the location where the incident occurred. This location is shifted from the actual location for partial redaction but falls on the same block.', (), None),\n",
       " SchemaField('location', 'STRING', 'NULLABLE', 'The location where the incident occurred in a format that allows for creation of maps and other geographic operations on this data portal. This location is shifted from the actual location for partial redaction but falls on the same block.', (), None)]"
      ]
     },
     "metadata": {},
     "execution_count": 20
    }
   ],
   "source": [
    "table.schema"
   ]
  },
  {
   "source": [
    "**How many columns in the crime table have TIMESTAMP data?**"
   ],
   "cell_type": "markdown",
   "metadata": {}
  },
  {
   "cell_type": "code",
   "execution_count": 21,
   "metadata": {},
   "outputs": [
    {
     "output_type": "stream",
     "name": "stdout",
     "text": [
      "2\n"
     ]
    }
   ],
   "source": [
    "num_timestamp_fields = 2\n",
    "\n",
    "print(num_timestamp_fields)"
   ]
  },
  {
   "source": [
    "#### 3] Create a crime map"
   ],
   "cell_type": "markdown",
   "metadata": {}
  },
  {
   "cell_type": "code",
   "execution_count": 22,
   "metadata": {},
   "outputs": [
    {
     "output_type": "execute_result",
     "data": {
      "text/plain": [
       "   x_coordinate  y_coordinate\n",
       "0     1203836.0     1834299.0\n",
       "1     1130692.0     1914937.0\n",
       "2     1120336.0     1933652.0\n",
       "3     1142388.0     1862000.0\n",
       "4     1149068.0     1875589.0"
      ],
      "text/html": "<div>\n<style scoped>\n    .dataframe tbody tr th:only-of-type {\n        vertical-align: middle;\n    }\n\n    .dataframe tbody tr th {\n        vertical-align: top;\n    }\n\n    .dataframe thead th {\n        text-align: right;\n    }\n</style>\n<table border=\"1\" class=\"dataframe\">\n  <thead>\n    <tr style=\"text-align: right;\">\n      <th></th>\n      <th>x_coordinate</th>\n      <th>y_coordinate</th>\n    </tr>\n  </thead>\n  <tbody>\n    <tr>\n      <th>0</th>\n      <td>1203836.0</td>\n      <td>1834299.0</td>\n    </tr>\n    <tr>\n      <th>1</th>\n      <td>1130692.0</td>\n      <td>1914937.0</td>\n    </tr>\n    <tr>\n      <th>2</th>\n      <td>1120336.0</td>\n      <td>1933652.0</td>\n    </tr>\n    <tr>\n      <th>3</th>\n      <td>1142388.0</td>\n      <td>1862000.0</td>\n    </tr>\n    <tr>\n      <th>4</th>\n      <td>1149068.0</td>\n      <td>1875589.0</td>\n    </tr>\n  </tbody>\n</table>\n</div>"
     },
     "metadata": {},
     "execution_count": 22
    }
   ],
   "source": [
    "# what are the names of the two fields you likely need to pull out of the crime table to plot the crimes on a map?\n",
    "\n",
    "client.list_rows(table, selected_fields=table.schema[15:17], max_results=5).to_dataframe()"
   ]
  },
  {
   "cell_type": "code",
   "execution_count": 23,
   "metadata": {},
   "outputs": [
    {
     "output_type": "stream",
     "name": "stdout",
     "text": [
      "['x_coordinate', 'y_coordinate']\n"
     ]
    }
   ],
   "source": [
    "fields_for_plotting = ['x_coordinate', 'y_coordinate']\n",
    "\n",
    "print(fields_for_plotting)"
   ]
  }
 ]
}