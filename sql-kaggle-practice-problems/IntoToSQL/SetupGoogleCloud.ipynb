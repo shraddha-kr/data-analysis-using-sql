{
 "cells": [
  {
   "cell_type": "markdown",
   "metadata": {},
   "source": [
    "**REFERENCES:**\n",
    "\n",
    "Tutorial - https://www.kaggle.com/dansbecker/getting-started-with-sql-and-bigquery\n",
    "\n",
    "Google Cloud Setup - https://codelabs.developers.google.com/codelabs/cloud-bigquery-python#6\n",
    "\n",
    "Using Local Jupyter Notebook with Google BigQuery API - https://jingsblog.com/2018/11/27/connect-your-jupyter-notebook-to-the-bigquery/"
   ]
  },
  {
   "cell_type": "code",
   "execution_count": 1,
   "metadata": {},
   "outputs": [],
   "source": [
    "# Pointing the json key file of google cloud service account to local copy\n",
    "import os\n",
    "\n",
    "#os.environ['GOOGLE_APPLICATION_CREDENTIALS'] ='****.json'"
   ]
  },
  {
   "cell_type": "code",
   "execution_count": 2,
   "metadata": {},
   "outputs": [
    {
     "output_type": "execute_result",
     "data": {
      "text/plain": [
       "                title  unique_words\n",
       "0              hamlet          5318\n",
       "1          kinghenryv          5104\n",
       "2           cymbeline          4875\n",
       "3  troilusandcressida          4795\n",
       "4            kinglear          4784"
      ],
      "text/html": "<div>\n<style scoped>\n    .dataframe tbody tr th:only-of-type {\n        vertical-align: middle;\n    }\n\n    .dataframe tbody tr th {\n        vertical-align: top;\n    }\n\n    .dataframe thead th {\n        text-align: right;\n    }\n</style>\n<table border=\"1\" class=\"dataframe\">\n  <thead>\n    <tr style=\"text-align: right;\">\n      <th></th>\n      <th>title</th>\n      <th>unique_words</th>\n    </tr>\n  </thead>\n  <tbody>\n    <tr>\n      <th>0</th>\n      <td>hamlet</td>\n      <td>5318</td>\n    </tr>\n    <tr>\n      <th>1</th>\n      <td>kinghenryv</td>\n      <td>5104</td>\n    </tr>\n    <tr>\n      <th>2</th>\n      <td>cymbeline</td>\n      <td>4875</td>\n    </tr>\n    <tr>\n      <th>3</th>\n      <td>troilusandcressida</td>\n      <td>4795</td>\n    </tr>\n    <tr>\n      <th>4</th>\n      <td>kinglear</td>\n      <td>4784</td>\n    </tr>\n  </tbody>\n</table>\n</div>"
     },
     "metadata": {},
     "execution_count": 2
    }
   ],
   "source": [
    "# Import google cloud client library\n",
    "from google.cloud import bigquery\n",
    "import pandas as pd\n",
    " \n",
    "# Instantiates a client object for BigQuery Service\n",
    "client = bigquery.Client()\n",
    "\n",
    "QUERY = \"\"\"\n",
    "    SELECT corpus AS title, COUNT(word) AS unique_words\n",
    "    FROM `bigquery-public-data.samples.shakespeare`\n",
    "    GROUP BY title\n",
    "    ORDER BY unique_words\n",
    "    DESC LIMIT 10\n",
    "\"\"\"\n",
    "# results = client.query(QUERY)\n",
    "# for row in results:\n",
    "#     title = row['title']\n",
    "#     unique_words = row['unique_words']\n",
    "#     print(f'{title:<20} | {unique_words}')\n",
    "\n",
    "# API Request\n",
    "query_data = client.query(QUERY)\n",
    "\n",
    "# Turn the data into a Pandas DataFrame\n",
    "df = query_data.to_dataframe()\n",
    "\n",
    "# Display the results\n",
    "df.head()"
   ]
  }
 ],
 "metadata": {
  "hide_input": false,
  "kernelspec": {
   "display_name": "Python 3",
   "language": "python",
   "name": "python3"
  },
  "language_info": {
   "codemirror_mode": {
    "name": "ipython",
    "version": 3
   },
   "file_extension": ".py",
   "mimetype": "text/x-python",
   "name": "python",
   "nbconvert_exporter": "python",
   "pygments_lexer": "ipython3",
   "version": "3.7.9-final"
  },
  "toc": {
   "base_numbering": 1,
   "nav_menu": {},
   "number_sections": true,
   "sideBar": true,
   "skip_h1_title": false,
   "title_cell": "Table of Contents",
   "title_sidebar": "Contents",
   "toc_cell": false,
   "toc_position": {},
   "toc_section_display": true,
   "toc_window_display": false
  },
  "varInspector": {
   "cols": {
    "lenName": 16,
    "lenType": 16,
    "lenVar": 40
   },
   "kernels_config": {
    "python": {
     "delete_cmd_postfix": "",
     "delete_cmd_prefix": "del ",
     "library": "var_list.py",
     "varRefreshCmd": "print(var_dic_list())"
    },
    "r": {
     "delete_cmd_postfix": ") ",
     "delete_cmd_prefix": "rm(",
     "library": "var_list.r",
     "varRefreshCmd": "cat(var_dic_list()) "
    }
   },
   "types_to_exclude": [
    "module",
    "function",
    "builtin_function_or_method",
    "instance",
    "_Feature"
   ],
   "window_display": false
  }
 },
 "nbformat": 4,
 "nbformat_minor": 2
}