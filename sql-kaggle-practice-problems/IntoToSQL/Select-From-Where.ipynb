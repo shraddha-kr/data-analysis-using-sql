{
 "metadata": {
  "language_info": {
   "codemirror_mode": {
    "name": "ipython",
    "version": 3
   },
   "file_extension": ".py",
   "mimetype": "text/x-python",
   "name": "python",
   "nbconvert_exporter": "python",
   "pygments_lexer": "ipython3",
   "version": "3.7.9-final"
  },
  "orig_nbformat": 2,
  "kernelspec": {
   "name": "python3",
   "display_name": "Python 3",
   "language": "python"
  }
 },
 "nbformat": 4,
 "nbformat_minor": 2,
 "cells": [
  {
   "source": [
    "### Select, From & Where"
   ],
   "cell_type": "markdown",
   "metadata": {}
  },
  {
   "cell_type": "code",
   "execution_count": 1,
   "metadata": {},
   "outputs": [],
   "source": [
    "# Pointing the json key file of google cloud service account to local copy\n",
    "import os\n",
    "\n",
    "#os.environ['GOOGLE_APPLICATION_CREDENTIALS'] ='******.json'"
   ]
  },
  {
   "cell_type": "code",
   "execution_count": 2,
   "metadata": {},
   "outputs": [],
   "source": [
    "# Import google cloud client library\n",
    "from google.cloud import bigquery\n",
    "import pandas as pd\n",
    " \n",
    "# Instantiates a client object for BigQuery Service\n",
    "client = bigquery.Client()"
   ]
  },
  {
   "cell_type": "code",
   "execution_count": 3,
   "metadata": {},
   "outputs": [
    {
     "output_type": "execute_result",
     "data": {
      "text/plain": [
       "      city\n",
       "0    BROWN\n",
       "1    BROWN\n",
       "2    BROWN\n",
       "3    BROWN\n",
       "4  Houston"
      ],
      "text/html": "<div>\n<style scoped>\n    .dataframe tbody tr th:only-of-type {\n        vertical-align: middle;\n    }\n\n    .dataframe tbody tr th {\n        vertical-align: top;\n    }\n\n    .dataframe thead th {\n        text-align: right;\n    }\n</style>\n<table border=\"1\" class=\"dataframe\">\n  <thead>\n    <tr style=\"text-align: right;\">\n      <th></th>\n      <th>city</th>\n    </tr>\n  </thead>\n  <tbody>\n    <tr>\n      <th>0</th>\n      <td>BROWN</td>\n    </tr>\n    <tr>\n      <th>1</th>\n      <td>BROWN</td>\n    </tr>\n    <tr>\n      <th>2</th>\n      <td>BROWN</td>\n    </tr>\n    <tr>\n      <th>3</th>\n      <td>BROWN</td>\n    </tr>\n    <tr>\n      <th>4</th>\n      <td>Houston</td>\n    </tr>\n  </tbody>\n</table>\n</div>"
     },
     "metadata": {},
     "execution_count": 3
    }
   ],
   "source": [
    "# Query to select all the items from the \"city\" column where the \"country\" column is 'US'\n",
    "query = \"\"\"\n",
    "        SELECT city\n",
    "        FROM `bigquery-public-data.openaq.global_air_quality`\n",
    "        WHERE country = 'US'\n",
    "        \"\"\"\n",
    "\n",
    "# API Request\n",
    "query_data = client.query(query)\n",
    "\n",
    "# Turn the data into a Pandas DataFrame\n",
    "df = query_data.to_dataframe()\n",
    "\n",
    "# Display the results\n",
    "df.head()"
   ]
  },
  {
   "cell_type": "code",
   "execution_count": 4,
   "metadata": {},
   "outputs": [
    {
     "output_type": "execute_result",
     "data": {
      "text/plain": [
       "Phoenix-Mesa-Scottsdale                     88\n",
       "Houston                                     82\n",
       "Los Angeles-Long Beach-Santa Ana            68\n",
       "Riverside-San Bernardino-Ontario            60\n",
       "New York-Northern New Jersey-Long Island    60\n",
       "Name: city, dtype: int64"
      ]
     },
     "metadata": {},
     "execution_count": 4
    }
   ],
   "source": [
    "# What five cities have the most measurements?\n",
    "\n",
    "df.city.value_counts().head()"
   ]
  },
  {
   "cell_type": "code",
   "execution_count": 5,
   "metadata": {},
   "outputs": [
    {
     "output_type": "stream",
     "name": "stdout",
     "text": [
      "This query will process 446879689 bytes.\n"
     ]
    }
   ],
   "source": [
    "# Query to get the score column from every row where the type column has value \"job\"\n",
    "query = \"\"\"\n",
    "        SELECT score, title\n",
    "        FROM `bigquery-public-data.hacker_news.full`\n",
    "        WHERE type = \"job\" \n",
    "        \"\"\"\n",
    "\n",
    "# Create a QueryJobConfig object to estimate size of query without running it\n",
    "dry_run_config = bigquery.QueryJobConfig(dry_run=True)\n",
    "\n",
    "# API request - dry run query to estimate costs\n",
    "dry_run_query_job = client.query(query, job_config=dry_run_config)\n",
    "\n",
    "print(\"This query will process {} bytes.\".format(dry_run_query_job.total_bytes_processed))"
   ]
  },
  {
   "cell_type": "code",
   "execution_count": 6,
   "metadata": {},
   "outputs": [
    {
     "output_type": "execute_result",
     "data": {
      "text/plain": [
       "       score                                              title\n",
       "0        1.0            Y Combinator Is Hiring a Batch Director\n",
       "1        1.0  BillForward (YC S14) Is Hiring Developers and ...\n",
       "2        1.0       70M Jobs (YC S17) Seeking Head of Operations\n",
       "3        1.0  Disqus (SF) is seeking an inhouse technical re...\n",
       "4        1.0  SoundFocus (YC S13) is hiring an Industrial De...\n",
       "...      ...                                                ...\n",
       "13569    5.0  Mixpanel - Looking for Python / Javascript hac...\n",
       "13570    5.0  Mertado (YC W10) Looking for awesome Engineers...\n",
       "13571    5.0  Love travel? Awesome at UI/UX design? Adioso (...\n",
       "13572    6.0                 Airbnb - Fraud Management Engineer\n",
       "13573   11.0  Scoopler is Hiring: Join the real-time Revolut...\n",
       "\n",
       "[13574 rows x 2 columns]"
      ],
      "text/html": "<div>\n<style scoped>\n    .dataframe tbody tr th:only-of-type {\n        vertical-align: middle;\n    }\n\n    .dataframe tbody tr th {\n        vertical-align: top;\n    }\n\n    .dataframe thead th {\n        text-align: right;\n    }\n</style>\n<table border=\"1\" class=\"dataframe\">\n  <thead>\n    <tr style=\"text-align: right;\">\n      <th></th>\n      <th>score</th>\n      <th>title</th>\n    </tr>\n  </thead>\n  <tbody>\n    <tr>\n      <th>0</th>\n      <td>1.0</td>\n      <td>Y Combinator Is Hiring a Batch Director</td>\n    </tr>\n    <tr>\n      <th>1</th>\n      <td>1.0</td>\n      <td>BillForward (YC S14) Is Hiring Developers and ...</td>\n    </tr>\n    <tr>\n      <th>2</th>\n      <td>1.0</td>\n      <td>70M Jobs (YC S17) Seeking Head of Operations</td>\n    </tr>\n    <tr>\n      <th>3</th>\n      <td>1.0</td>\n      <td>Disqus (SF) is seeking an inhouse technical re...</td>\n    </tr>\n    <tr>\n      <th>4</th>\n      <td>1.0</td>\n      <td>SoundFocus (YC S13) is hiring an Industrial De...</td>\n    </tr>\n    <tr>\n      <th>...</th>\n      <td>...</td>\n      <td>...</td>\n    </tr>\n    <tr>\n      <th>13569</th>\n      <td>5.0</td>\n      <td>Mixpanel - Looking for Python / Javascript hac...</td>\n    </tr>\n    <tr>\n      <th>13570</th>\n      <td>5.0</td>\n      <td>Mertado (YC W10) Looking for awesome Engineers...</td>\n    </tr>\n    <tr>\n      <th>13571</th>\n      <td>5.0</td>\n      <td>Love travel? Awesome at UI/UX design? Adioso (...</td>\n    </tr>\n    <tr>\n      <th>13572</th>\n      <td>6.0</td>\n      <td>Airbnb - Fraud Management Engineer</td>\n    </tr>\n    <tr>\n      <th>13573</th>\n      <td>11.0</td>\n      <td>Scoopler is Hiring: Join the real-time Revolut...</td>\n    </tr>\n  </tbody>\n</table>\n<p>13574 rows × 2 columns</p>\n</div>"
     },
     "metadata": {},
     "execution_count": 6
    }
   ],
   "source": [
    "# Only run the query if it's less than 1 MB\n",
    "ONE_MB = 1000*1000\n",
    "safe_config = bigquery.QueryJobConfig(maximum_bytes_billed=ONE_MB)\n",
    "\n",
    "# Set up the query (will only run if it's less than 1 MB)\n",
    "safe_query_job = client.query(query, job_config=safe_config)\n",
    "\n",
    "# API request - try to run the query, and return a pandas DataFrame\n",
    "safe_query_job.to_dataframe()"
   ]
  },
  {
   "cell_type": "code",
   "execution_count": 7,
   "metadata": {},
   "outputs": [
    {
     "output_type": "execute_result",
     "data": {
      "text/plain": [
       "1.8527758527758529"
      ]
     },
     "metadata": {},
     "execution_count": 7
    }
   ],
   "source": [
    "\n",
    "\n",
    "# Only run the query if it's less than 1 GB\n",
    "ONE_GB = 1000*1000*1000\n",
    "safe_config = bigquery.QueryJobConfig(maximum_bytes_billed=ONE_GB)\n",
    "\n",
    "# Set up the query (will only run if it's less than 1 GB)\n",
    "safe_query_job = client.query(query, job_config=safe_config)\n",
    "\n",
    "# API request - try to run the query, and return a pandas DataFrame\n",
    "job_post_scores = safe_query_job.to_dataframe()\n",
    "\n",
    "# Print average score for job posts\n",
    "job_post_scores.score.mean()\n",
    "\n"
   ]
  },
  {
   "source": [
    "### **EXERCISE**"
   ],
   "cell_type": "markdown",
   "metadata": {}
  },
  {
   "source": [
    "#### **1] Introduction to the DataSet **"
   ],
   "cell_type": "markdown",
   "metadata": {}
  },
  {
   "cell_type": "code",
   "execution_count": 8,
   "metadata": {},
   "outputs": [
    {
     "output_type": "execute_result",
     "data": {
      "text/plain": [
       "                        location       city country pollutant   value  \\\n",
       "0  BTM Layout, Bengaluru - KSPCB  Bengaluru      IN        co  910.00   \n",
       "1  BTM Layout, Bengaluru - KSPCB  Bengaluru      IN       no2  131.87   \n",
       "2  BTM Layout, Bengaluru - KSPCB  Bengaluru      IN        o3   15.57   \n",
       "3  BTM Layout, Bengaluru - KSPCB  Bengaluru      IN      pm25   45.62   \n",
       "4  BTM Layout, Bengaluru - KSPCB  Bengaluru      IN       so2    4.49   \n",
       "\n",
       "                  timestamp   unit source_name   latitude  longitude  \\\n",
       "0 2018-02-22 03:00:00+00:00  µg/m³        CPCB  12.912811   77.60922   \n",
       "1 2018-02-22 03:00:00+00:00  µg/m³        CPCB  12.912811   77.60922   \n",
       "2 2018-02-22 03:00:00+00:00  µg/m³        CPCB  12.912811   77.60922   \n",
       "3 2018-02-22 03:00:00+00:00  µg/m³        CPCB  12.912811   77.60922   \n",
       "4 2018-02-22 03:00:00+00:00  µg/m³        CPCB  12.912811   77.60922   \n",
       "\n",
       "   averaged_over_in_hours  \n",
       "0                    0.25  \n",
       "1                    0.25  \n",
       "2                    0.25  \n",
       "3                    0.25  \n",
       "4                    0.25  "
      ],
      "text/html": "<div>\n<style scoped>\n    .dataframe tbody tr th:only-of-type {\n        vertical-align: middle;\n    }\n\n    .dataframe tbody tr th {\n        vertical-align: top;\n    }\n\n    .dataframe thead th {\n        text-align: right;\n    }\n</style>\n<table border=\"1\" class=\"dataframe\">\n  <thead>\n    <tr style=\"text-align: right;\">\n      <th></th>\n      <th>location</th>\n      <th>city</th>\n      <th>country</th>\n      <th>pollutant</th>\n      <th>value</th>\n      <th>timestamp</th>\n      <th>unit</th>\n      <th>source_name</th>\n      <th>latitude</th>\n      <th>longitude</th>\n      <th>averaged_over_in_hours</th>\n    </tr>\n  </thead>\n  <tbody>\n    <tr>\n      <th>0</th>\n      <td>BTM Layout, Bengaluru - KSPCB</td>\n      <td>Bengaluru</td>\n      <td>IN</td>\n      <td>co</td>\n      <td>910.00</td>\n      <td>2018-02-22 03:00:00+00:00</td>\n      <td>µg/m³</td>\n      <td>CPCB</td>\n      <td>12.912811</td>\n      <td>77.60922</td>\n      <td>0.25</td>\n    </tr>\n    <tr>\n      <th>1</th>\n      <td>BTM Layout, Bengaluru - KSPCB</td>\n      <td>Bengaluru</td>\n      <td>IN</td>\n      <td>no2</td>\n      <td>131.87</td>\n      <td>2018-02-22 03:00:00+00:00</td>\n      <td>µg/m³</td>\n      <td>CPCB</td>\n      <td>12.912811</td>\n      <td>77.60922</td>\n      <td>0.25</td>\n    </tr>\n    <tr>\n      <th>2</th>\n      <td>BTM Layout, Bengaluru - KSPCB</td>\n      <td>Bengaluru</td>\n      <td>IN</td>\n      <td>o3</td>\n      <td>15.57</td>\n      <td>2018-02-22 03:00:00+00:00</td>\n      <td>µg/m³</td>\n      <td>CPCB</td>\n      <td>12.912811</td>\n      <td>77.60922</td>\n      <td>0.25</td>\n    </tr>\n    <tr>\n      <th>3</th>\n      <td>BTM Layout, Bengaluru - KSPCB</td>\n      <td>Bengaluru</td>\n      <td>IN</td>\n      <td>pm25</td>\n      <td>45.62</td>\n      <td>2018-02-22 03:00:00+00:00</td>\n      <td>µg/m³</td>\n      <td>CPCB</td>\n      <td>12.912811</td>\n      <td>77.60922</td>\n      <td>0.25</td>\n    </tr>\n    <tr>\n      <th>4</th>\n      <td>BTM Layout, Bengaluru - KSPCB</td>\n      <td>Bengaluru</td>\n      <td>IN</td>\n      <td>so2</td>\n      <td>4.49</td>\n      <td>2018-02-22 03:00:00+00:00</td>\n      <td>µg/m³</td>\n      <td>CPCB</td>\n      <td>12.912811</td>\n      <td>77.60922</td>\n      <td>0.25</td>\n    </tr>\n  </tbody>\n</table>\n</div>"
     },
     "metadata": {},
     "execution_count": 8
    }
   ],
   "source": [
    "from google.cloud import bigquery\n",
    "\n",
    "# Create a 'Client' object\n",
    "client = bigquery.Client()\n",
    "\n",
    "# Construct a reference to the 'openaq' dataset\n",
    "dataset_ref = client.dataset('openaq', project='bigquery-public-data')\n",
    "\n",
    "# API request - fetch the dataset\n",
    "dataset = client.get_dataset(dataset_ref)\n",
    "\n",
    "# Construct a reference to the 'global_air_quality' table\n",
    "table_ref = dataset_ref.table('global_air_quality')\n",
    "\n",
    "# API request - fetch the table\n",
    "table = client.get_table(table_ref)\n",
    "\n",
    "# Preview the first five lines of the 'global_air_quality' table\n",
    "client.list_rows(table, max_results=5).to_dataframe()"
   ]
  },
  {
   "source": [
    "#### 2] Units of Measurement\n",
    "\n",
    "* Which countries have reported pollution levels in units of \"ppm\"? In the code cell below, set first_query to an SQL query that pulls the appropriate entries from the country column."
   ],
   "cell_type": "markdown",
   "metadata": {}
  },
  {
   "cell_type": "code",
   "execution_count": 12,
   "metadata": {},
   "outputs": [
    {
     "output_type": "execute_result",
     "data": {
      "text/plain": [
       "  country\n",
       "0      US\n",
       "1      CL\n",
       "2      AU\n",
       "3      BM\n",
       "4      MX"
      ],
      "text/html": "<div>\n<style scoped>\n    .dataframe tbody tr th:only-of-type {\n        vertical-align: middle;\n    }\n\n    .dataframe tbody tr th {\n        vertical-align: top;\n    }\n\n    .dataframe thead th {\n        text-align: right;\n    }\n</style>\n<table border=\"1\" class=\"dataframe\">\n  <thead>\n    <tr style=\"text-align: right;\">\n      <th></th>\n      <th>country</th>\n    </tr>\n  </thead>\n  <tbody>\n    <tr>\n      <th>0</th>\n      <td>US</td>\n    </tr>\n    <tr>\n      <th>1</th>\n      <td>CL</td>\n    </tr>\n    <tr>\n      <th>2</th>\n      <td>AU</td>\n    </tr>\n    <tr>\n      <th>3</th>\n      <td>BM</td>\n    </tr>\n    <tr>\n      <th>4</th>\n      <td>MX</td>\n    </tr>\n  </tbody>\n</table>\n</div>"
     },
     "metadata": {},
     "execution_count": 12
    }
   ],
   "source": [
    "# Query to select countries with units of \"ppm\"\n",
    "first_query = \"\"\"\n",
    "        SELECT DISTINCT country \n",
    "        FROM `bigquery-public-data.openaq.global_air_quality`\n",
    "        WHERE unit = 'ppm'\n",
    "        \"\"\"\n",
    "\n",
    "# Set up the query (cancel the query if it would use too much of \n",
    "# your quota, with the limit set to 10 GB)\n",
    "safe_config = bigquery.QueryJobConfig(maximum_bytes_billed=10**10)\n",
    "first_query_job = client.query(first_query, job_config=safe_config)\n",
    "\n",
    "# API request - run the query, and return a pandas DataFrame\n",
    "first_results = first_query_job.to_dataframe()\n",
    "\n",
    "# View top few rows of results\n",
    "first_results.head()"
   ]
  },
  {
   "source": [
    "#### 3] High Air Quality\n",
    "* Which pollution levels were reported to be exactly 0? "
   ],
   "cell_type": "markdown",
   "metadata": {}
  },
  {
   "cell_type": "code",
   "execution_count": 14,
   "metadata": {},
   "outputs": [
    {
     "output_type": "execute_result",
     "data": {
      "text/plain": [
       "                                        location     city country pollutant  \\\n",
       "0                     Victoria Memorial - WBSPCB  Kolkata      IN      pm25   \n",
       "1  Rabindra Bharati University, Kolkata - WBSPCB  Kolkata      IN       so2   \n",
       "2                   Zamość ul. Hrubieszowska 69A   Zamość      PL       no2   \n",
       "3                               Końskie, MOBILNA  Końskie      PL      pm10   \n",
       "4                               Końskie, MOBILNA  Końskie      PL      pm25   \n",
       "\n",
       "   value                 timestamp   unit source_name   latitude  longitude  \\\n",
       "0    0.0 2017-10-16 20:45:00+00:00  µg/m³        CPCB  22.572645  88.363890   \n",
       "1    0.0 2017-10-28 14:30:00+00:00  µg/m³        CPCB  22.627874  88.380400   \n",
       "2    0.0 2020-05-19 05:00:00+00:00  µg/m³        GIOS  50.716630  23.290247   \n",
       "3    0.0 2018-12-21 13:00:00+00:00  µg/m³        GIOS  51.189526  20.408892   \n",
       "4    0.0 2018-12-21 13:00:00+00:00  µg/m³        GIOS  51.189526  20.408892   \n",
       "\n",
       "   averaged_over_in_hours  \n",
       "0                    0.25  \n",
       "1                    0.25  \n",
       "2                     NaN  \n",
       "3                     NaN  \n",
       "4                     NaN  "
      ],
      "text/html": "<div>\n<style scoped>\n    .dataframe tbody tr th:only-of-type {\n        vertical-align: middle;\n    }\n\n    .dataframe tbody tr th {\n        vertical-align: top;\n    }\n\n    .dataframe thead th {\n        text-align: right;\n    }\n</style>\n<table border=\"1\" class=\"dataframe\">\n  <thead>\n    <tr style=\"text-align: right;\">\n      <th></th>\n      <th>location</th>\n      <th>city</th>\n      <th>country</th>\n      <th>pollutant</th>\n      <th>value</th>\n      <th>timestamp</th>\n      <th>unit</th>\n      <th>source_name</th>\n      <th>latitude</th>\n      <th>longitude</th>\n      <th>averaged_over_in_hours</th>\n    </tr>\n  </thead>\n  <tbody>\n    <tr>\n      <th>0</th>\n      <td>Victoria Memorial - WBSPCB</td>\n      <td>Kolkata</td>\n      <td>IN</td>\n      <td>pm25</td>\n      <td>0.0</td>\n      <td>2017-10-16 20:45:00+00:00</td>\n      <td>µg/m³</td>\n      <td>CPCB</td>\n      <td>22.572645</td>\n      <td>88.363890</td>\n      <td>0.25</td>\n    </tr>\n    <tr>\n      <th>1</th>\n      <td>Rabindra Bharati University, Kolkata - WBSPCB</td>\n      <td>Kolkata</td>\n      <td>IN</td>\n      <td>so2</td>\n      <td>0.0</td>\n      <td>2017-10-28 14:30:00+00:00</td>\n      <td>µg/m³</td>\n      <td>CPCB</td>\n      <td>22.627874</td>\n      <td>88.380400</td>\n      <td>0.25</td>\n    </tr>\n    <tr>\n      <th>2</th>\n      <td>Zamość ul. Hrubieszowska 69A</td>\n      <td>Zamość</td>\n      <td>PL</td>\n      <td>no2</td>\n      <td>0.0</td>\n      <td>2020-05-19 05:00:00+00:00</td>\n      <td>µg/m³</td>\n      <td>GIOS</td>\n      <td>50.716630</td>\n      <td>23.290247</td>\n      <td>NaN</td>\n    </tr>\n    <tr>\n      <th>3</th>\n      <td>Końskie, MOBILNA</td>\n      <td>Końskie</td>\n      <td>PL</td>\n      <td>pm10</td>\n      <td>0.0</td>\n      <td>2018-12-21 13:00:00+00:00</td>\n      <td>µg/m³</td>\n      <td>GIOS</td>\n      <td>51.189526</td>\n      <td>20.408892</td>\n      <td>NaN</td>\n    </tr>\n    <tr>\n      <th>4</th>\n      <td>Końskie, MOBILNA</td>\n      <td>Końskie</td>\n      <td>PL</td>\n      <td>pm25</td>\n      <td>0.0</td>\n      <td>2018-12-21 13:00:00+00:00</td>\n      <td>µg/m³</td>\n      <td>GIOS</td>\n      <td>51.189526</td>\n      <td>20.408892</td>\n      <td>NaN</td>\n    </tr>\n  </tbody>\n</table>\n</div>"
     },
     "metadata": {},
     "execution_count": 14
    }
   ],
   "source": [
    "# Query to select all columns where pollution levels are exactly 0\n",
    "zero_pollution_query = \"\"\"\n",
    "                        SELECT * \n",
    "                        FROM `bigquery-public-data.openaq.global_air_quality`\n",
    "                        WHERE value = 0\n",
    "                       \"\"\"\n",
    "\n",
    "# Set up the query\n",
    "safe_config = bigquery.QueryJobConfig(maximum_bytes_billed=10**10)\n",
    "query_job = client.query(zero_pollution_query, job_config=safe_config)\n",
    "\n",
    "# API request - run the query and return a pandas DataFrame\n",
    "zero_pollution_results = query_job.to_dataframe() \n",
    "\n",
    "zero_pollution_results.head()"
   ]
  }
 ]
}