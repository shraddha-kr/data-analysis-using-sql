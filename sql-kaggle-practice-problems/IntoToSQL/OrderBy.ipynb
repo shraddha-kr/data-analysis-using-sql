{
 "metadata": {
  "language_info": {
   "codemirror_mode": {
    "name": "ipython",
    "version": 3
   },
   "file_extension": ".py",
   "mimetype": "text/x-python",
   "name": "python",
   "nbconvert_exporter": "python",
   "pygments_lexer": "ipython3",
   "version": "3.7.9-final"
  },
  "orig_nbformat": 2,
  "kernelspec": {
   "name": "python3",
   "display_name": "Python 3",
   "language": "python"
  }
 },
 "nbformat": 4,
 "nbformat_minor": 2,
 "cells": [
  {
   "source": [
    "### ORDER BY\n",
    "\n",
    "![title](./img/orby_1.png)\n",
    "![title](./img/orby_2.png)\n",
    "![title](./img/dates_1.png)\n",
    "![title](./img/extr_1.png)\n",
    "![title](./img/extr_2.png)"
   ],
   "cell_type": "markdown",
   "metadata": {}
  },
  {
   "cell_type": "code",
   "execution_count": 1,
   "metadata": {},
   "outputs": [],
   "source": [
    "# Pointing the json key file of google cloud service account to local copy\n",
    "import os\n",
    "\n",
    "os.environ['GOOGLE_APPLICATION_CREDENTIALS'] ='key.json'"
   ]
  },
  {
   "cell_type": "code",
   "execution_count": 2,
   "metadata": {},
   "outputs": [
    {
     "output_type": "execute_result",
     "data": {
      "text/plain": [
       "   state_number state_name  consecutive_number  \\\n",
       "0            19       Iowa              190204   \n",
       "1            19       Iowa              190233   \n",
       "2            19       Iowa              190179   \n",
       "3            19       Iowa              190248   \n",
       "4            19       Iowa              190231   \n",
       "\n",
       "   number_of_vehicle_forms_submitted_all  \\\n",
       "0                                      1   \n",
       "1                                      1   \n",
       "2                                      1   \n",
       "3                                      1   \n",
       "4                                      1   \n",
       "\n",
       "   number_of_motor_vehicles_in_transport_mvit  \\\n",
       "0                                           1   \n",
       "1                                           1   \n",
       "2                                           1   \n",
       "3                                           1   \n",
       "4                                           1   \n",
       "\n",
       "   number_of_parked_working_vehicles  \\\n",
       "0                                  0   \n",
       "1                                  0   \n",
       "2                                  0   \n",
       "3                                  0   \n",
       "4                                  0   \n",
       "\n",
       "   number_of_forms_submitted_for_persons_not_in_motor_vehicles  \\\n",
       "0                                                  0             \n",
       "1                                                  0             \n",
       "2                                                  0             \n",
       "3                                                  0             \n",
       "4                                                  0             \n",
       "\n",
       "   number_of_persons_not_in_motor_vehicles_in_transport_mvit  \\\n",
       "0                                                  0           \n",
       "1                                                  0           \n",
       "2                                                  0           \n",
       "3                                                  0           \n",
       "4                                                  0           \n",
       "\n",
       "   number_of_persons_in_motor_vehicles_in_transport_mvit  \\\n",
       "0                                                  1       \n",
       "1                                                  1       \n",
       "2                                                  2       \n",
       "3                                                  4       \n",
       "4                                                  1       \n",
       "\n",
       "   number_of_forms_submitted_for_persons_in_motor_vehicles  ...  \\\n",
       "0                                                  1        ...   \n",
       "1                                                  1        ...   \n",
       "2                                                  2        ...   \n",
       "3                                                  4        ...   \n",
       "4                                                  1        ...   \n",
       "\n",
       "   minute_of_ems_arrival_at_hospital  related_factors_crash_level_1  \\\n",
       "0                                  2                              0   \n",
       "1                                 88                              0   \n",
       "2                                  1                              0   \n",
       "3                                 99                              0   \n",
       "4                                 88                              0   \n",
       "\n",
       "   related_factors_crash_level_1_name  related_factors_crash_level_2  \\\n",
       "0                                None                              0   \n",
       "1                                None                              0   \n",
       "2                                None                              0   \n",
       "3                                None                              0   \n",
       "4                                None                              0   \n",
       "\n",
       "   related_factors_crash_level_2_name  related_factors_crash_level_3  \\\n",
       "0                                None                              0   \n",
       "1                                None                              0   \n",
       "2                                None                              0   \n",
       "3                                None                              0   \n",
       "4                                None                              0   \n",
       "\n",
       "   related_factors_crash_level_3_name  number_of_fatalities  \\\n",
       "0                                None                     1   \n",
       "1                                None                     1   \n",
       "2                                None                     1   \n",
       "3                                None                     2   \n",
       "4                                None                     1   \n",
       "\n",
       "   number_of_drunk_drivers        timestamp_of_crash  \n",
       "0                        1 2015-09-11 20:20:00+00:00  \n",
       "1                        1 2015-11-01 00:30:00+00:00  \n",
       "2                        0 2015-05-04 16:18:00+00:00  \n",
       "3                        0 2015-11-17 12:26:00+00:00  \n",
       "4                        0 2015-10-31 04:49:00+00:00  \n",
       "\n",
       "[5 rows x 70 columns]"
      ],
      "text/html": "<div>\n<style scoped>\n    .dataframe tbody tr th:only-of-type {\n        vertical-align: middle;\n    }\n\n    .dataframe tbody tr th {\n        vertical-align: top;\n    }\n\n    .dataframe thead th {\n        text-align: right;\n    }\n</style>\n<table border=\"1\" class=\"dataframe\">\n  <thead>\n    <tr style=\"text-align: right;\">\n      <th></th>\n      <th>state_number</th>\n      <th>state_name</th>\n      <th>consecutive_number</th>\n      <th>number_of_vehicle_forms_submitted_all</th>\n      <th>number_of_motor_vehicles_in_transport_mvit</th>\n      <th>number_of_parked_working_vehicles</th>\n      <th>number_of_forms_submitted_for_persons_not_in_motor_vehicles</th>\n      <th>number_of_persons_not_in_motor_vehicles_in_transport_mvit</th>\n      <th>number_of_persons_in_motor_vehicles_in_transport_mvit</th>\n      <th>number_of_forms_submitted_for_persons_in_motor_vehicles</th>\n      <th>...</th>\n      <th>minute_of_ems_arrival_at_hospital</th>\n      <th>related_factors_crash_level_1</th>\n      <th>related_factors_crash_level_1_name</th>\n      <th>related_factors_crash_level_2</th>\n      <th>related_factors_crash_level_2_name</th>\n      <th>related_factors_crash_level_3</th>\n      <th>related_factors_crash_level_3_name</th>\n      <th>number_of_fatalities</th>\n      <th>number_of_drunk_drivers</th>\n      <th>timestamp_of_crash</th>\n    </tr>\n  </thead>\n  <tbody>\n    <tr>\n      <th>0</th>\n      <td>19</td>\n      <td>Iowa</td>\n      <td>190204</td>\n      <td>1</td>\n      <td>1</td>\n      <td>0</td>\n      <td>0</td>\n      <td>0</td>\n      <td>1</td>\n      <td>1</td>\n      <td>...</td>\n      <td>2</td>\n      <td>0</td>\n      <td>None</td>\n      <td>0</td>\n      <td>None</td>\n      <td>0</td>\n      <td>None</td>\n      <td>1</td>\n      <td>1</td>\n      <td>2015-09-11 20:20:00+00:00</td>\n    </tr>\n    <tr>\n      <th>1</th>\n      <td>19</td>\n      <td>Iowa</td>\n      <td>190233</td>\n      <td>1</td>\n      <td>1</td>\n      <td>0</td>\n      <td>0</td>\n      <td>0</td>\n      <td>1</td>\n      <td>1</td>\n      <td>...</td>\n      <td>88</td>\n      <td>0</td>\n      <td>None</td>\n      <td>0</td>\n      <td>None</td>\n      <td>0</td>\n      <td>None</td>\n      <td>1</td>\n      <td>1</td>\n      <td>2015-11-01 00:30:00+00:00</td>\n    </tr>\n    <tr>\n      <th>2</th>\n      <td>19</td>\n      <td>Iowa</td>\n      <td>190179</td>\n      <td>1</td>\n      <td>1</td>\n      <td>0</td>\n      <td>0</td>\n      <td>0</td>\n      <td>2</td>\n      <td>2</td>\n      <td>...</td>\n      <td>1</td>\n      <td>0</td>\n      <td>None</td>\n      <td>0</td>\n      <td>None</td>\n      <td>0</td>\n      <td>None</td>\n      <td>1</td>\n      <td>0</td>\n      <td>2015-05-04 16:18:00+00:00</td>\n    </tr>\n    <tr>\n      <th>3</th>\n      <td>19</td>\n      <td>Iowa</td>\n      <td>190248</td>\n      <td>1</td>\n      <td>1</td>\n      <td>0</td>\n      <td>0</td>\n      <td>0</td>\n      <td>4</td>\n      <td>4</td>\n      <td>...</td>\n      <td>99</td>\n      <td>0</td>\n      <td>None</td>\n      <td>0</td>\n      <td>None</td>\n      <td>0</td>\n      <td>None</td>\n      <td>2</td>\n      <td>0</td>\n      <td>2015-11-17 12:26:00+00:00</td>\n    </tr>\n    <tr>\n      <th>4</th>\n      <td>19</td>\n      <td>Iowa</td>\n      <td>190231</td>\n      <td>1</td>\n      <td>1</td>\n      <td>0</td>\n      <td>0</td>\n      <td>0</td>\n      <td>1</td>\n      <td>1</td>\n      <td>...</td>\n      <td>88</td>\n      <td>0</td>\n      <td>None</td>\n      <td>0</td>\n      <td>None</td>\n      <td>0</td>\n      <td>None</td>\n      <td>1</td>\n      <td>0</td>\n      <td>2015-10-31 04:49:00+00:00</td>\n    </tr>\n  </tbody>\n</table>\n<p>5 rows × 70 columns</p>\n</div>"
     },
     "metadata": {},
     "execution_count": 2
    }
   ],
   "source": [
    "from google.cloud import bigquery\n",
    "\n",
    "# Create a \"Client\" object\n",
    "client = bigquery.Client()\n",
    "\n",
    "# Construct a reference to the \"nhtsa_traffic_fatalities\" dataset\n",
    "dataset_ref = client.dataset(\"nhtsa_traffic_fatalities\", project=\"bigquery-public-data\")\n",
    "\n",
    "# API request - fetch the dataset\n",
    "dataset = client.get_dataset(dataset_ref)\n",
    "\n",
    "# Construct a reference to the \"accident_2015\" table\n",
    "table_ref = dataset_ref.table(\"accident_2015\")\n",
    "\n",
    "# API request - fetch the table\n",
    "table = client.get_table(table_ref)\n",
    "\n",
    "# Preview the first five lines of the \"accident_2015\" table\n",
    "client.list_rows(table, max_results=5).to_dataframe()"
   ]
  },
  {
   "cell_type": "code",
   "execution_count": 3,
   "metadata": {},
   "outputs": [],
   "source": [
    "# Query to find out the number of accidents for each day of the week\n",
    "query = \"\"\"\n",
    "        SELECT COUNT(consecutive_number) AS num_accidents,\n",
    "               EXTRACT(DAYOFWEEK FROM timestamp_of_crash) AS day_of_week\n",
    "        FROM `bigquery-public-data.nhtsa_traffic_fatalities.accident_2015`\n",
    "        GROUP BY day_of_week\n",
    "        ORDER BY num_accidents DESC\n",
    "        \"\"\""
   ]
  },
  {
   "cell_type": "code",
   "execution_count": 4,
   "metadata": {},
   "outputs": [
    {
     "output_type": "execute_result",
     "data": {
      "text/plain": [
       "   num_accidents  day_of_week\n",
       "0           5659            7\n",
       "1           5298            1\n",
       "2           4916            6\n",
       "3           4460            5\n",
       "4           4182            4\n",
       "5           4038            2\n",
       "6           3985            3"
      ],
      "text/html": "<div>\n<style scoped>\n    .dataframe tbody tr th:only-of-type {\n        vertical-align: middle;\n    }\n\n    .dataframe tbody tr th {\n        vertical-align: top;\n    }\n\n    .dataframe thead th {\n        text-align: right;\n    }\n</style>\n<table border=\"1\" class=\"dataframe\">\n  <thead>\n    <tr style=\"text-align: right;\">\n      <th></th>\n      <th>num_accidents</th>\n      <th>day_of_week</th>\n    </tr>\n  </thead>\n  <tbody>\n    <tr>\n      <th>0</th>\n      <td>5659</td>\n      <td>7</td>\n    </tr>\n    <tr>\n      <th>1</th>\n      <td>5298</td>\n      <td>1</td>\n    </tr>\n    <tr>\n      <th>2</th>\n      <td>4916</td>\n      <td>6</td>\n    </tr>\n    <tr>\n      <th>3</th>\n      <td>4460</td>\n      <td>5</td>\n    </tr>\n    <tr>\n      <th>4</th>\n      <td>4182</td>\n      <td>4</td>\n    </tr>\n    <tr>\n      <th>5</th>\n      <td>4038</td>\n      <td>2</td>\n    </tr>\n    <tr>\n      <th>6</th>\n      <td>3985</td>\n      <td>3</td>\n    </tr>\n  </tbody>\n</table>\n</div>"
     },
     "metadata": {},
     "execution_count": 4
    }
   ],
   "source": [
    "# Set up the query (cancel the query if it would use too much of \n",
    "# your quota, with the limit set to 1 GB)\n",
    "safe_config = bigquery.QueryJobConfig(maximum_bytes_billed=10**9)\n",
    "query_job = client.query(query, job_config=safe_config)\n",
    "\n",
    "# API request - run the query, and convert the results to a pandas DataFrame\n",
    "accidents_by_day = query_job.to_dataframe()\n",
    "\n",
    "# Print the DataFrame\n",
    "accidents_by_day"
   ]
  },
  {
   "source": [
    "### EXERCISE\n",
    "\n"
   ],
   "cell_type": "markdown",
   "metadata": {}
  },
  {
   "cell_type": "code",
   "execution_count": 5,
   "metadata": {},
   "outputs": [
    {
     "output_type": "execute_result",
     "data": {
      "text/plain": [
       "            country_name country_code  \\\n",
       "0                 Tuvalu          TUV   \n",
       "1                Vanuatu          VUT   \n",
       "2                Vietnam          VNM   \n",
       "3  Virgin Islands (U.S.)          VIR   \n",
       "4                 Zambia          ZMB   \n",
       "\n",
       "                                 indicator_name     indicator_code  \\\n",
       "0           Mortality rate, under-5 (per 1,000)        SH.DYN.MORT   \n",
       "1                             Population, total        SP.POP.TOTL   \n",
       "2               Internet users (per 100 people)     IT.NET.USER.P2   \n",
       "3                   Population, ages 0-14, male  SP.POP.0014.MA.IN   \n",
       "4  Labor force, female (% of total labor force)  SL.TLF.TOTL.FE.ZS   \n",
       "\n",
       "           value  year  \n",
       "0      25.300000  2016  \n",
       "1  270402.000000  2016  \n",
       "2      46.500000  2016  \n",
       "3   10637.000000  2016  \n",
       "4      47.777508  2016  "
      ],
      "text/html": "<div>\n<style scoped>\n    .dataframe tbody tr th:only-of-type {\n        vertical-align: middle;\n    }\n\n    .dataframe tbody tr th {\n        vertical-align: top;\n    }\n\n    .dataframe thead th {\n        text-align: right;\n    }\n</style>\n<table border=\"1\" class=\"dataframe\">\n  <thead>\n    <tr style=\"text-align: right;\">\n      <th></th>\n      <th>country_name</th>\n      <th>country_code</th>\n      <th>indicator_name</th>\n      <th>indicator_code</th>\n      <th>value</th>\n      <th>year</th>\n    </tr>\n  </thead>\n  <tbody>\n    <tr>\n      <th>0</th>\n      <td>Tuvalu</td>\n      <td>TUV</td>\n      <td>Mortality rate, under-5 (per 1,000)</td>\n      <td>SH.DYN.MORT</td>\n      <td>25.300000</td>\n      <td>2016</td>\n    </tr>\n    <tr>\n      <th>1</th>\n      <td>Vanuatu</td>\n      <td>VUT</td>\n      <td>Population, total</td>\n      <td>SP.POP.TOTL</td>\n      <td>270402.000000</td>\n      <td>2016</td>\n    </tr>\n    <tr>\n      <th>2</th>\n      <td>Vietnam</td>\n      <td>VNM</td>\n      <td>Internet users (per 100 people)</td>\n      <td>IT.NET.USER.P2</td>\n      <td>46.500000</td>\n      <td>2016</td>\n    </tr>\n    <tr>\n      <th>3</th>\n      <td>Virgin Islands (U.S.)</td>\n      <td>VIR</td>\n      <td>Population, ages 0-14, male</td>\n      <td>SP.POP.0014.MA.IN</td>\n      <td>10637.000000</td>\n      <td>2016</td>\n    </tr>\n    <tr>\n      <th>4</th>\n      <td>Zambia</td>\n      <td>ZMB</td>\n      <td>Labor force, female (% of total labor force)</td>\n      <td>SL.TLF.TOTL.FE.ZS</td>\n      <td>47.777508</td>\n      <td>2016</td>\n    </tr>\n  </tbody>\n</table>\n</div>"
     },
     "metadata": {},
     "execution_count": 5
    }
   ],
   "source": [
    "from google.cloud import bigquery\n",
    "\n",
    "# Create a \"Client\" object\n",
    "client = bigquery.Client()\n",
    "\n",
    "# Construct a reference to the \"world_bank_intl_education\" dataset\n",
    "dataset_ref = client.dataset(\"world_bank_intl_education\", project=\"bigquery-public-data\")\n",
    "\n",
    "# API request - fetch the dataset\n",
    "dataset = client.get_dataset(dataset_ref)\n",
    "\n",
    "# Construct a reference to the \"international_education\" table\n",
    "table_ref = dataset_ref.table(\"international_education\")\n",
    "\n",
    "# API request - fetch the table\n",
    "table = client.get_table(table_ref)\n",
    "\n",
    "# Preview the first five lines of the \"international_education\" table\n",
    "client.list_rows(table, max_results=5).to_dataframe()"
   ]
  },
  {
   "source": [
    "#### 1) Government expenditure on education\n",
    "\n",
    "Which countries spend the largest fraction of GDP on education? \n",
    "\n",
    "To answer this question, consider only the rows in the dataset corresponding to indicator code SE.XPD.TOTL.GD.ZS, and write a query that returns the average value in the value column for each country in the dataset between the years 2010-2017 (including 2010 and 2017 in the average).\n",
    "\n",
    "Requirements:\n",
    "\n",
    "* Your results should have the country name rather than the country code. You will have one row for each country.\n",
    "* The aggregate function for average is AVG(). Use the name avg_ed_spending_pct for the column created by this aggregation.\n",
    "* Order the results so the countries that spend the largest fraction of GDP on education show up first.\n",
    " "
   ],
   "cell_type": "markdown",
   "metadata": {}
  },
  {
   "cell_type": "code",
   "execution_count": 7,
   "metadata": {},
   "outputs": [],
   "source": [
    "country_spend_pct_query = \"\"\"\n",
    "        SELECT country_name, \n",
    "               AVG(value) AS avg_ed_spending_pct,\n",
    "        FROM `bigquery-public-data.world_bank_intl_education.international_education`\n",
    "        WHERE indicator_code = 'SE.XPD.TOTL.GD.ZS' \n",
    "              AND\n",
    "              (year >= 2010 AND year <= 2017)\n",
    "        GROUP BY country_name\n",
    "        ORDER BY avg_ed_spending_pct DESC\n",
    "        \"\"\""
   ]
  },
  {
   "cell_type": "code",
   "execution_count": 8,
   "metadata": {},
   "outputs": [
    {
     "output_type": "stream",
     "name": "stdout",
     "text": [
      "            country_name  avg_ed_spending_pct\n0                   Cuba            12.837270\n1  Micronesia, Fed. Sts.            12.467750\n2        Solomon Islands            10.001080\n3                Moldova             8.372153\n4                Namibia             8.349610\n"
     ]
    }
   ],
   "source": [
    "# Set up the query (cancel the query if it would use too much of \n",
    "# your quota, with the limit set to 1 GB)\n",
    "safe_config = bigquery.QueryJobConfig(maximum_bytes_billed=10**10)\n",
    "country_spend_pct_query_job = client.query(country_spend_pct_query, job_config=safe_config)\n",
    "\n",
    "# API request - run the query, and return a pandas DataFrame\n",
    "country_spending_results = country_spend_pct_query_job.to_dataframe()\n",
    "\n",
    "# View top few rows of results\n",
    "print(country_spending_results.head())"
   ]
  },
  {
   "source": [
    "#### 2) Identify interesting codes to explore\n",
    "\n",
    "Write a query below that selects the indicator code and indicator name for all codes with at least 175 rows in the year 2016.\n",
    "\n",
    "Requirements:\n",
    "\n",
    "* You should have one row for each indicator code.\n",
    "* The columns in your results should be called indicator_code, indicator_name, and num_rows.\n",
    "* Only select codes with 175 or more rows in the raw database (exactly 175 rows would be included).\n",
    "* To get both the indicator_code and indicator_name in your resulting DataFrame, you need to include both in your SELECT statement (in addition to a COUNT() aggregation). This requires you to include both in your GROUP BY clause.\n",
    "* Order from results most frequent to least frequent.\n"
   ],
   "cell_type": "markdown",
   "metadata": {}
  },
  {
   "cell_type": "code",
   "execution_count": 13,
   "metadata": {},
   "outputs": [],
   "source": [
    "code_count_query = \"\"\"\n",
    "                   SELECT indicator_code, indicator_name, \n",
    "                   COUNT(1) AS num_rows\n",
    "                   FROM `bigquery-public-data.world_bank_intl_education.international_education`\n",
    "                   WHERE year = 2016\n",
    "                   GROUP BY indicator_name, indicator_code\n",
    "                   HAVING COUNT(1) >= 175\n",
    "                   ORDER BY COUNT(1) DESC\n",
    "                   \"\"\""
   ]
  },
  {
   "cell_type": "code",
   "execution_count": 14,
   "metadata": {},
   "outputs": [
    {
     "output_type": "stream",
     "name": "stdout",
     "text": [
      "      indicator_code                       indicator_name  num_rows\n0        SP.POP.TOTL                    Population, total       232\n1        SP.POP.GROW         Population growth (annual %)       232\n2     IT.NET.USER.P2      Internet users (per 100 people)       223\n3        SH.DYN.MORT  Mortality rate, under-5 (per 1,000)       213\n4  SP.POP.0014.MA.IN          Population, ages 0-14, male       213\n"
     ]
    }
   ],
   "source": [
    "# Set up the query\n",
    "safe_config = bigquery.QueryJobConfig(maximum_bytes_billed=10**10)\n",
    "code_count_query_job = client.query(code_count_query, job_config=safe_config)\n",
    "\n",
    "# API request - run the query, and return a pandas DataFrame\n",
    "code_count_results = code_count_query_job.to_dataframe()\n",
    "\n",
    "# View top few rows of results\n",
    "print(code_count_results.head())"
   ]
  }
 ]
}