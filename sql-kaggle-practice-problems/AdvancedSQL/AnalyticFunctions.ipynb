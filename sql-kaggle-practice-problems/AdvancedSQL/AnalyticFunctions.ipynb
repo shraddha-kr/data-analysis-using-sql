{
 "metadata": {
  "language_info": {
   "codemirror_mode": {
    "name": "ipython",
    "version": 3
   },
   "file_extension": ".py",
   "mimetype": "text/x-python",
   "name": "python",
   "nbconvert_exporter": "python",
   "pygments_lexer": "ipython3",
   "version": "3.7.9-final"
  },
  "orig_nbformat": 2,
  "kernelspec": {
   "name": "python3",
   "display_name": "Python 3",
   "language": "python"
  }
 },
 "nbformat": 4,
 "nbformat_minor": 2,
 "cells": [
  {
   "source": [
    "### Analytic Functions\n"
   ],
   "cell_type": "markdown",
   "metadata": {}
  },
  {
   "source": [
    "### REFERENCES\n",
    "https://cloud.google.com/bigquery/docs/reference/standard-sql/analytic-function-concepts"
   ],
   "cell_type": "markdown",
   "metadata": {}
  },
  {
   "source": [
    "![title](./img/ana_1.png)\n",
    "![title](./img/ana_2.png)\n",
    "![title](./img/ana_3.png)\n",
    "![title](./img/ana_4.png)"
   ],
   "cell_type": "markdown",
   "metadata": {}
  },
  {
   "cell_type": "code",
   "execution_count": 2,
   "metadata": {},
   "outputs": [],
   "source": [
    "# Pointing the json key file of google cloud service account to local copy\n",
    "import os\n",
    "\n",
    "os.environ['GOOGLE_APPLICATION_CREDENTIALS'] ='key.json'"
   ]
  },
  {
   "source": [
    "### Example\n",
    "We'll work with the San Francisco Open Data dataset. We begin by reviewing the first several rows of the bikeshare_trips table."
   ],
   "cell_type": "markdown",
   "metadata": {}
  },
  {
   "cell_type": "code",
   "execution_count": 3,
   "metadata": {},
   "outputs": [
    {
     "output_type": "execute_result",
     "data": {
      "text/plain": [
       "   trip_id  duration_sec                start_date start_station_name  \\\n",
       "0   944732          2618 2015-09-24 17:22:00+00:00              Mezes   \n",
       "1   984595          5957 2015-10-25 18:12:00+00:00              Mezes   \n",
       "2   984596          5913 2015-10-25 18:13:00+00:00              Mezes   \n",
       "3  1129385          6079 2016-03-18 10:33:00+00:00              Mezes   \n",
       "4  1030383          5780 2015-12-06 10:52:00+00:00              Mezes   \n",
       "\n",
       "   start_station_id                  end_date end_station_name  \\\n",
       "0                83 2015-09-24 18:06:00+00:00            Mezes   \n",
       "1                83 2015-10-25 19:51:00+00:00            Mezes   \n",
       "2                83 2015-10-25 19:51:00+00:00            Mezes   \n",
       "3                83 2016-03-18 12:14:00+00:00            Mezes   \n",
       "4                83 2015-12-06 12:28:00+00:00            Mezes   \n",
       "\n",
       "   end_station_id  bike_number zip_code subscriber_type  \n",
       "0              83          653    94063        Customer  \n",
       "1              83           52      nil        Customer  \n",
       "2              83          121      nil        Customer  \n",
       "3              83          208    94070        Customer  \n",
       "4              83           44    94064        Customer  "
      ],
      "text/html": "<div>\n<style scoped>\n    .dataframe tbody tr th:only-of-type {\n        vertical-align: middle;\n    }\n\n    .dataframe tbody tr th {\n        vertical-align: top;\n    }\n\n    .dataframe thead th {\n        text-align: right;\n    }\n</style>\n<table border=\"1\" class=\"dataframe\">\n  <thead>\n    <tr style=\"text-align: right;\">\n      <th></th>\n      <th>trip_id</th>\n      <th>duration_sec</th>\n      <th>start_date</th>\n      <th>start_station_name</th>\n      <th>start_station_id</th>\n      <th>end_date</th>\n      <th>end_station_name</th>\n      <th>end_station_id</th>\n      <th>bike_number</th>\n      <th>zip_code</th>\n      <th>subscriber_type</th>\n    </tr>\n  </thead>\n  <tbody>\n    <tr>\n      <th>0</th>\n      <td>944732</td>\n      <td>2618</td>\n      <td>2015-09-24 17:22:00+00:00</td>\n      <td>Mezes</td>\n      <td>83</td>\n      <td>2015-09-24 18:06:00+00:00</td>\n      <td>Mezes</td>\n      <td>83</td>\n      <td>653</td>\n      <td>94063</td>\n      <td>Customer</td>\n    </tr>\n    <tr>\n      <th>1</th>\n      <td>984595</td>\n      <td>5957</td>\n      <td>2015-10-25 18:12:00+00:00</td>\n      <td>Mezes</td>\n      <td>83</td>\n      <td>2015-10-25 19:51:00+00:00</td>\n      <td>Mezes</td>\n      <td>83</td>\n      <td>52</td>\n      <td>nil</td>\n      <td>Customer</td>\n    </tr>\n    <tr>\n      <th>2</th>\n      <td>984596</td>\n      <td>5913</td>\n      <td>2015-10-25 18:13:00+00:00</td>\n      <td>Mezes</td>\n      <td>83</td>\n      <td>2015-10-25 19:51:00+00:00</td>\n      <td>Mezes</td>\n      <td>83</td>\n      <td>121</td>\n      <td>nil</td>\n      <td>Customer</td>\n    </tr>\n    <tr>\n      <th>3</th>\n      <td>1129385</td>\n      <td>6079</td>\n      <td>2016-03-18 10:33:00+00:00</td>\n      <td>Mezes</td>\n      <td>83</td>\n      <td>2016-03-18 12:14:00+00:00</td>\n      <td>Mezes</td>\n      <td>83</td>\n      <td>208</td>\n      <td>94070</td>\n      <td>Customer</td>\n    </tr>\n    <tr>\n      <th>4</th>\n      <td>1030383</td>\n      <td>5780</td>\n      <td>2015-12-06 10:52:00+00:00</td>\n      <td>Mezes</td>\n      <td>83</td>\n      <td>2015-12-06 12:28:00+00:00</td>\n      <td>Mezes</td>\n      <td>83</td>\n      <td>44</td>\n      <td>94064</td>\n      <td>Customer</td>\n    </tr>\n  </tbody>\n</table>\n</div>"
     },
     "metadata": {},
     "execution_count": 3
    }
   ],
   "source": [
    "from google.cloud import bigquery\n",
    "\n",
    "# Create a \"Client\" object\n",
    "client = bigquery.Client()\n",
    "\n",
    "# Construct a reference to the \"san_francisco\" dataset\n",
    "dataset_ref = client.dataset(\"san_francisco\", project=\"bigquery-public-data\")\n",
    "\n",
    "# API request - fetch the dataset\n",
    "dataset = client.get_dataset(dataset_ref)\n",
    "\n",
    "# Construct a reference to the \"bikeshare_trips\" table\n",
    "table_ref = dataset_ref.table(\"bikeshare_trips\")\n",
    "\n",
    "# API request - fetch the table\n",
    "table = client.get_table(table_ref)\n",
    "\n",
    "# Preview the first five lines of the table\n",
    "client.list_rows(table, max_results=5).to_dataframe()"
   ]
  },
  {
   "source": [
    "Each row of the table corresponds to a different bike trip, and we can use an analytic function to calculate the cumulative number of trips for each date in 2015."
   ],
   "cell_type": "markdown",
   "metadata": {}
  },
  {
   "cell_type": "code",
   "execution_count": 4,
   "metadata": {},
   "outputs": [
    {
     "output_type": "execute_result",
     "data": {
      "text/plain": [
       "    trip_date  num_trips  cumulative_trips\n",
       "0  2015-01-01        181               181\n",
       "1  2015-01-02        428               609\n",
       "2  2015-01-03        283               892\n",
       "3  2015-01-04        206              1098\n",
       "4  2015-01-05       1186              2284"
      ],
      "text/html": "<div>\n<style scoped>\n    .dataframe tbody tr th:only-of-type {\n        vertical-align: middle;\n    }\n\n    .dataframe tbody tr th {\n        vertical-align: top;\n    }\n\n    .dataframe thead th {\n        text-align: right;\n    }\n</style>\n<table border=\"1\" class=\"dataframe\">\n  <thead>\n    <tr style=\"text-align: right;\">\n      <th></th>\n      <th>trip_date</th>\n      <th>num_trips</th>\n      <th>cumulative_trips</th>\n    </tr>\n  </thead>\n  <tbody>\n    <tr>\n      <th>0</th>\n      <td>2015-01-01</td>\n      <td>181</td>\n      <td>181</td>\n    </tr>\n    <tr>\n      <th>1</th>\n      <td>2015-01-02</td>\n      <td>428</td>\n      <td>609</td>\n    </tr>\n    <tr>\n      <th>2</th>\n      <td>2015-01-03</td>\n      <td>283</td>\n      <td>892</td>\n    </tr>\n    <tr>\n      <th>3</th>\n      <td>2015-01-04</td>\n      <td>206</td>\n      <td>1098</td>\n    </tr>\n    <tr>\n      <th>4</th>\n      <td>2015-01-05</td>\n      <td>1186</td>\n      <td>2284</td>\n    </tr>\n  </tbody>\n</table>\n</div>"
     },
     "metadata": {},
     "execution_count": 4
    }
   ],
   "source": [
    "# Query to count the (cumulative) number of trips per day\n",
    "num_trips_query = \"\"\"\n",
    "                  WITH trips_by_day AS\n",
    "                  (\n",
    "                  SELECT DATE(start_date) AS trip_date,\n",
    "                      COUNT(*) as num_trips\n",
    "                  FROM `bigquery-public-data.san_francisco.bikeshare_trips`\n",
    "                  WHERE EXTRACT(YEAR FROM start_date) = 2015\n",
    "                  GROUP BY trip_date\n",
    "                  )\n",
    "                  SELECT *,\n",
    "                      SUM(num_trips) \n",
    "                          OVER (\n",
    "                               ORDER BY trip_date\n",
    "                               ROWS BETWEEN UNBOUNDED PRECEDING AND CURRENT ROW\n",
    "                               ) AS cumulative_trips\n",
    "                      FROM trips_by_day\n",
    "                  \"\"\"\n",
    "\n",
    "# Run the query, and return a pandas DataFrame\n",
    "num_trips_result = client.query(num_trips_query).result().to_dataframe()\n",
    "num_trips_result.head()"
   ]
  },
  {
   "source": [
    "The query uses a common table expression (CTE) to first calculate the daily number of trips. Then, we use SUM() as an aggregate function.\n",
    "\n",
    "* Since there is no PARTITION BY clause, the entire table is treated as a single partition.\n",
    "* The ORDER BY clause orders the rows by date, where earlier dates appear first.\n",
    "* By setting the window frame clause to ROWS BETWEEN UNBOUNDED PRECEDING AND CURRENT ROW, we ensure that all rows up to and including the current date are used to calculate the (cumulative) sum. (Note: If you read the documentation, you'll see that this is the default behavior, and so the query would return the same result if we left out this window frame clause.)\n",
    "\n",
    "The next query tracks the stations where each bike began (in start_station_id) and ended (in end_station_id) the day on October 25, 2015."
   ],
   "cell_type": "markdown",
   "metadata": {}
  },
  {
   "cell_type": "code",
   "execution_count": 6,
   "metadata": {},
   "outputs": [
    {
     "output_type": "execute_result",
     "data": {
      "text/plain": [
       "   bike_number trip_time  first_station_id  last_station_id  start_station_id  \\\n",
       "0           22  13:25:00                 2               16                 2   \n",
       "1           25  11:43:00                77               51                77   \n",
       "2           25  12:14:00                77               51                60   \n",
       "3           29  14:59:00                46               74                46   \n",
       "4           29  21:23:00                46               74                60   \n",
       "\n",
       "   end_station_id  \n",
       "0              16  \n",
       "1              60  \n",
       "2              51  \n",
       "3              60  \n",
       "4              74  "
      ],
      "text/html": "<div>\n<style scoped>\n    .dataframe tbody tr th:only-of-type {\n        vertical-align: middle;\n    }\n\n    .dataframe tbody tr th {\n        vertical-align: top;\n    }\n\n    .dataframe thead th {\n        text-align: right;\n    }\n</style>\n<table border=\"1\" class=\"dataframe\">\n  <thead>\n    <tr style=\"text-align: right;\">\n      <th></th>\n      <th>bike_number</th>\n      <th>trip_time</th>\n      <th>first_station_id</th>\n      <th>last_station_id</th>\n      <th>start_station_id</th>\n      <th>end_station_id</th>\n    </tr>\n  </thead>\n  <tbody>\n    <tr>\n      <th>0</th>\n      <td>22</td>\n      <td>13:25:00</td>\n      <td>2</td>\n      <td>16</td>\n      <td>2</td>\n      <td>16</td>\n    </tr>\n    <tr>\n      <th>1</th>\n      <td>25</td>\n      <td>11:43:00</td>\n      <td>77</td>\n      <td>51</td>\n      <td>77</td>\n      <td>60</td>\n    </tr>\n    <tr>\n      <th>2</th>\n      <td>25</td>\n      <td>12:14:00</td>\n      <td>77</td>\n      <td>51</td>\n      <td>60</td>\n      <td>51</td>\n    </tr>\n    <tr>\n      <th>3</th>\n      <td>29</td>\n      <td>14:59:00</td>\n      <td>46</td>\n      <td>74</td>\n      <td>46</td>\n      <td>60</td>\n    </tr>\n    <tr>\n      <th>4</th>\n      <td>29</td>\n      <td>21:23:00</td>\n      <td>46</td>\n      <td>74</td>\n      <td>60</td>\n      <td>74</td>\n    </tr>\n  </tbody>\n</table>\n</div>"
     },
     "metadata": {},
     "execution_count": 6
    }
   ],
   "source": [
    "# Query to track beginning and ending stations on October 25, 2015, for each bike\n",
    "start_end_query = \"\"\"\n",
    "                  SELECT bike_number,\n",
    "                      TIME(start_date) AS trip_time,\n",
    "                      FIRST_VALUE(start_station_id)\n",
    "                          OVER (\n",
    "                               PARTITION BY bike_number\n",
    "                               ORDER BY start_date\n",
    "                               ROWS BETWEEN UNBOUNDED PRECEDING AND UNBOUNDED FOLLOWING\n",
    "                               ) AS first_station_id,\n",
    "                      LAST_VALUE(end_station_id)\n",
    "                          OVER (\n",
    "                               PARTITION BY bike_number\n",
    "                               ORDER BY start_date\n",
    "                               ROWS BETWEEN UNBOUNDED PRECEDING AND UNBOUNDED FOLLOWING\n",
    "                               ) AS last_station_id,\n",
    "                      start_station_id,\n",
    "                      end_station_id\n",
    "                  FROM `bigquery-public-data.san_francisco.bikeshare_trips`\n",
    "                  WHERE DATE(start_date) = '2015-10-25' \n",
    "                  \"\"\"\n",
    "\n",
    "# Run the query, and return a pandas DataFrame\n",
    "start_end_result = client.query(start_end_query).result().to_dataframe()\n",
    "start_end_result.head()"
   ]
  },
  {
   "source": [
    "The query uses both FIRST_VALUE() and LAST_VALUE() as analytic functions.\n",
    "\n",
    "* The PARTITION BY clause breaks the data into partitions based on the bike_number column. Since this column holds unique identifiers for the bikes, this ensures the calculations are performed separately for each bike.\n",
    "* The ORDER BY clause puts the rows within each partition in chronological order.\n",
    "* Since the window frame clause is ROWS BETWEEN UNBOUNDED PRECEDING AND UNBOUNDED FOLLOWING, for each row, its entire partition is used to perform the calculation. (This ensures the calculated values for rows in the same partition are identical.)\n"
   ],
   "cell_type": "markdown",
   "metadata": {}
  },
  {
   "source": [
    "### EXERCISE"
   ],
   "cell_type": "markdown",
   "metadata": {}
  },
  {
   "cell_type": "code",
   "execution_count": 8,
   "metadata": {},
   "outputs": [
    {
     "output_type": "execute_result",
     "data": {
      "text/plain": [
       "                                 unique_key  \\\n",
       "0  2aa11ba5fdada1abcd60efeab6983c762d73df77   \n",
       "1  4db6678c2c1d2458ed01713919651666917ba33e   \n",
       "2  2ce0b8e189e622b51b75e3918b0068b3af79d8e8   \n",
       "3  e04f0c02a3b19d20101030753d58625bf5b72575   \n",
       "4  64db1b5bfaf05da4f699d33f317897a255bb3bca   \n",
       "\n",
       "                                             taxi_id  \\\n",
       "0  ecac7e5cafa5aed2b37a75e9888b0eb2a38a9ab5100c94...   \n",
       "1  24a472542efb2433c8f46ed2c0c08c39538e1c41c0178f...   \n",
       "2  5a7a34964ad3fbda860c6dbec8eabf560e85d11b7303b1...   \n",
       "3  ab2b9a0930835b7c79d794179c4e53c68aee771064e532...   \n",
       "4  b968bad5a2daed924a10e8ec4fb35513e060a076c575f7...   \n",
       "\n",
       "       trip_start_timestamp        trip_end_timestamp  trip_seconds  \\\n",
       "0 2016-03-09 08:45:00+00:00 2016-03-09 08:45:00+00:00             0   \n",
       "1 2016-03-08 16:00:00+00:00 2016-03-08 16:00:00+00:00             0   \n",
       "2 2014-10-09 18:00:00+00:00 2014-10-09 18:00:00+00:00             0   \n",
       "3 2014-11-17 15:00:00+00:00 2014-11-17 15:00:00+00:00             0   \n",
       "4 2014-09-24 19:15:00+00:00 2014-09-24 19:15:00+00:00             0   \n",
       "\n",
       "   trip_miles  pickup_census_tract  dropoff_census_tract  \\\n",
       "0         0.0                  NaN                   NaN   \n",
       "1         0.0                  NaN                   NaN   \n",
       "2         0.0                  NaN                   NaN   \n",
       "3         0.0                  NaN                   NaN   \n",
       "4         0.0                  NaN                   NaN   \n",
       "\n",
       "   pickup_community_area  dropoff_community_area  ...  extras  trip_total  \\\n",
       "0                    NaN                     NaN  ...     0.0        8.70   \n",
       "1                    NaN                     NaN  ...     0.0       12.60   \n",
       "2                    NaN                     NaN  ...     0.0       24.78   \n",
       "3                    NaN                     NaN  ...     0.0       48.65   \n",
       "4                    NaN                     NaN  ...     0.0       45.00   \n",
       "\n",
       "   payment_type                                   company  pickup_latitude  \\\n",
       "0   Credit Card  Chicago Elite Cab Corp. (Chicago Carriag              NaN   \n",
       "1   Credit Card  Chicago Elite Cab Corp. (Chicago Carriag              NaN   \n",
       "2   Credit Card  Chicago Elite Cab Corp. (Chicago Carriag              NaN   \n",
       "3   Credit Card  Chicago Elite Cab Corp. (Chicago Carriag              NaN   \n",
       "4   Credit Card                     T.A.S. - Payment Only              NaN   \n",
       "\n",
       "  pickup_longitude pickup_location  dropoff_latitude  dropoff_longitude  \\\n",
       "0              NaN            None               NaN                NaN   \n",
       "1              NaN            None               NaN                NaN   \n",
       "2              NaN            None               NaN                NaN   \n",
       "3              NaN            None               NaN                NaN   \n",
       "4              NaN            None               NaN                NaN   \n",
       "\n",
       "  dropoff_location  \n",
       "0             None  \n",
       "1             None  \n",
       "2             None  \n",
       "3             None  \n",
       "4             None  \n",
       "\n",
       "[5 rows x 23 columns]"
      ],
      "text/html": "<div>\n<style scoped>\n    .dataframe tbody tr th:only-of-type {\n        vertical-align: middle;\n    }\n\n    .dataframe tbody tr th {\n        vertical-align: top;\n    }\n\n    .dataframe thead th {\n        text-align: right;\n    }\n</style>\n<table border=\"1\" class=\"dataframe\">\n  <thead>\n    <tr style=\"text-align: right;\">\n      <th></th>\n      <th>unique_key</th>\n      <th>taxi_id</th>\n      <th>trip_start_timestamp</th>\n      <th>trip_end_timestamp</th>\n      <th>trip_seconds</th>\n      <th>trip_miles</th>\n      <th>pickup_census_tract</th>\n      <th>dropoff_census_tract</th>\n      <th>pickup_community_area</th>\n      <th>dropoff_community_area</th>\n      <th>...</th>\n      <th>extras</th>\n      <th>trip_total</th>\n      <th>payment_type</th>\n      <th>company</th>\n      <th>pickup_latitude</th>\n      <th>pickup_longitude</th>\n      <th>pickup_location</th>\n      <th>dropoff_latitude</th>\n      <th>dropoff_longitude</th>\n      <th>dropoff_location</th>\n    </tr>\n  </thead>\n  <tbody>\n    <tr>\n      <th>0</th>\n      <td>2aa11ba5fdada1abcd60efeab6983c762d73df77</td>\n      <td>ecac7e5cafa5aed2b37a75e9888b0eb2a38a9ab5100c94...</td>\n      <td>2016-03-09 08:45:00+00:00</td>\n      <td>2016-03-09 08:45:00+00:00</td>\n      <td>0</td>\n      <td>0.0</td>\n      <td>NaN</td>\n      <td>NaN</td>\n      <td>NaN</td>\n      <td>NaN</td>\n      <td>...</td>\n      <td>0.0</td>\n      <td>8.70</td>\n      <td>Credit Card</td>\n      <td>Chicago Elite Cab Corp. (Chicago Carriag</td>\n      <td>NaN</td>\n      <td>NaN</td>\n      <td>None</td>\n      <td>NaN</td>\n      <td>NaN</td>\n      <td>None</td>\n    </tr>\n    <tr>\n      <th>1</th>\n      <td>4db6678c2c1d2458ed01713919651666917ba33e</td>\n      <td>24a472542efb2433c8f46ed2c0c08c39538e1c41c0178f...</td>\n      <td>2016-03-08 16:00:00+00:00</td>\n      <td>2016-03-08 16:00:00+00:00</td>\n      <td>0</td>\n      <td>0.0</td>\n      <td>NaN</td>\n      <td>NaN</td>\n      <td>NaN</td>\n      <td>NaN</td>\n      <td>...</td>\n      <td>0.0</td>\n      <td>12.60</td>\n      <td>Credit Card</td>\n      <td>Chicago Elite Cab Corp. (Chicago Carriag</td>\n      <td>NaN</td>\n      <td>NaN</td>\n      <td>None</td>\n      <td>NaN</td>\n      <td>NaN</td>\n      <td>None</td>\n    </tr>\n    <tr>\n      <th>2</th>\n      <td>2ce0b8e189e622b51b75e3918b0068b3af79d8e8</td>\n      <td>5a7a34964ad3fbda860c6dbec8eabf560e85d11b7303b1...</td>\n      <td>2014-10-09 18:00:00+00:00</td>\n      <td>2014-10-09 18:00:00+00:00</td>\n      <td>0</td>\n      <td>0.0</td>\n      <td>NaN</td>\n      <td>NaN</td>\n      <td>NaN</td>\n      <td>NaN</td>\n      <td>...</td>\n      <td>0.0</td>\n      <td>24.78</td>\n      <td>Credit Card</td>\n      <td>Chicago Elite Cab Corp. (Chicago Carriag</td>\n      <td>NaN</td>\n      <td>NaN</td>\n      <td>None</td>\n      <td>NaN</td>\n      <td>NaN</td>\n      <td>None</td>\n    </tr>\n    <tr>\n      <th>3</th>\n      <td>e04f0c02a3b19d20101030753d58625bf5b72575</td>\n      <td>ab2b9a0930835b7c79d794179c4e53c68aee771064e532...</td>\n      <td>2014-11-17 15:00:00+00:00</td>\n      <td>2014-11-17 15:00:00+00:00</td>\n      <td>0</td>\n      <td>0.0</td>\n      <td>NaN</td>\n      <td>NaN</td>\n      <td>NaN</td>\n      <td>NaN</td>\n      <td>...</td>\n      <td>0.0</td>\n      <td>48.65</td>\n      <td>Credit Card</td>\n      <td>Chicago Elite Cab Corp. (Chicago Carriag</td>\n      <td>NaN</td>\n      <td>NaN</td>\n      <td>None</td>\n      <td>NaN</td>\n      <td>NaN</td>\n      <td>None</td>\n    </tr>\n    <tr>\n      <th>4</th>\n      <td>64db1b5bfaf05da4f699d33f317897a255bb3bca</td>\n      <td>b968bad5a2daed924a10e8ec4fb35513e060a076c575f7...</td>\n      <td>2014-09-24 19:15:00+00:00</td>\n      <td>2014-09-24 19:15:00+00:00</td>\n      <td>0</td>\n      <td>0.0</td>\n      <td>NaN</td>\n      <td>NaN</td>\n      <td>NaN</td>\n      <td>NaN</td>\n      <td>...</td>\n      <td>0.0</td>\n      <td>45.00</td>\n      <td>Credit Card</td>\n      <td>T.A.S. - Payment Only</td>\n      <td>NaN</td>\n      <td>NaN</td>\n      <td>None</td>\n      <td>NaN</td>\n      <td>NaN</td>\n      <td>None</td>\n    </tr>\n  </tbody>\n</table>\n<p>5 rows × 23 columns</p>\n</div>"
     },
     "metadata": {},
     "execution_count": 8
    }
   ],
   "source": [
    "from google.cloud import bigquery\n",
    "\n",
    "# Create a \"Client\" object\n",
    "client = bigquery.Client()\n",
    "\n",
    "# Construct a reference to the \"chicago_taxi_trips\" dataset\n",
    "dataset_ref = client.dataset(\"chicago_taxi_trips\", project=\"bigquery-public-data\")\n",
    "\n",
    "# API request - fetch the dataset\n",
    "dataset = client.get_dataset(dataset_ref)\n",
    "\n",
    "# Construct a reference to the \"taxi_trips\" table\n",
    "table_ref = dataset_ref.table(\"taxi_trips\")\n",
    "\n",
    "# API request - fetch the table\n",
    "table = client.get_table(table_ref)\n",
    "\n",
    "# Preview the first five lines of the table\n",
    "client.list_rows(table, max_results=5).to_dataframe()"
   ]
  },
  {
   "cell_type": "code",
   "execution_count": null,
   "metadata": {},
   "outputs": [],
   "source": []
  }
 ]
}