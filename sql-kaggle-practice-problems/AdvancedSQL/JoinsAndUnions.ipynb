{
 "metadata": {
  "language_info": {
   "codemirror_mode": {
    "name": "ipython",
    "version": 3
   },
   "file_extension": ".py",
   "mimetype": "text/x-python",
   "name": "python",
   "nbconvert_exporter": "python",
   "pygments_lexer": "ipython3",
   "version": "3.7.9-final"
  },
  "orig_nbformat": 2,
  "kernelspec": {
   "name": "python3",
   "display_name": "Python 3",
   "language": "python"
  }
 },
 "nbformat": 4,
 "nbformat_minor": 2,
 "cells": [
  {
   "source": [
    "### JOIN's & UNION's\n",
    "\n",
    "![title](./img/join_1.png)\n",
    "![title](./img/join_2.png)\n",
    "![title](./img/join_3.png)\n",
    "![title](./img/join_4.png)"
   ],
   "cell_type": "markdown",
   "metadata": {}
  },
  {
   "source": [
    "### EXAMPLE\n",
    "We'll work with the Hacker News dataset. We begin by reviewing the first several rows of the comments table. "
   ],
   "cell_type": "markdown",
   "metadata": {}
  },
  {
   "cell_type": "code",
   "execution_count": 3,
   "metadata": {},
   "outputs": [],
   "source": [
    "# Pointing the json key file of google cloud service account to local copy\n",
    "import os\n",
    "\n",
    "os.environ['GOOGLE_APPLICATION_CREDENTIALS'] ='key.json'"
   ]
  },
  {
   "cell_type": "code",
   "execution_count": 4,
   "metadata": {},
   "outputs": [
    {
     "output_type": "execute_result",
     "data": {
      "text/plain": [
       "         id  by author        time                   time_ts  \\\n",
       "0   2701393  5l     5l  1309184881 2011-06-27 14:28:01+00:00   \n",
       "1   5811403  99     99  1370234048 2013-06-03 04:34:08+00:00   \n",
       "2     21623  AF     AF  1178992400 2007-05-12 17:53:20+00:00   \n",
       "3  10159727  EA     EA  1441206574 2015-09-02 15:09:34+00:00   \n",
       "4   2988424  Iv     Iv  1315853580 2011-09-12 18:53:00+00:00   \n",
       "\n",
       "                                                text    parent deleted  dead  \\\n",
       "0  And the glazier who fixed all the broken windo...   2701243    None  None   \n",
       "1  Does canada have the equivalent of H1B/Green c...   5804452    None  None   \n",
       "2  Speaking of Rails, there are other options in ...     21611    None  None   \n",
       "3  Humans and large livestock (and maybe even pet...  10159396    None  None   \n",
       "4  I must say I reacted in the same way when I re...   2988179    None  None   \n",
       "\n",
       "   ranking  \n",
       "0        0  \n",
       "1        0  \n",
       "2        0  \n",
       "3        0  \n",
       "4        0  "
      ],
      "text/html": "<div>\n<style scoped>\n    .dataframe tbody tr th:only-of-type {\n        vertical-align: middle;\n    }\n\n    .dataframe tbody tr th {\n        vertical-align: top;\n    }\n\n    .dataframe thead th {\n        text-align: right;\n    }\n</style>\n<table border=\"1\" class=\"dataframe\">\n  <thead>\n    <tr style=\"text-align: right;\">\n      <th></th>\n      <th>id</th>\n      <th>by</th>\n      <th>author</th>\n      <th>time</th>\n      <th>time_ts</th>\n      <th>text</th>\n      <th>parent</th>\n      <th>deleted</th>\n      <th>dead</th>\n      <th>ranking</th>\n    </tr>\n  </thead>\n  <tbody>\n    <tr>\n      <th>0</th>\n      <td>2701393</td>\n      <td>5l</td>\n      <td>5l</td>\n      <td>1309184881</td>\n      <td>2011-06-27 14:28:01+00:00</td>\n      <td>And the glazier who fixed all the broken windo...</td>\n      <td>2701243</td>\n      <td>None</td>\n      <td>None</td>\n      <td>0</td>\n    </tr>\n    <tr>\n      <th>1</th>\n      <td>5811403</td>\n      <td>99</td>\n      <td>99</td>\n      <td>1370234048</td>\n      <td>2013-06-03 04:34:08+00:00</td>\n      <td>Does canada have the equivalent of H1B/Green c...</td>\n      <td>5804452</td>\n      <td>None</td>\n      <td>None</td>\n      <td>0</td>\n    </tr>\n    <tr>\n      <th>2</th>\n      <td>21623</td>\n      <td>AF</td>\n      <td>AF</td>\n      <td>1178992400</td>\n      <td>2007-05-12 17:53:20+00:00</td>\n      <td>Speaking of Rails, there are other options in ...</td>\n      <td>21611</td>\n      <td>None</td>\n      <td>None</td>\n      <td>0</td>\n    </tr>\n    <tr>\n      <th>3</th>\n      <td>10159727</td>\n      <td>EA</td>\n      <td>EA</td>\n      <td>1441206574</td>\n      <td>2015-09-02 15:09:34+00:00</td>\n      <td>Humans and large livestock (and maybe even pet...</td>\n      <td>10159396</td>\n      <td>None</td>\n      <td>None</td>\n      <td>0</td>\n    </tr>\n    <tr>\n      <th>4</th>\n      <td>2988424</td>\n      <td>Iv</td>\n      <td>Iv</td>\n      <td>1315853580</td>\n      <td>2011-09-12 18:53:00+00:00</td>\n      <td>I must say I reacted in the same way when I re...</td>\n      <td>2988179</td>\n      <td>None</td>\n      <td>None</td>\n      <td>0</td>\n    </tr>\n  </tbody>\n</table>\n</div>"
     },
     "metadata": {},
     "execution_count": 4
    }
   ],
   "source": [
    "from google.cloud import bigquery\n",
    "\n",
    "# Create a \"Client\" object\n",
    "client = bigquery.Client()\n",
    "\n",
    "# Construct a reference to the \"hacker_news\" dataset\n",
    "dataset_ref = client.dataset(\"hacker_news\", project=\"bigquery-public-data\")\n",
    "\n",
    "# API request - fetch the dataset\n",
    "dataset = client.get_dataset(dataset_ref)\n",
    "\n",
    "# Construct a reference to the \"comments\" table\n",
    "table_ref = dataset_ref.table(\"comments\")\n",
    "\n",
    "# API request - fetch the table\n",
    "table = client.get_table(table_ref)\n",
    "\n",
    "# Preview the first five lines of the table\n",
    "client.list_rows(table, max_results=5).to_dataframe()"
   ]
  },
  {
   "source": [
    "**Stories** Table"
   ],
   "cell_type": "markdown",
   "metadata": {}
  },
  {
   "cell_type": "code",
   "execution_count": 11,
   "metadata": {},
   "outputs": [
    {
     "output_type": "execute_result",
     "data": {
      "text/plain": [
       "        id            by  score        time                   time_ts  \\\n",
       "0  6940813     sarath237      0  1387536270 2013-12-20 10:44:30+00:00   \n",
       "1  6991401  123123321321      0  1388508751 2013-12-31 16:52:31+00:00   \n",
       "2  1531556           ssn      0  1279617234 2010-07-20 09:13:54+00:00   \n",
       "3  5012398          hoju      0  1357387877 2013-01-05 12:11:17+00:00   \n",
       "4  7214182         kogir      0  1401561740 2014-05-31 18:42:20+00:00   \n",
       "\n",
       "                                               title  \\\n",
       "0                            Sheryl Brindo Hot Pics    \n",
       "1  Are you people also put off by the culture of ...   \n",
       "2                     New UI for Google Image Search   \n",
       "3                       Historic website screenshots   \n",
       "4                                        Placeholder   \n",
       "\n",
       "                                                 url  \\\n",
       "0         http://www.youtube.com/watch?v=ym1cyxneB0Y   \n",
       "1                                                      \n",
       "2  http://googlesystem.blogspot.com/2010/07/googl...   \n",
       "3  http://webscraping.com/blog/Generate-website-s...   \n",
       "4                                                      \n",
       "\n",
       "                                                text deleted  dead  \\\n",
       "0                             Sheryl Brindo Hot Pics    None  True   \n",
       "1  They&#x27;re pretty explicitly &#x27;startup f...    None  True   \n",
       "2                    Again following on Bing's lead.    None  None   \n",
       "3  Python script to generate historic screenshots...    None  None   \n",
       "4                                      Mind the gap.    None  None   \n",
       "\n",
       "   descendants        author  \n",
       "0          NaN     sarath237  \n",
       "1          NaN  123123321321  \n",
       "2          0.0           ssn  \n",
       "3          0.0          hoju  \n",
       "4          0.0         kogir  "
      ],
      "text/html": "<div>\n<style scoped>\n    .dataframe tbody tr th:only-of-type {\n        vertical-align: middle;\n    }\n\n    .dataframe tbody tr th {\n        vertical-align: top;\n    }\n\n    .dataframe thead th {\n        text-align: right;\n    }\n</style>\n<table border=\"1\" class=\"dataframe\">\n  <thead>\n    <tr style=\"text-align: right;\">\n      <th></th>\n      <th>id</th>\n      <th>by</th>\n      <th>score</th>\n      <th>time</th>\n      <th>time_ts</th>\n      <th>title</th>\n      <th>url</th>\n      <th>text</th>\n      <th>deleted</th>\n      <th>dead</th>\n      <th>descendants</th>\n      <th>author</th>\n    </tr>\n  </thead>\n  <tbody>\n    <tr>\n      <th>0</th>\n      <td>6940813</td>\n      <td>sarath237</td>\n      <td>0</td>\n      <td>1387536270</td>\n      <td>2013-12-20 10:44:30+00:00</td>\n      <td>Sheryl Brindo Hot Pics</td>\n      <td>http://www.youtube.com/watch?v=ym1cyxneB0Y</td>\n      <td>Sheryl Brindo Hot Pics</td>\n      <td>None</td>\n      <td>True</td>\n      <td>NaN</td>\n      <td>sarath237</td>\n    </tr>\n    <tr>\n      <th>1</th>\n      <td>6991401</td>\n      <td>123123321321</td>\n      <td>0</td>\n      <td>1388508751</td>\n      <td>2013-12-31 16:52:31+00:00</td>\n      <td>Are you people also put off by the culture of ...</td>\n      <td></td>\n      <td>They&amp;#x27;re pretty explicitly &amp;#x27;startup f...</td>\n      <td>None</td>\n      <td>True</td>\n      <td>NaN</td>\n      <td>123123321321</td>\n    </tr>\n    <tr>\n      <th>2</th>\n      <td>1531556</td>\n      <td>ssn</td>\n      <td>0</td>\n      <td>1279617234</td>\n      <td>2010-07-20 09:13:54+00:00</td>\n      <td>New UI for Google Image Search</td>\n      <td>http://googlesystem.blogspot.com/2010/07/googl...</td>\n      <td>Again following on Bing's lead.</td>\n      <td>None</td>\n      <td>None</td>\n      <td>0.0</td>\n      <td>ssn</td>\n    </tr>\n    <tr>\n      <th>3</th>\n      <td>5012398</td>\n      <td>hoju</td>\n      <td>0</td>\n      <td>1357387877</td>\n      <td>2013-01-05 12:11:17+00:00</td>\n      <td>Historic website screenshots</td>\n      <td>http://webscraping.com/blog/Generate-website-s...</td>\n      <td>Python script to generate historic screenshots...</td>\n      <td>None</td>\n      <td>None</td>\n      <td>0.0</td>\n      <td>hoju</td>\n    </tr>\n    <tr>\n      <th>4</th>\n      <td>7214182</td>\n      <td>kogir</td>\n      <td>0</td>\n      <td>1401561740</td>\n      <td>2014-05-31 18:42:20+00:00</td>\n      <td>Placeholder</td>\n      <td></td>\n      <td>Mind the gap.</td>\n      <td>None</td>\n      <td>None</td>\n      <td>0.0</td>\n      <td>kogir</td>\n    </tr>\n  </tbody>\n</table>\n</div>"
     },
     "metadata": {},
     "execution_count": 11
    }
   ],
   "source": [
    "# Construct a reference to the \"stories\" table\n",
    "table_ref = dataset_ref.table(\"stories\")\n",
    "\n",
    "# API request - fetch the table\n",
    "table = client.get_table(table_ref)\n",
    "\n",
    "# Preview the first five lines of the table\n",
    "client.list_rows(table, max_results=5).to_dataframe()"
   ]
  },
  {
   "source": [
    "The query below pulls information from the stories and comments tables to create a table showing all stories posted on January 1, 2012, along with the corresponding number of comments. We use a LEFT JOIN so that the results include stories that didn't receive any comments."
   ],
   "cell_type": "markdown",
   "metadata": {}
  },
  {
   "cell_type": "code",
   "execution_count": 10,
   "metadata": {},
   "outputs": [
    {
     "output_type": "execute_result",
     "data": {
      "text/plain": [
       "   story_id           by                                              title  \\\n",
       "0   3412900  whoishiring              Ask HN: Who is Hiring? (January 2012)   \n",
       "1   3412901  whoishiring  Ask HN: Freelancer? Seeking freelancer? (Janua...   \n",
       "2   3412643     jemeshsu                                       Avoid Apress   \n",
       "3   3414012    ramanujam  Impress.js - a Prezi like implementation using...   \n",
       "4   3412891   Brajeshwar  There's no shame in code that is simply \"good ...   \n",
       "\n",
       "   num_comments  \n",
       "0         154.0  \n",
       "1          97.0  \n",
       "2          30.0  \n",
       "3          27.0  \n",
       "4          27.0  "
      ],
      "text/html": "<div>\n<style scoped>\n    .dataframe tbody tr th:only-of-type {\n        vertical-align: middle;\n    }\n\n    .dataframe tbody tr th {\n        vertical-align: top;\n    }\n\n    .dataframe thead th {\n        text-align: right;\n    }\n</style>\n<table border=\"1\" class=\"dataframe\">\n  <thead>\n    <tr style=\"text-align: right;\">\n      <th></th>\n      <th>story_id</th>\n      <th>by</th>\n      <th>title</th>\n      <th>num_comments</th>\n    </tr>\n  </thead>\n  <tbody>\n    <tr>\n      <th>0</th>\n      <td>3412900</td>\n      <td>whoishiring</td>\n      <td>Ask HN: Who is Hiring? (January 2012)</td>\n      <td>154.0</td>\n    </tr>\n    <tr>\n      <th>1</th>\n      <td>3412901</td>\n      <td>whoishiring</td>\n      <td>Ask HN: Freelancer? Seeking freelancer? (Janua...</td>\n      <td>97.0</td>\n    </tr>\n    <tr>\n      <th>2</th>\n      <td>3412643</td>\n      <td>jemeshsu</td>\n      <td>Avoid Apress</td>\n      <td>30.0</td>\n    </tr>\n    <tr>\n      <th>3</th>\n      <td>3414012</td>\n      <td>ramanujam</td>\n      <td>Impress.js - a Prezi like implementation using...</td>\n      <td>27.0</td>\n    </tr>\n    <tr>\n      <th>4</th>\n      <td>3412891</td>\n      <td>Brajeshwar</td>\n      <td>There's no shame in code that is simply \"good ...</td>\n      <td>27.0</td>\n    </tr>\n  </tbody>\n</table>\n</div>"
     },
     "metadata": {},
     "execution_count": 10
    }
   ],
   "source": [
    "# Query to select all stories posted on January 1, 2012, with number of comments\n",
    "join_query = \"\"\"\n",
    "             WITH c AS\n",
    "             (\n",
    "             SELECT parent, COUNT(*) as num_comments\n",
    "             FROM `bigquery-public-data.hacker_news.comments` \n",
    "             GROUP BY parent\n",
    "             )\n",
    "             SELECT s.id as story_id, s.by, s.title, c.num_comments\n",
    "             FROM `bigquery-public-data.hacker_news.stories` AS s\n",
    "             LEFT JOIN c\n",
    "             ON s.id = c.parent\n",
    "             WHERE EXTRACT(DATE FROM s.time_ts) = '2012-01-01'\n",
    "             ORDER BY c.num_comments DESC\n",
    "             \"\"\"\n",
    "\n",
    "# Run the query, and return a pandas DataFrame\n",
    "join_result = client.query(join_query).result().to_dataframe()\n",
    "join_result.head()"
   ]
  },
  {
   "source": [
    "Since the results are ordered by the num_comments column, stories without comments appear at the end of the DataFrame. (Remember that NaN stands for \"not a number\".)"
   ],
   "cell_type": "markdown",
   "metadata": {}
  },
  {
   "cell_type": "code",
   "execution_count": 11,
   "metadata": {},
   "outputs": [
    {
     "output_type": "execute_result",
     "data": {
      "text/plain": [
       "     story_id               by  \\\n",
       "439   3412710     mmichael0070   \n",
       "440   3412846       jaaminul69   \n",
       "441   3413113  see_cloudtweaks   \n",
       "442   3412921           pgalih   \n",
       "443   3413296      cjstewart88   \n",
       "\n",
       "                                                 title  num_comments  \n",
       "439                                      Stoner Quotes           NaN  \n",
       "440          The year 2011 is fully for Kate Middeton.           NaN  \n",
       "441  Infographic: Value of Cloud Computing Services...           NaN  \n",
       "442                              Resep Cake Irit Telur           NaN  \n",
       "443  Dec 2011, A Pretty Amazing Month for Tubalr… W...           NaN  "
      ],
      "text/html": "<div>\n<style scoped>\n    .dataframe tbody tr th:only-of-type {\n        vertical-align: middle;\n    }\n\n    .dataframe tbody tr th {\n        vertical-align: top;\n    }\n\n    .dataframe thead th {\n        text-align: right;\n    }\n</style>\n<table border=\"1\" class=\"dataframe\">\n  <thead>\n    <tr style=\"text-align: right;\">\n      <th></th>\n      <th>story_id</th>\n      <th>by</th>\n      <th>title</th>\n      <th>num_comments</th>\n    </tr>\n  </thead>\n  <tbody>\n    <tr>\n      <th>439</th>\n      <td>3412710</td>\n      <td>mmichael0070</td>\n      <td>Stoner Quotes</td>\n      <td>NaN</td>\n    </tr>\n    <tr>\n      <th>440</th>\n      <td>3412846</td>\n      <td>jaaminul69</td>\n      <td>The year 2011 is fully for Kate Middeton.</td>\n      <td>NaN</td>\n    </tr>\n    <tr>\n      <th>441</th>\n      <td>3413113</td>\n      <td>see_cloudtweaks</td>\n      <td>Infographic: Value of Cloud Computing Services...</td>\n      <td>NaN</td>\n    </tr>\n    <tr>\n      <th>442</th>\n      <td>3412921</td>\n      <td>pgalih</td>\n      <td>Resep Cake Irit Telur</td>\n      <td>NaN</td>\n    </tr>\n    <tr>\n      <th>443</th>\n      <td>3413296</td>\n      <td>cjstewart88</td>\n      <td>Dec 2011, A Pretty Amazing Month for Tubalr… W...</td>\n      <td>NaN</td>\n    </tr>\n  </tbody>\n</table>\n</div>"
     },
     "metadata": {},
     "execution_count": 11
    }
   ],
   "source": [
    "# None of these stories received any comments\n",
    "join_result.tail()"
   ]
  },
  {
   "source": [
    "Next, we write a query to select all usernames corresponding to users who wrote stories or comments on January 1, 2014. We use UNION DISTINCT (instead of UNION ALL) to ensure that each user appears in the table at most once."
   ],
   "cell_type": "markdown",
   "metadata": {}
  },
  {
   "cell_type": "code",
   "execution_count": 13,
   "metadata": {},
   "outputs": [
    {
     "output_type": "execute_result",
     "data": {
      "text/plain": [
       "           by\n",
       "0      pkulak\n",
       "1     drakaal\n",
       "2    quinnchr\n",
       "3   simoncion\n",
       "4  JackMorgan"
      ],
      "text/html": "<div>\n<style scoped>\n    .dataframe tbody tr th:only-of-type {\n        vertical-align: middle;\n    }\n\n    .dataframe tbody tr th {\n        vertical-align: top;\n    }\n\n    .dataframe thead th {\n        text-align: right;\n    }\n</style>\n<table border=\"1\" class=\"dataframe\">\n  <thead>\n    <tr style=\"text-align: right;\">\n      <th></th>\n      <th>by</th>\n    </tr>\n  </thead>\n  <tbody>\n    <tr>\n      <th>0</th>\n      <td>pkulak</td>\n    </tr>\n    <tr>\n      <th>1</th>\n      <td>drakaal</td>\n    </tr>\n    <tr>\n      <th>2</th>\n      <td>quinnchr</td>\n    </tr>\n    <tr>\n      <th>3</th>\n      <td>simoncion</td>\n    </tr>\n    <tr>\n      <th>4</th>\n      <td>JackMorgan</td>\n    </tr>\n  </tbody>\n</table>\n</div>"
     },
     "metadata": {},
     "execution_count": 13
    }
   ],
   "source": [
    "# Query to select all users who posted stories or comments on January 1, 2014\n",
    "union_query = \"\"\"\n",
    "              SELECT c.by\n",
    "              FROM `bigquery-public-data.hacker_news.comments` AS c\n",
    "              WHERE EXTRACT(DATE FROM c.time_ts) = '2014-01-01'\n",
    "              UNION DISTINCT\n",
    "              SELECT s.by\n",
    "              FROM `bigquery-public-data.hacker_news.stories` AS s\n",
    "              WHERE EXTRACT(DATE FROM s.time_ts) = '2014-01-01'\n",
    "              \"\"\"\n",
    "\n",
    "# Run the query, and return a pandas DataFrame\n",
    "union_result = client.query(union_query).result().to_dataframe()\n",
    "union_result.head()"
   ]
  },
  {
   "source": [
    "To get the number of users who posted on January 1, 2014, we need only take the length of the DataFrame."
   ],
   "cell_type": "markdown",
   "metadata": {}
  },
  {
   "cell_type": "code",
   "execution_count": 14,
   "metadata": {},
   "outputs": [
    {
     "output_type": "execute_result",
     "data": {
      "text/plain": [
       "2282"
      ]
     },
     "metadata": {},
     "execution_count": 14
    }
   ],
   "source": [
    "# Number of users who posted stories or comments on January 1, 2014\n",
    "len(union_result)"
   ]
  },
  {
   "source": [
    "### EXERCISE\n",
    "\n",
    "The code cell below fetches the posts_questions table from the stackoverflow dataset. We also preview the first five rows of the table."
   ],
   "cell_type": "markdown",
   "metadata": {}
  },
  {
   "cell_type": "code",
   "execution_count": 5,
   "metadata": {},
   "outputs": [
    {
     "output_type": "execute_result",
     "data": {
      "text/plain": [
       "         id                                              title  \\\n",
       "0  65070674  NewRelic APM cpu usage shows incorrect values ...   \n",
       "1  65070689  NewRelic APM cpu usage shows incorrect values ...   \n",
       "2  64972916  Gitlab : How to batch modify the visibility of...   \n",
       "3  65007914  Upload internal Android application on WmWare(...   \n",
       "4  65023562  swig: how to add context manager methods to op...   \n",
       "\n",
       "                                                body  accepted_answer_id  \\\n",
       "0  <p>Here goes charts of CPU usage of same pod. ...                 NaN   \n",
       "1  <p>Here goes charts of CPU usage of same pod. ...                 NaN   \n",
       "2  <p>I had to change the visibility of many proj...                 NaN   \n",
       "3  <p>I am trying to upload Android debug build o...                 NaN   \n",
       "4  <p>when swigging opaque handles (in my case, p...                 NaN   \n",
       "\n",
       "   answer_count  comment_count community_owned_date  \\\n",
       "0             0              0                  NaT   \n",
       "1             0              0                  NaT   \n",
       "2             1              0                  NaT   \n",
       "3             0              0                  NaT   \n",
       "4             1              0                  NaT   \n",
       "\n",
       "                     creation_date  favorite_count  \\\n",
       "0 2020-11-30 09:07:52.263000+00:00             NaN   \n",
       "1 2020-11-30 09:09:16.030000+00:00             NaN   \n",
       "2 2020-11-23 17:05:43.130000+00:00             NaN   \n",
       "3 2020-11-25 15:37:33.790000+00:00             NaN   \n",
       "4 2020-11-26 14:03:29.567000+00:00             NaN   \n",
       "\n",
       "                last_activity_date last_edit_date last_editor_display_name  \\\n",
       "0 2020-11-30 09:07:52.263000+00:00            NaT                     None   \n",
       "1 2020-11-30 09:09:16.030000+00:00            NaT                     None   \n",
       "2 2020-11-23 17:05:43.130000+00:00            NaT                     None   \n",
       "3 2020-11-25 15:37:33.790000+00:00            NaT                     None   \n",
       "4 2020-11-26 14:03:29.567000+00:00            NaT                     None   \n",
       "\n",
       "   last_editor_user_id owner_display_name  owner_user_id parent_id  \\\n",
       "0                  NaN               None        1448545      None   \n",
       "1                  NaN               None        1448545      None   \n",
       "2                  NaN               None        1416845      None   \n",
       "3                  NaN               None        8659884      None   \n",
       "4                  NaN               None        1368566      None   \n",
       "\n",
       "   post_type_id  score                     tags  view_count  \n",
       "0             1      0  newrelic|kubernetes-pod           1  \n",
       "1             1      0  newrelic|kubernetes-pod           1  \n",
       "2             1      0  gitlab|batch-processing           2  \n",
       "3             1      0                  android           2  \n",
       "4             1      0              python|swig           2  "
      ],
      "text/html": "<div>\n<style scoped>\n    .dataframe tbody tr th:only-of-type {\n        vertical-align: middle;\n    }\n\n    .dataframe tbody tr th {\n        vertical-align: top;\n    }\n\n    .dataframe thead th {\n        text-align: right;\n    }\n</style>\n<table border=\"1\" class=\"dataframe\">\n  <thead>\n    <tr style=\"text-align: right;\">\n      <th></th>\n      <th>id</th>\n      <th>title</th>\n      <th>body</th>\n      <th>accepted_answer_id</th>\n      <th>answer_count</th>\n      <th>comment_count</th>\n      <th>community_owned_date</th>\n      <th>creation_date</th>\n      <th>favorite_count</th>\n      <th>last_activity_date</th>\n      <th>last_edit_date</th>\n      <th>last_editor_display_name</th>\n      <th>last_editor_user_id</th>\n      <th>owner_display_name</th>\n      <th>owner_user_id</th>\n      <th>parent_id</th>\n      <th>post_type_id</th>\n      <th>score</th>\n      <th>tags</th>\n      <th>view_count</th>\n    </tr>\n  </thead>\n  <tbody>\n    <tr>\n      <th>0</th>\n      <td>65070674</td>\n      <td>NewRelic APM cpu usage shows incorrect values ...</td>\n      <td>&lt;p&gt;Here goes charts of CPU usage of same pod. ...</td>\n      <td>NaN</td>\n      <td>0</td>\n      <td>0</td>\n      <td>NaT</td>\n      <td>2020-11-30 09:07:52.263000+00:00</td>\n      <td>NaN</td>\n      <td>2020-11-30 09:07:52.263000+00:00</td>\n      <td>NaT</td>\n      <td>None</td>\n      <td>NaN</td>\n      <td>None</td>\n      <td>1448545</td>\n      <td>None</td>\n      <td>1</td>\n      <td>0</td>\n      <td>newrelic|kubernetes-pod</td>\n      <td>1</td>\n    </tr>\n    <tr>\n      <th>1</th>\n      <td>65070689</td>\n      <td>NewRelic APM cpu usage shows incorrect values ...</td>\n      <td>&lt;p&gt;Here goes charts of CPU usage of same pod. ...</td>\n      <td>NaN</td>\n      <td>0</td>\n      <td>0</td>\n      <td>NaT</td>\n      <td>2020-11-30 09:09:16.030000+00:00</td>\n      <td>NaN</td>\n      <td>2020-11-30 09:09:16.030000+00:00</td>\n      <td>NaT</td>\n      <td>None</td>\n      <td>NaN</td>\n      <td>None</td>\n      <td>1448545</td>\n      <td>None</td>\n      <td>1</td>\n      <td>0</td>\n      <td>newrelic|kubernetes-pod</td>\n      <td>1</td>\n    </tr>\n    <tr>\n      <th>2</th>\n      <td>64972916</td>\n      <td>Gitlab : How to batch modify the visibility of...</td>\n      <td>&lt;p&gt;I had to change the visibility of many proj...</td>\n      <td>NaN</td>\n      <td>1</td>\n      <td>0</td>\n      <td>NaT</td>\n      <td>2020-11-23 17:05:43.130000+00:00</td>\n      <td>NaN</td>\n      <td>2020-11-23 17:05:43.130000+00:00</td>\n      <td>NaT</td>\n      <td>None</td>\n      <td>NaN</td>\n      <td>None</td>\n      <td>1416845</td>\n      <td>None</td>\n      <td>1</td>\n      <td>0</td>\n      <td>gitlab|batch-processing</td>\n      <td>2</td>\n    </tr>\n    <tr>\n      <th>3</th>\n      <td>65007914</td>\n      <td>Upload internal Android application on WmWare(...</td>\n      <td>&lt;p&gt;I am trying to upload Android debug build o...</td>\n      <td>NaN</td>\n      <td>0</td>\n      <td>0</td>\n      <td>NaT</td>\n      <td>2020-11-25 15:37:33.790000+00:00</td>\n      <td>NaN</td>\n      <td>2020-11-25 15:37:33.790000+00:00</td>\n      <td>NaT</td>\n      <td>None</td>\n      <td>NaN</td>\n      <td>None</td>\n      <td>8659884</td>\n      <td>None</td>\n      <td>1</td>\n      <td>0</td>\n      <td>android</td>\n      <td>2</td>\n    </tr>\n    <tr>\n      <th>4</th>\n      <td>65023562</td>\n      <td>swig: how to add context manager methods to op...</td>\n      <td>&lt;p&gt;when swigging opaque handles (in my case, p...</td>\n      <td>NaN</td>\n      <td>1</td>\n      <td>0</td>\n      <td>NaT</td>\n      <td>2020-11-26 14:03:29.567000+00:00</td>\n      <td>NaN</td>\n      <td>2020-11-26 14:03:29.567000+00:00</td>\n      <td>NaT</td>\n      <td>None</td>\n      <td>NaN</td>\n      <td>None</td>\n      <td>1368566</td>\n      <td>None</td>\n      <td>1</td>\n      <td>0</td>\n      <td>python|swig</td>\n      <td>2</td>\n    </tr>\n  </tbody>\n</table>\n</div>"
     },
     "metadata": {},
     "execution_count": 5
    }
   ],
   "source": [
    "from google.cloud import bigquery\n",
    "\n",
    "# Create a \"Client\" object\n",
    "client = bigquery.Client()\n",
    "\n",
    "# Construct a reference to the \"stackoverflow\" dataset\n",
    "dataset_ref = client.dataset(\"stackoverflow\", project=\"bigquery-public-data\")\n",
    "\n",
    "# API request - fetch the dataset\n",
    "dataset = client.get_dataset(dataset_ref)\n",
    "\n",
    "# Construct a reference to the \"posts_questions\" table\n",
    "table_ref = dataset_ref.table(\"posts_questions\")\n",
    "\n",
    "# API request - fetch the table\n",
    "table = client.get_table(table_ref)\n",
    "\n",
    "# Preview the first five lines of the table\n",
    "client.list_rows(table, max_results=5).to_dataframe()"
   ]
  },
  {
   "cell_type": "code",
   "execution_count": 6,
   "metadata": {},
   "outputs": [
    {
     "output_type": "execute_result",
     "data": {
      "text/plain": [
       "         id title                                               body  \\\n",
       "0  64548693  None  <p>My workaround without ejecting:</p>\\n<ol>\\n...   \n",
       "1  64548694  None  <p>The execution thread may be secluded on dif...   \n",
       "2  64548698  None  <p><code>vw</code> is well supported, so can b...   \n",
       "3  64548705  None  <p>This could be simple. Please check that you...   \n",
       "4  64548730  None  <p>Install the flutter plugin on android studi...   \n",
       "\n",
       "  accepted_answer_id answer_count  comment_count community_owned_date  \\\n",
       "0               None         None              0                  NaT   \n",
       "1               None         None              1                  NaT   \n",
       "2               None         None              0                  NaT   \n",
       "3               None         None              0                  NaT   \n",
       "4               None         None              3                  NaT   \n",
       "\n",
       "                     creation_date favorite_count  \\\n",
       "0 2020-10-27 05:20:53.417000+00:00           None   \n",
       "1 2020-10-27 05:21:15.397000+00:00           None   \n",
       "2 2020-10-27 05:22:37.873000+00:00           None   \n",
       "3 2020-10-27 05:23:43.193000+00:00           None   \n",
       "4 2020-10-27 05:26:53.640000+00:00           None   \n",
       "\n",
       "                last_activity_date last_edit_date last_editor_display_name  \\\n",
       "0 2020-10-27 05:20:53.417000+00:00            NaT                     None   \n",
       "1 2020-10-27 05:21:15.397000+00:00            NaT                     None   \n",
       "2 2020-10-27 05:22:37.873000+00:00            NaT                     None   \n",
       "3 2020-10-27 05:23:43.193000+00:00            NaT                     None   \n",
       "4 2020-10-27 05:26:53.640000+00:00            NaT                     None   \n",
       "\n",
       "   last_editor_user_id owner_display_name  owner_user_id  parent_id  \\\n",
       "0                  NaN               None        9428719   55821078   \n",
       "1                  NaN               None       13927193   33876455   \n",
       "2                  NaN               None        8942566   64548101   \n",
       "3                  NaN               None       13832463   64276190   \n",
       "4                  NaN               None       11211493   64443398   \n",
       "\n",
       "   post_type_id  score  tags view_count  \n",
       "0             2      0  None       None  \n",
       "1             2      0  None       None  \n",
       "2             2      0  None       None  \n",
       "3             2      0  None       None  \n",
       "4             2      0  None       None  "
      ],
      "text/html": "<div>\n<style scoped>\n    .dataframe tbody tr th:only-of-type {\n        vertical-align: middle;\n    }\n\n    .dataframe tbody tr th {\n        vertical-align: top;\n    }\n\n    .dataframe thead th {\n        text-align: right;\n    }\n</style>\n<table border=\"1\" class=\"dataframe\">\n  <thead>\n    <tr style=\"text-align: right;\">\n      <th></th>\n      <th>id</th>\n      <th>title</th>\n      <th>body</th>\n      <th>accepted_answer_id</th>\n      <th>answer_count</th>\n      <th>comment_count</th>\n      <th>community_owned_date</th>\n      <th>creation_date</th>\n      <th>favorite_count</th>\n      <th>last_activity_date</th>\n      <th>last_edit_date</th>\n      <th>last_editor_display_name</th>\n      <th>last_editor_user_id</th>\n      <th>owner_display_name</th>\n      <th>owner_user_id</th>\n      <th>parent_id</th>\n      <th>post_type_id</th>\n      <th>score</th>\n      <th>tags</th>\n      <th>view_count</th>\n    </tr>\n  </thead>\n  <tbody>\n    <tr>\n      <th>0</th>\n      <td>64548693</td>\n      <td>None</td>\n      <td>&lt;p&gt;My workaround without ejecting:&lt;/p&gt;\\n&lt;ol&gt;\\n...</td>\n      <td>None</td>\n      <td>None</td>\n      <td>0</td>\n      <td>NaT</td>\n      <td>2020-10-27 05:20:53.417000+00:00</td>\n      <td>None</td>\n      <td>2020-10-27 05:20:53.417000+00:00</td>\n      <td>NaT</td>\n      <td>None</td>\n      <td>NaN</td>\n      <td>None</td>\n      <td>9428719</td>\n      <td>55821078</td>\n      <td>2</td>\n      <td>0</td>\n      <td>None</td>\n      <td>None</td>\n    </tr>\n    <tr>\n      <th>1</th>\n      <td>64548694</td>\n      <td>None</td>\n      <td>&lt;p&gt;The execution thread may be secluded on dif...</td>\n      <td>None</td>\n      <td>None</td>\n      <td>1</td>\n      <td>NaT</td>\n      <td>2020-10-27 05:21:15.397000+00:00</td>\n      <td>None</td>\n      <td>2020-10-27 05:21:15.397000+00:00</td>\n      <td>NaT</td>\n      <td>None</td>\n      <td>NaN</td>\n      <td>None</td>\n      <td>13927193</td>\n      <td>33876455</td>\n      <td>2</td>\n      <td>0</td>\n      <td>None</td>\n      <td>None</td>\n    </tr>\n    <tr>\n      <th>2</th>\n      <td>64548698</td>\n      <td>None</td>\n      <td>&lt;p&gt;&lt;code&gt;vw&lt;/code&gt; is well supported, so can b...</td>\n      <td>None</td>\n      <td>None</td>\n      <td>0</td>\n      <td>NaT</td>\n      <td>2020-10-27 05:22:37.873000+00:00</td>\n      <td>None</td>\n      <td>2020-10-27 05:22:37.873000+00:00</td>\n      <td>NaT</td>\n      <td>None</td>\n      <td>NaN</td>\n      <td>None</td>\n      <td>8942566</td>\n      <td>64548101</td>\n      <td>2</td>\n      <td>0</td>\n      <td>None</td>\n      <td>None</td>\n    </tr>\n    <tr>\n      <th>3</th>\n      <td>64548705</td>\n      <td>None</td>\n      <td>&lt;p&gt;This could be simple. Please check that you...</td>\n      <td>None</td>\n      <td>None</td>\n      <td>0</td>\n      <td>NaT</td>\n      <td>2020-10-27 05:23:43.193000+00:00</td>\n      <td>None</td>\n      <td>2020-10-27 05:23:43.193000+00:00</td>\n      <td>NaT</td>\n      <td>None</td>\n      <td>NaN</td>\n      <td>None</td>\n      <td>13832463</td>\n      <td>64276190</td>\n      <td>2</td>\n      <td>0</td>\n      <td>None</td>\n      <td>None</td>\n    </tr>\n    <tr>\n      <th>4</th>\n      <td>64548730</td>\n      <td>None</td>\n      <td>&lt;p&gt;Install the flutter plugin on android studi...</td>\n      <td>None</td>\n      <td>None</td>\n      <td>3</td>\n      <td>NaT</td>\n      <td>2020-10-27 05:26:53.640000+00:00</td>\n      <td>None</td>\n      <td>2020-10-27 05:26:53.640000+00:00</td>\n      <td>NaT</td>\n      <td>None</td>\n      <td>NaN</td>\n      <td>None</td>\n      <td>11211493</td>\n      <td>64443398</td>\n      <td>2</td>\n      <td>0</td>\n      <td>None</td>\n      <td>None</td>\n    </tr>\n  </tbody>\n</table>\n</div>"
     },
     "metadata": {},
     "execution_count": 6
    }
   ],
   "source": [
    "# Construct a reference to the \"posts_answers\" table\n",
    "table_ref = dataset_ref.table(\"posts_answers\")\n",
    "\n",
    "# API request - fetch the table\n",
    "table = client.get_table(table_ref)\n",
    "\n",
    "# Preview the first five lines of the table\n",
    "client.list_rows(table, max_results=5).to_dataframe()"
   ]
  },
  {
   "source": [
    "**1) How long does it take for questions to receive answers?**\n",
    "\n",
    "You're interested in exploring the data to have a better understanding of how long it generally takes for questions to receive answers. Armed with this knowledge, you plan to use this information to better design the order in which questions are presented to Stack Overflow users.\n",
    "\n",
    "With this goal in mind, you write the query below, which focuses on questions asked in January 2018. It returns a table with two columns:\n",
    "\n",
    "    q_id - the ID of the question\n",
    "    time_to_answer - how long it took (in seconds) for the question to receive an answer\n"
   ],
   "cell_type": "markdown",
   "metadata": {}
  },
  {
   "cell_type": "code",
   "execution_count": 4,
   "metadata": {},
   "outputs": [
    {
     "output_type": "stream",
     "name": "stdout",
     "text": [
      "Percentage of answered questions: 100.0%\nNumber of questions: 134577\n"
     ]
    },
    {
     "output_type": "execute_result",
     "data": {
      "text/plain": [
       "       q_id  time_to_answer\n",
       "0  48375126               0\n",
       "1  48396661               0\n",
       "2  48100614               0\n",
       "3  48219063               0\n",
       "4  48280201               0"
      ],
      "text/html": "<div>\n<style scoped>\n    .dataframe tbody tr th:only-of-type {\n        vertical-align: middle;\n    }\n\n    .dataframe tbody tr th {\n        vertical-align: top;\n    }\n\n    .dataframe thead th {\n        text-align: right;\n    }\n</style>\n<table border=\"1\" class=\"dataframe\">\n  <thead>\n    <tr style=\"text-align: right;\">\n      <th></th>\n      <th>q_id</th>\n      <th>time_to_answer</th>\n    </tr>\n  </thead>\n  <tbody>\n    <tr>\n      <th>0</th>\n      <td>48375126</td>\n      <td>0</td>\n    </tr>\n    <tr>\n      <th>1</th>\n      <td>48396661</td>\n      <td>0</td>\n    </tr>\n    <tr>\n      <th>2</th>\n      <td>48100614</td>\n      <td>0</td>\n    </tr>\n    <tr>\n      <th>3</th>\n      <td>48219063</td>\n      <td>0</td>\n    </tr>\n    <tr>\n      <th>4</th>\n      <td>48280201</td>\n      <td>0</td>\n    </tr>\n  </tbody>\n</table>\n</div>"
     },
     "metadata": {},
     "execution_count": 4
    }
   ],
   "source": [
    "first_query = \"\"\"\n",
    "              SELECT q.id AS q_id,\n",
    "                  MIN(TIMESTAMP_DIFF(a.creation_date, q.creation_date, SECOND)) as time_to_answer\n",
    "              FROM `bigquery-public-data.stackoverflow.posts_questions` AS q\n",
    "                  INNER JOIN `bigquery-public-data.stackoverflow.posts_answers` AS a\n",
    "              ON q.id = a.parent_id\n",
    "              WHERE q.creation_date >= '2018-01-01' and q.creation_date < '2018-02-01'\n",
    "              GROUP BY q_id\n",
    "              ORDER BY time_to_answer\n",
    "              \"\"\"\n",
    "\n",
    "first_result = client.query(first_query).result().to_dataframe()\n",
    "print(\"Percentage of answered questions: %s%%\" % \\\n",
    "      (sum(first_result[\"time_to_answer\"].notnull()) / len(first_result) * 100))\n",
    "print(\"Number of questions:\", len(first_result))\n",
    "first_result.head()"
   ]
  },
  {
   "cell_type": "code",
   "execution_count": 6,
   "metadata": {},
   "outputs": [
    {
     "output_type": "stream",
     "name": "stdout",
     "text": [
      "Percentage of answered questions: 82.89006873783538%\nNumber of questions: 162356\n"
     ]
    }
   ],
   "source": [
    "# Your code here\n",
    "correct_query = \"\"\"\n",
    "              SELECT q.id AS q_id,\n",
    "                  MIN(TIMESTAMP_DIFF(a.creation_date, q.creation_date, SECOND)) as time_to_answer\n",
    "              FROM `bigquery-public-data.stackoverflow.posts_questions` AS q\n",
    "                  LEFT JOIN `bigquery-public-data.stackoverflow.posts_answers` AS a\n",
    "              ON q.id = a.parent_id\n",
    "              WHERE q.creation_date >= '2018-01-01' and q.creation_date < '2018-02-01'\n",
    "              GROUP BY q_id\n",
    "              ORDER BY time_to_answer\n",
    "                \"\"\"\n",
    "\n",
    "# Run the query, and return a pandas DataFrame\n",
    "correct_result = client.query(correct_query).result().to_dataframe()\n",
    "print(\"Percentage of answered questions: %s%%\" % \\\n",
    "      (sum(correct_result[\"time_to_answer\"].notnull()) / len(correct_result) * 100))\n",
    "print(\"Number of questions:\", len(correct_result))"
   ]
  },
  {
   "source": [
    "**2) Initial questions and answers, Part 1**\n",
    "\n",
    "You're interested in understanding the initial experiences that users typically have with the Stack Overflow website. Is it more common for users to first ask questions or provide answers? After signing up, how long does it take for users to first interact with the website? To explore this further, you draft the (partial) query in the code cell below.\n",
    "\n",
    "The query returns a table with three columns:\n",
    "\n",
    "    owner_user_id - the user ID\n",
    "    q_creation_date - the first time the user asked a question\n",
    "    a_creation_date - the first time the user contributed an answer\n",
    "\n",
    "You want to keep track of users who have asked questions, but have yet to provide answers. And, your table should also include users who have answered questions, but have yet to pose their own questions.\n",
    "\n",
    "With this in mind, please fill in the appropriate JOIN (i.e., INNER, LEFT, RIGHT, or FULL) to return the correct information.\n",
    "\n",
    "Note: You need only fill in the appropriate JOIN. All other parts of the query should be left as-is. (You also don't need to write any additional code to run the query, since the cbeck() method will take care of this for you.)\n",
    "\n",
    "To avoid returning too much data, we'll restrict our attention to questions and answers posed in January 2019. We'll amend the timeframe in Part 2 of this question to be more realistic!"
   ],
   "cell_type": "markdown",
   "metadata": {}
  },
  {
   "cell_type": "code",
   "execution_count": 8,
   "metadata": {},
   "outputs": [
    {
     "output_type": "execute_result",
     "data": {
      "text/plain": [
       "       owner_user_id                  q_creation_date  \\\n",
       "0            7415247 2019-01-15 10:53:07.370000+00:00   \n",
       "1            8380616 2019-01-30 16:57:52.703000+00:00   \n",
       "2            1157814 2019-01-19 10:33:39.277000+00:00   \n",
       "3           10912594 2019-01-15 07:37:21.147000+00:00   \n",
       "4            1266650 2019-01-30 18:44:27.493000+00:00   \n",
       "...              ...                              ...   \n",
       "21712            267 2019-01-14 07:51:31.843000+00:00   \n",
       "21713        5552776 2019-01-16 11:07:29.533000+00:00   \n",
       "21714        7936642 2019-01-09 13:01:47.330000+00:00   \n",
       "21715       10712972 2019-01-09 12:09:53.810000+00:00   \n",
       "21716        5341220 2019-01-05 21:17:12.277000+00:00   \n",
       "\n",
       "                       a_creation_date  \n",
       "0     2019-01-29 09:10:32.643000+00:00  \n",
       "1     2019-01-30 16:59:24.783000+00:00  \n",
       "2     2019-01-22 16:11:24.680000+00:00  \n",
       "3     2019-01-15 12:14:51.683000+00:00  \n",
       "4     2019-01-19 20:27:44.990000+00:00  \n",
       "...                                ...  \n",
       "21712 2019-01-02 13:20:47.030000+00:00  \n",
       "21713 2019-01-16 11:47:17.133000+00:00  \n",
       "21714 2019-01-11 10:55:01.717000+00:00  \n",
       "21715 2019-01-15 08:38:03.943000+00:00  \n",
       "21716 2019-01-06 04:35:42.493000+00:00  \n",
       "\n",
       "[21717 rows x 3 columns]"
      ],
      "text/html": "<div>\n<style scoped>\n    .dataframe tbody tr th:only-of-type {\n        vertical-align: middle;\n    }\n\n    .dataframe tbody tr th {\n        vertical-align: top;\n    }\n\n    .dataframe thead th {\n        text-align: right;\n    }\n</style>\n<table border=\"1\" class=\"dataframe\">\n  <thead>\n    <tr style=\"text-align: right;\">\n      <th></th>\n      <th>owner_user_id</th>\n      <th>q_creation_date</th>\n      <th>a_creation_date</th>\n    </tr>\n  </thead>\n  <tbody>\n    <tr>\n      <th>0</th>\n      <td>7415247</td>\n      <td>2019-01-15 10:53:07.370000+00:00</td>\n      <td>2019-01-29 09:10:32.643000+00:00</td>\n    </tr>\n    <tr>\n      <th>1</th>\n      <td>8380616</td>\n      <td>2019-01-30 16:57:52.703000+00:00</td>\n      <td>2019-01-30 16:59:24.783000+00:00</td>\n    </tr>\n    <tr>\n      <th>2</th>\n      <td>1157814</td>\n      <td>2019-01-19 10:33:39.277000+00:00</td>\n      <td>2019-01-22 16:11:24.680000+00:00</td>\n    </tr>\n    <tr>\n      <th>3</th>\n      <td>10912594</td>\n      <td>2019-01-15 07:37:21.147000+00:00</td>\n      <td>2019-01-15 12:14:51.683000+00:00</td>\n    </tr>\n    <tr>\n      <th>4</th>\n      <td>1266650</td>\n      <td>2019-01-30 18:44:27.493000+00:00</td>\n      <td>2019-01-19 20:27:44.990000+00:00</td>\n    </tr>\n    <tr>\n      <th>...</th>\n      <td>...</td>\n      <td>...</td>\n      <td>...</td>\n    </tr>\n    <tr>\n      <th>21712</th>\n      <td>267</td>\n      <td>2019-01-14 07:51:31.843000+00:00</td>\n      <td>2019-01-02 13:20:47.030000+00:00</td>\n    </tr>\n    <tr>\n      <th>21713</th>\n      <td>5552776</td>\n      <td>2019-01-16 11:07:29.533000+00:00</td>\n      <td>2019-01-16 11:47:17.133000+00:00</td>\n    </tr>\n    <tr>\n      <th>21714</th>\n      <td>7936642</td>\n      <td>2019-01-09 13:01:47.330000+00:00</td>\n      <td>2019-01-11 10:55:01.717000+00:00</td>\n    </tr>\n    <tr>\n      <th>21715</th>\n      <td>10712972</td>\n      <td>2019-01-09 12:09:53.810000+00:00</td>\n      <td>2019-01-15 08:38:03.943000+00:00</td>\n    </tr>\n    <tr>\n      <th>21716</th>\n      <td>5341220</td>\n      <td>2019-01-05 21:17:12.277000+00:00</td>\n      <td>2019-01-06 04:35:42.493000+00:00</td>\n    </tr>\n  </tbody>\n</table>\n<p>21717 rows × 3 columns</p>\n</div>"
     },
     "metadata": {},
     "execution_count": 8
    }
   ],
   "source": [
    "# Your code here\n",
    "q_and_a_query = \"\"\"\n",
    "                SELECT q.owner_user_id AS owner_user_id,\n",
    "                    MIN(q.creation_date) AS q_creation_date,\n",
    "                    MIN(a.creation_date) AS a_creation_date\n",
    "                FROM `bigquery-public-data.stackoverflow.posts_questions` AS q\n",
    "                    FULL JOIN `bigquery-public-data.stackoverflow.posts_answers` AS a\n",
    "                ON q.owner_user_id = a.owner_user_id \n",
    "                WHERE q.creation_date >= '2019-01-01' AND q.creation_date < '2019-02-01' \n",
    "                    AND a.creation_date >= '2019-01-01' AND a.creation_date < '2019-02-01'\n",
    "                GROUP BY owner_user_id\n",
    "                \"\"\"\n",
    "\n",
    "# Run the query, and return a pandas DataFrame\n",
    "q_and_a_result = client.query(q_and_a_query).result().to_dataframe()  \n",
    "\n",
    "q_and_a_result              "
   ]
  },
  {
   "source": [
    "**3) Initial questions and answers, Part 2**\n",
    "\n",
    "![title](./img/join_5.png)\n",
    "\n",
    "Write a query that returns the following columns:\n",
    "\n",
    "    id - the IDs of all users who created Stack Overflow accounts in January 2019 (January 1, 2019, to January 31, 2019, inclusive)\n",
    "    q_creation_date - the first time the user posted a question on the site; if the user has never posted a question, the value should be null\n",
    "    a_creation_date - the first time the user posted a question on the site; if the user has never posted a question, the value should be null\n",
    "\n",
    "Note that questions and answers posted after January 31, 2019, should still be included in the results. And, all users who joined the site in January 2019 should be included (even if they have never posted a question or provided an answer).\n",
    "\n",
    "The query from the previous question should be a nice starting point to answering this question! You'll need to use the posts_answers and posts_questions tables. You'll also need to use the users table from the Stack Overflow dataset. The relevant columns from the users table are id (the ID of each user) and creation_date (when the user joined the Stack Overflow site, in DATETIME format)."
   ],
   "cell_type": "markdown",
   "metadata": {}
  },
  {
   "cell_type": "code",
   "execution_count": 9,
   "metadata": {},
   "outputs": [
    {
     "output_type": "execute_result",
     "data": {
      "text/plain": [
       "              id                  q_creation_date a_creation_date\n",
       "0       10982457                              NaT             NaT\n",
       "1       10993177                              NaT             NaT\n",
       "2       10860993                              NaT             NaT\n",
       "3       10964599                              NaT             NaT\n",
       "4       10952343                              NaT             NaT\n",
       "...          ...                              ...             ...\n",
       "142155  10972773                              NaT             NaT\n",
       "142156  10890993                              NaT             NaT\n",
       "142157  10972309 2019-08-10 04:33:33.440000+00:00             NaT\n",
       "142158  10937416 2020-09-23 12:09:14.613000+00:00             NaT\n",
       "142159  10892078 2019-06-05 19:40:04.160000+00:00             NaT\n",
       "\n",
       "[142160 rows x 3 columns]"
      ],
      "text/html": "<div>\n<style scoped>\n    .dataframe tbody tr th:only-of-type {\n        vertical-align: middle;\n    }\n\n    .dataframe tbody tr th {\n        vertical-align: top;\n    }\n\n    .dataframe thead th {\n        text-align: right;\n    }\n</style>\n<table border=\"1\" class=\"dataframe\">\n  <thead>\n    <tr style=\"text-align: right;\">\n      <th></th>\n      <th>id</th>\n      <th>q_creation_date</th>\n      <th>a_creation_date</th>\n    </tr>\n  </thead>\n  <tbody>\n    <tr>\n      <th>0</th>\n      <td>10982457</td>\n      <td>NaT</td>\n      <td>NaT</td>\n    </tr>\n    <tr>\n      <th>1</th>\n      <td>10993177</td>\n      <td>NaT</td>\n      <td>NaT</td>\n    </tr>\n    <tr>\n      <th>2</th>\n      <td>10860993</td>\n      <td>NaT</td>\n      <td>NaT</td>\n    </tr>\n    <tr>\n      <th>3</th>\n      <td>10964599</td>\n      <td>NaT</td>\n      <td>NaT</td>\n    </tr>\n    <tr>\n      <th>4</th>\n      <td>10952343</td>\n      <td>NaT</td>\n      <td>NaT</td>\n    </tr>\n    <tr>\n      <th>...</th>\n      <td>...</td>\n      <td>...</td>\n      <td>...</td>\n    </tr>\n    <tr>\n      <th>142155</th>\n      <td>10972773</td>\n      <td>NaT</td>\n      <td>NaT</td>\n    </tr>\n    <tr>\n      <th>142156</th>\n      <td>10890993</td>\n      <td>NaT</td>\n      <td>NaT</td>\n    </tr>\n    <tr>\n      <th>142157</th>\n      <td>10972309</td>\n      <td>2019-08-10 04:33:33.440000+00:00</td>\n      <td>NaT</td>\n    </tr>\n    <tr>\n      <th>142158</th>\n      <td>10937416</td>\n      <td>2020-09-23 12:09:14.613000+00:00</td>\n      <td>NaT</td>\n    </tr>\n    <tr>\n      <th>142159</th>\n      <td>10892078</td>\n      <td>2019-06-05 19:40:04.160000+00:00</td>\n      <td>NaT</td>\n    </tr>\n  </tbody>\n</table>\n<p>142160 rows × 3 columns</p>\n</div>"
     },
     "metadata": {},
     "execution_count": 9
    }
   ],
   "source": [
    "# Your code here\n",
    "three_tables_query = \"\"\"\n",
    "                SELECT u.id AS id,\n",
    "                         MIN(q.creation_date) AS q_creation_date,\n",
    "                         MIN(a.creation_date) AS a_creation_date\n",
    "                     FROM `bigquery-public-data.stackoverflow.users` AS u\n",
    "                         LEFT JOIN `bigquery-public-data.stackoverflow.posts_answers` AS a\n",
    "                             ON u.id = a.owner_user_id\n",
    "                         LEFT JOIN `bigquery-public-data.stackoverflow.posts_questions` AS q\n",
    "                             ON q.owner_user_id = u.id\n",
    "                     WHERE u.creation_date >= '2019-01-01' and u.creation_date < '2019-02-01'\n",
    "                     GROUP BY id\n",
    "                \"\"\"\n",
    "\n",
    "# Run the query, and return a pandas DataFrame\n",
    "three_tables_result = client.query(three_tables_query).result().to_dataframe()  \n",
    "\n",
    "three_tables_result "
   ]
  },
  {
   "source": [
    "**4) How many distinct users posted on January 1, 2019?**\n",
    "\n",
    "In the code cell below, write a query that returns a table with a single column:\n",
    "\n",
    "* owner_user_id - the IDs of all users who posted at least one question or answer on January 1, 2019. Each user ID should appear at most once.\n",
    "\n",
    "In the posts_questions (and posts_answers) tables, you can get the ID of the original poster from the owner_user_id column. Likewise, the date of the original posting can be found in the creation_date column.\n",
    "\n",
    "In order for your answer to be marked correct, your query must use a UNION."
   ],
   "cell_type": "markdown",
   "metadata": {}
  },
  {
   "cell_type": "code",
   "execution_count": 13,
   "metadata": {},
   "outputs": [
    {
     "output_type": "execute_result",
     "data": {
      "text/plain": [
       "      owner_user_id\n",
       "0         1745073.0\n",
       "1         6091102.0\n",
       "2        10432674.0\n",
       "3         6216358.0\n",
       "4        10775599.0\n",
       "...             ...\n",
       "4390      3266179.0\n",
       "4391      1980359.0\n",
       "4392      2225384.0\n",
       "4393      4408508.0\n",
       "4394      1038828.0\n",
       "\n",
       "[4395 rows x 1 columns]"
      ],
      "text/html": "<div>\n<style scoped>\n    .dataframe tbody tr th:only-of-type {\n        vertical-align: middle;\n    }\n\n    .dataframe tbody tr th {\n        vertical-align: top;\n    }\n\n    .dataframe thead th {\n        text-align: right;\n    }\n</style>\n<table border=\"1\" class=\"dataframe\">\n  <thead>\n    <tr style=\"text-align: right;\">\n      <th></th>\n      <th>owner_user_id</th>\n    </tr>\n  </thead>\n  <tbody>\n    <tr>\n      <th>0</th>\n      <td>1745073.0</td>\n    </tr>\n    <tr>\n      <th>1</th>\n      <td>6091102.0</td>\n    </tr>\n    <tr>\n      <th>2</th>\n      <td>10432674.0</td>\n    </tr>\n    <tr>\n      <th>3</th>\n      <td>6216358.0</td>\n    </tr>\n    <tr>\n      <th>4</th>\n      <td>10775599.0</td>\n    </tr>\n    <tr>\n      <th>...</th>\n      <td>...</td>\n    </tr>\n    <tr>\n      <th>4390</th>\n      <td>3266179.0</td>\n    </tr>\n    <tr>\n      <th>4391</th>\n      <td>1980359.0</td>\n    </tr>\n    <tr>\n      <th>4392</th>\n      <td>2225384.0</td>\n    </tr>\n    <tr>\n      <th>4393</th>\n      <td>4408508.0</td>\n    </tr>\n    <tr>\n      <th>4394</th>\n      <td>1038828.0</td>\n    </tr>\n  </tbody>\n</table>\n<p>4395 rows × 1 columns</p>\n</div>"
     },
     "metadata": {},
     "execution_count": 13
    }
   ],
   "source": [
    "all_users_query = \"\"\"\n",
    "                   SELECT q.owner_user_id \n",
    "                  FROM `bigquery-public-data.stackoverflow.posts_questions` AS q\n",
    "                  WHERE EXTRACT(DATE FROM q.creation_date) = '2019-01-01'\n",
    "                  UNION DISTINCT\n",
    "                  SELECT a.owner_user_id\n",
    "                  FROM `bigquery-public-data.stackoverflow.posts_answers` AS a\n",
    "                  WHERE EXTRACT(DATE FROM a.creation_date) = '2019-01-01'\n",
    "                  \"\"\"\n",
    "\n",
    "# Run the query, and return a pandas DataFrame\n",
    "three_tables_result = client.query(all_users_query).result().to_dataframe()  \n",
    "\n",
    "three_tables_result                   "
   ]
  },
  {
   "cell_type": "code",
   "execution_count": null,
   "metadata": {},
   "outputs": [],
   "source": []
  }
 ]
}