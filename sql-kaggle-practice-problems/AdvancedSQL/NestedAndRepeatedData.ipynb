{
 "metadata": {
  "language_info": {
   "codemirror_mode": {
    "name": "ipython",
    "version": 3
   },
   "file_extension": ".py",
   "mimetype": "text/x-python",
   "name": "python",
   "nbconvert_exporter": "python",
   "pygments_lexer": "ipython3",
   "version": "3.7.9-final"
  },
  "orig_nbformat": 2,
  "kernelspec": {
   "name": "python3",
   "display_name": "Python 3",
   "language": "python"
  }
 },
 "nbformat": 4,
 "nbformat_minor": 2,
 "cells": [
  {
   "source": [
    "### Nested And Repeated Data"
   ],
   "cell_type": "markdown",
   "metadata": {}
  },
  {
   "cell_type": "code",
   "execution_count": 2,
   "metadata": {},
   "outputs": [],
   "source": [
    "# Pointing the json key file of google cloud service account to local copy\n",
    "import os\n",
    "\n",
    "os.environ['GOOGLE_APPLICATION_CREDENTIALS'] ='key.json'"
   ]
  },
  {
   "source": [
    "#### Example\n",
    "\n",
    "We'll work with the [Google Analytics Sample dataset](https://www.kaggle.com/bigquery/google-analytics-sample). It contains information tracking the behavior of visitors to the Google Merchandise store, an e-commerce website that sells Google branded items."
   ],
   "cell_type": "markdown",
   "metadata": {}
  },
  {
   "cell_type": "code",
   "execution_count": 3,
   "metadata": {},
   "outputs": [
    {
     "output_type": "execute_result",
     "data": {
      "text/plain": [
       "   visitorId  visitNumber     visitId  visitStartTime      date  \\\n",
       "0        NaN            1  1501583974      1501583974  20170801   \n",
       "1        NaN            1  1501616585      1501616585  20170801   \n",
       "2        NaN            1  1501583344      1501583344  20170801   \n",
       "3        NaN            1  1501573386      1501573386  20170801   \n",
       "4        NaN            8  1501651467      1501651467  20170801   \n",
       "\n",
       "                                              totals  \\\n",
       "0  {'visits': 1, 'hits': 1, 'pageviews': 1, 'time...   \n",
       "1  {'visits': 1, 'hits': 1, 'pageviews': 1, 'time...   \n",
       "2  {'visits': 1, 'hits': 1, 'pageviews': 1, 'time...   \n",
       "3  {'visits': 1, 'hits': 1, 'pageviews': 1, 'time...   \n",
       "4  {'visits': 1, 'hits': 1, 'pageviews': 1, 'time...   \n",
       "\n",
       "                                       trafficSource  \\\n",
       "0  {'referralPath': None, 'campaign': '(not set)'...   \n",
       "1  {'referralPath': None, 'campaign': '(not set)'...   \n",
       "2  {'referralPath': None, 'campaign': '(not set)'...   \n",
       "3  {'referralPath': None, 'campaign': '(not set)'...   \n",
       "4  {'referralPath': None, 'campaign': '(not set)'...   \n",
       "\n",
       "                                              device  \\\n",
       "0  {'browser': 'Chrome', 'browserVersion': 'not a...   \n",
       "1  {'browser': 'Chrome', 'browserVersion': 'not a...   \n",
       "2  {'browser': 'Chrome', 'browserVersion': 'not a...   \n",
       "3  {'browser': 'Chrome', 'browserVersion': 'not a...   \n",
       "4  {'browser': 'Chrome', 'browserVersion': 'not a...   \n",
       "\n",
       "                                          geoNetwork  \\\n",
       "0  {'continent': 'Americas', 'subContinent': 'Car...   \n",
       "1  {'continent': 'Americas', 'subContinent': 'Nor...   \n",
       "2  {'continent': 'Asia', 'subContinent': 'Souther...   \n",
       "3  {'continent': 'Europe', 'subContinent': 'Weste...   \n",
       "4  {'continent': 'Americas', 'subContinent': 'Nor...   \n",
       "\n",
       "                           customDimensions  \\\n",
       "0                                        []   \n",
       "1  [{'index': 4, 'value': 'North America'}]   \n",
       "2           [{'index': 4, 'value': 'APAC'}]   \n",
       "3           [{'index': 4, 'value': 'EMEA'}]   \n",
       "4  [{'index': 4, 'value': 'North America'}]   \n",
       "\n",
       "                                                hits        fullVisitorId  \\\n",
       "0  [{'hitNumber': 1, 'time': 0, 'hour': 3, 'minut...  2248281639583218707   \n",
       "1  [{'hitNumber': 1, 'time': 0, 'hour': 12, 'minu...  8647436381089107732   \n",
       "2  [{'hitNumber': 1, 'time': 0, 'hour': 3, 'minut...  2055839700856389632   \n",
       "3  [{'hitNumber': 1, 'time': 0, 'hour': 0, 'minut...  0750846065342433129   \n",
       "4  [{'hitNumber': 1, 'time': 0, 'hour': 22, 'minu...  0573427169410921198   \n",
       "\n",
       "  userId clientId channelGrouping  socialEngagementType  \n",
       "0   None     None  Organic Search  Not Socially Engaged  \n",
       "1   None     None  Organic Search  Not Socially Engaged  \n",
       "2   None     None  Organic Search  Not Socially Engaged  \n",
       "3   None     None          Direct  Not Socially Engaged  \n",
       "4   None     None  Organic Search  Not Socially Engaged  "
      ],
      "text/html": "<div>\n<style scoped>\n    .dataframe tbody tr th:only-of-type {\n        vertical-align: middle;\n    }\n\n    .dataframe tbody tr th {\n        vertical-align: top;\n    }\n\n    .dataframe thead th {\n        text-align: right;\n    }\n</style>\n<table border=\"1\" class=\"dataframe\">\n  <thead>\n    <tr style=\"text-align: right;\">\n      <th></th>\n      <th>visitorId</th>\n      <th>visitNumber</th>\n      <th>visitId</th>\n      <th>visitStartTime</th>\n      <th>date</th>\n      <th>totals</th>\n      <th>trafficSource</th>\n      <th>device</th>\n      <th>geoNetwork</th>\n      <th>customDimensions</th>\n      <th>hits</th>\n      <th>fullVisitorId</th>\n      <th>userId</th>\n      <th>clientId</th>\n      <th>channelGrouping</th>\n      <th>socialEngagementType</th>\n    </tr>\n  </thead>\n  <tbody>\n    <tr>\n      <th>0</th>\n      <td>NaN</td>\n      <td>1</td>\n      <td>1501583974</td>\n      <td>1501583974</td>\n      <td>20170801</td>\n      <td>{'visits': 1, 'hits': 1, 'pageviews': 1, 'time...</td>\n      <td>{'referralPath': None, 'campaign': '(not set)'...</td>\n      <td>{'browser': 'Chrome', 'browserVersion': 'not a...</td>\n      <td>{'continent': 'Americas', 'subContinent': 'Car...</td>\n      <td>[]</td>\n      <td>[{'hitNumber': 1, 'time': 0, 'hour': 3, 'minut...</td>\n      <td>2248281639583218707</td>\n      <td>None</td>\n      <td>None</td>\n      <td>Organic Search</td>\n      <td>Not Socially Engaged</td>\n    </tr>\n    <tr>\n      <th>1</th>\n      <td>NaN</td>\n      <td>1</td>\n      <td>1501616585</td>\n      <td>1501616585</td>\n      <td>20170801</td>\n      <td>{'visits': 1, 'hits': 1, 'pageviews': 1, 'time...</td>\n      <td>{'referralPath': None, 'campaign': '(not set)'...</td>\n      <td>{'browser': 'Chrome', 'browserVersion': 'not a...</td>\n      <td>{'continent': 'Americas', 'subContinent': 'Nor...</td>\n      <td>[{'index': 4, 'value': 'North America'}]</td>\n      <td>[{'hitNumber': 1, 'time': 0, 'hour': 12, 'minu...</td>\n      <td>8647436381089107732</td>\n      <td>None</td>\n      <td>None</td>\n      <td>Organic Search</td>\n      <td>Not Socially Engaged</td>\n    </tr>\n    <tr>\n      <th>2</th>\n      <td>NaN</td>\n      <td>1</td>\n      <td>1501583344</td>\n      <td>1501583344</td>\n      <td>20170801</td>\n      <td>{'visits': 1, 'hits': 1, 'pageviews': 1, 'time...</td>\n      <td>{'referralPath': None, 'campaign': '(not set)'...</td>\n      <td>{'browser': 'Chrome', 'browserVersion': 'not a...</td>\n      <td>{'continent': 'Asia', 'subContinent': 'Souther...</td>\n      <td>[{'index': 4, 'value': 'APAC'}]</td>\n      <td>[{'hitNumber': 1, 'time': 0, 'hour': 3, 'minut...</td>\n      <td>2055839700856389632</td>\n      <td>None</td>\n      <td>None</td>\n      <td>Organic Search</td>\n      <td>Not Socially Engaged</td>\n    </tr>\n    <tr>\n      <th>3</th>\n      <td>NaN</td>\n      <td>1</td>\n      <td>1501573386</td>\n      <td>1501573386</td>\n      <td>20170801</td>\n      <td>{'visits': 1, 'hits': 1, 'pageviews': 1, 'time...</td>\n      <td>{'referralPath': None, 'campaign': '(not set)'...</td>\n      <td>{'browser': 'Chrome', 'browserVersion': 'not a...</td>\n      <td>{'continent': 'Europe', 'subContinent': 'Weste...</td>\n      <td>[{'index': 4, 'value': 'EMEA'}]</td>\n      <td>[{'hitNumber': 1, 'time': 0, 'hour': 0, 'minut...</td>\n      <td>0750846065342433129</td>\n      <td>None</td>\n      <td>None</td>\n      <td>Direct</td>\n      <td>Not Socially Engaged</td>\n    </tr>\n    <tr>\n      <th>4</th>\n      <td>NaN</td>\n      <td>8</td>\n      <td>1501651467</td>\n      <td>1501651467</td>\n      <td>20170801</td>\n      <td>{'visits': 1, 'hits': 1, 'pageviews': 1, 'time...</td>\n      <td>{'referralPath': None, 'campaign': '(not set)'...</td>\n      <td>{'browser': 'Chrome', 'browserVersion': 'not a...</td>\n      <td>{'continent': 'Americas', 'subContinent': 'Nor...</td>\n      <td>[{'index': 4, 'value': 'North America'}]</td>\n      <td>[{'hitNumber': 1, 'time': 0, 'hour': 22, 'minu...</td>\n      <td>0573427169410921198</td>\n      <td>None</td>\n      <td>None</td>\n      <td>Organic Search</td>\n      <td>Not Socially Engaged</td>\n    </tr>\n  </tbody>\n</table>\n</div>"
     },
     "metadata": {},
     "execution_count": 3
    }
   ],
   "source": [
    "from google.cloud import bigquery\n",
    "\n",
    "# Create a \"Client\" object\n",
    "client = bigquery.Client()\n",
    "\n",
    "# Construct a reference to the \"google_analytics_sample\" dataset\n",
    "dataset_ref = client.dataset(\"google_analytics_sample\", project=\"bigquery-public-data\")\n",
    "\n",
    "# Construct a reference to the \"ga_sessions_20170801\" table\n",
    "table_ref = dataset_ref.table(\"ga_sessions_20170801\")\n",
    "\n",
    "# API request - fetch the table\n",
    "table = client.get_table(table_ref)\n",
    "\n",
    "# Preview the first five lines of the table\n",
    "client.list_rows(table, max_results=5).to_dataframe()"
   ]
  },
  {
   "source": [
    "For a description of each field, refer to this [data dictionary](https://support.google.com/analytics/answer/3437719?hl=en).\n",
    "\n",
    "The table has many nested fields, which you can verify by looking at either the [data dictionary](https://support.google.com/analytics/answer/3437719?hl=en) (hint: search for appearances of 'RECORD' on the page) or the table preview above.\n",
    "\n",
    "In our first query against this table, we'll work with the \"totals\" and \"device\" columns."
   ],
   "cell_type": "markdown",
   "metadata": {}
  },
  {
   "cell_type": "code",
   "execution_count": 4,
   "metadata": {},
   "outputs": [
    {
     "output_type": "execute_result",
     "data": {
      "text/plain": [
       "      device_browser  total_transactions\n",
       "0             Chrome                41.0\n",
       "1             Safari                 3.0\n",
       "2            Firefox                 1.0\n",
       "3  Internet Explorer                 NaN\n",
       "4         UC Browser                 NaN"
      ],
      "text/html": "<div>\n<style scoped>\n    .dataframe tbody tr th:only-of-type {\n        vertical-align: middle;\n    }\n\n    .dataframe tbody tr th {\n        vertical-align: top;\n    }\n\n    .dataframe thead th {\n        text-align: right;\n    }\n</style>\n<table border=\"1\" class=\"dataframe\">\n  <thead>\n    <tr style=\"text-align: right;\">\n      <th></th>\n      <th>device_browser</th>\n      <th>total_transactions</th>\n    </tr>\n  </thead>\n  <tbody>\n    <tr>\n      <th>0</th>\n      <td>Chrome</td>\n      <td>41.0</td>\n    </tr>\n    <tr>\n      <th>1</th>\n      <td>Safari</td>\n      <td>3.0</td>\n    </tr>\n    <tr>\n      <th>2</th>\n      <td>Firefox</td>\n      <td>1.0</td>\n    </tr>\n    <tr>\n      <th>3</th>\n      <td>Internet Explorer</td>\n      <td>NaN</td>\n    </tr>\n    <tr>\n      <th>4</th>\n      <td>UC Browser</td>\n      <td>NaN</td>\n    </tr>\n  </tbody>\n</table>\n</div>"
     },
     "metadata": {},
     "execution_count": 4
    }
   ],
   "source": [
    "# Query to count the number of transactions per browser\n",
    "query = \"\"\"\n",
    "        SELECT device.browser AS device_browser,\n",
    "            SUM(totals.transactions) as total_transactions\n",
    "        FROM `bigquery-public-data.google_analytics_sample.ga_sessions_20170801`\n",
    "        GROUP BY device_browser\n",
    "        ORDER BY total_transactions DESC\n",
    "        \"\"\"\n",
    "\n",
    "# Run the query, and return a pandas DataFrame\n",
    "result = client.query(query).result().to_dataframe()\n",
    "result.head()"
   ]
  },
  {
   "cell_type": "code",
   "execution_count": 5,
   "metadata": {},
   "outputs": [
    {
     "output_type": "execute_result",
     "data": {
      "text/plain": [
       "                                          path  counts\n",
       "0                                        /home    1257\n",
       "1       /google+redesign/shop+by+brand/youtube     587\n",
       "2  /google+redesign/apparel/mens/mens+t+shirts     117\n",
       "3                                 /signin.html      78\n",
       "4                                 /basket.html      35"
      ],
      "text/html": "<div>\n<style scoped>\n    .dataframe tbody tr th:only-of-type {\n        vertical-align: middle;\n    }\n\n    .dataframe tbody tr th {\n        vertical-align: top;\n    }\n\n    .dataframe thead th {\n        text-align: right;\n    }\n</style>\n<table border=\"1\" class=\"dataframe\">\n  <thead>\n    <tr style=\"text-align: right;\">\n      <th></th>\n      <th>path</th>\n      <th>counts</th>\n    </tr>\n  </thead>\n  <tbody>\n    <tr>\n      <th>0</th>\n      <td>/home</td>\n      <td>1257</td>\n    </tr>\n    <tr>\n      <th>1</th>\n      <td>/google+redesign/shop+by+brand/youtube</td>\n      <td>587</td>\n    </tr>\n    <tr>\n      <th>2</th>\n      <td>/google+redesign/apparel/mens/mens+t+shirts</td>\n      <td>117</td>\n    </tr>\n    <tr>\n      <th>3</th>\n      <td>/signin.html</td>\n      <td>78</td>\n    </tr>\n    <tr>\n      <th>4</th>\n      <td>/basket.html</td>\n      <td>35</td>\n    </tr>\n  </tbody>\n</table>\n</div>"
     },
     "metadata": {},
     "execution_count": 5
    }
   ],
   "source": [
    "# Query to determine most popular landing point on the website\n",
    "query = \"\"\"\n",
    "        SELECT hits.page.pagePath as path,\n",
    "            COUNT(hits.page.pagePath) as counts\n",
    "        FROM `bigquery-public-data.google_analytics_sample.ga_sessions_20170801`, \n",
    "            UNNEST(hits) as hits\n",
    "        WHERE hits.type=\"PAGE\" and hits.hitNumber=1\n",
    "        GROUP BY path\n",
    "        ORDER BY counts DESC\n",
    "        \"\"\"\n",
    "\n",
    "# Run the query, and return a pandas DataFrame\n",
    "result = client.query(query).result().to_dataframe()\n",
    "result.head()"
   ]
  },
  {
   "source": [
    "#### Exercises\n",
    "\n",
    "**1) Who had the most commits in 2016?**\n",
    "\n",
    "GitHub is the most popular place to collaborate on software projects. A GitHub repository (or repo) is a collection of files associated with a specific project, and a GitHub commit is a change that a user has made to a repository. We refer to the user as a committer.\n",
    "\n",
    "The sample_commits table contains a small sample of GitHub commits, where each row corresponds to different commit. The code cell below fetches the table and shows the first five rows of this table.\n"
   ],
   "cell_type": "markdown",
   "metadata": {}
  },
  {
   "cell_type": "code",
   "execution_count": 6,
   "metadata": {},
   "outputs": [
    {
     "output_type": "execute_result",
     "data": {
      "text/plain": [
       "                                     commit  \\\n",
       "0  3eca86e75ec7a7d4b9a9c8091b11676f7bd2a39f   \n",
       "1  7158627686f02319c50c8d9d78f75d4c8d126ff2   \n",
       "2  9732cafd9dc0206479be919baf0067239f0a63ca   \n",
       "3  4702abd3f9728893ad5b0f4389e1902588510459   \n",
       "4  57bd4b91a6cfc5bad4c5d829ef85293ea63643ea   \n",
       "\n",
       "                                       tree  \\\n",
       "0  8e1b4380409a85a922ee0d3f622b5dd4d16bcfad   \n",
       "1  3b4d781bd966f07cad1b67b137f0ff8b89430e9a   \n",
       "2  c8878035ac9cb6dce592957f12dc1723a583989d   \n",
       "3  32926e7c55ef585d9b9c174a0e5f9ed13ed6bf7e   \n",
       "4  2ffc2066eb7638e185663e9d849663403229d4e5   \n",
       "\n",
       "                                       parent  \\\n",
       "0  [104a0c02e8b1936c049e18a6d4e4ab040fb61213]   \n",
       "1  [66aa8d6a145b6a66566b4fce219cc56c3d0e01c3]   \n",
       "2  [f3c003f72dfb2497056bcbb864885837a1968ed5]   \n",
       "3  [ddf28352b80c86754a6424e3a61e8bdf9213b3c7]   \n",
       "4  [f74c95c20bad8e183e41283475f68a3e7b247af4]   \n",
       "\n",
       "                                              author  \\\n",
       "0  {'name': 'Mark Rutland', 'email': '1db9dd262be...   \n",
       "1  {'name': 'Will Deacon', 'email': 'b913f13ef92a...   \n",
       "2  {'name': 'Jiang Liu', 'email': 'c745fa7b96fe79...   \n",
       "3  {'name': 'Nicolas Pitre', 'email': '408789a210...   \n",
       "4  {'name': 'Ben Dooks', 'email': '1177f64998f284...   \n",
       "\n",
       "                                           committer  \\\n",
       "0  {'name': 'Catalin Marinas', 'email': '15ce75b2...   \n",
       "1  {'name': 'Catalin Marinas', 'email': '15ce75b2...   \n",
       "2  {'name': 'Catalin Marinas', 'email': '15ce75b2...   \n",
       "3  {'name': 'Arnd Bergmann', 'email': 'f2c659f019...   \n",
       "4  {'name': 'Ben Dooks', 'email': '1177f64998f284...   \n",
       "\n",
       "                                             subject  \\\n",
       "0             arm64: Remove fixmap include fragility   \n",
       "1  arm64: percpu: implement optimised pcpu access...   \n",
       "2  arm64, jump label: optimize jump label impleme...   \n",
       "3                           ARM: mach-nuc93x: delete   \n",
       "4  [ARM] S3C24XX: Movev udc headers to arch/arm/p...   \n",
       "\n",
       "                                             message  \\\n",
       "0  arm64: Remove fixmap include fragility\\n\\nThe ...   \n",
       "1  arm64: percpu: implement optimised pcpu access...   \n",
       "2  arm64, jump label: optimize jump label impleme...   \n",
       "3  ARM: mach-nuc93x: delete\\n\\nThis architecture ...   \n",
       "4  [ARM] S3C24XX: Movev udc headers to arch/arm/p...   \n",
       "\n",
       "                                             trailer  \\\n",
       "0  [{'key': 'Signed-off-by', 'value': 'Mark Rutla...   \n",
       "1  [{'key': 'Signed-off-by', 'value': 'Will Deaco...   \n",
       "2  [{'key': 'Reviewed-by', 'value': 'Will Deacon ...   \n",
       "3  [{'key': 'Signed-off-by', 'value': 'Nicolas Pi...   \n",
       "4  [{'key': 'Signed-off-by', 'value': 'Ben Dooks ...   \n",
       "\n",
       "                                          difference difference_truncated  \\\n",
       "0  [{'old_mode': 33188.0, 'new_mode': 33188.0, 'o...                 None   \n",
       "1  [{'old_mode': 33188.0, 'new_mode': 33188.0, 'o...                 None   \n",
       "2  [{'old_mode': 33188.0, 'new_mode': 33188.0, 'o...                 None   \n",
       "3  [{'old_mode': 33188.0, 'new_mode': 33188.0, 'o...                 None   \n",
       "4  [{'old_mode': 33188.0, 'new_mode': 33188.0, 'o...                 None   \n",
       "\n",
       "        repo_name encoding  \n",
       "0  torvalds/linux     None  \n",
       "1  torvalds/linux     None  \n",
       "2  torvalds/linux     None  \n",
       "3  torvalds/linux     None  \n",
       "4  torvalds/linux     None  "
      ],
      "text/html": "<div>\n<style scoped>\n    .dataframe tbody tr th:only-of-type {\n        vertical-align: middle;\n    }\n\n    .dataframe tbody tr th {\n        vertical-align: top;\n    }\n\n    .dataframe thead th {\n        text-align: right;\n    }\n</style>\n<table border=\"1\" class=\"dataframe\">\n  <thead>\n    <tr style=\"text-align: right;\">\n      <th></th>\n      <th>commit</th>\n      <th>tree</th>\n      <th>parent</th>\n      <th>author</th>\n      <th>committer</th>\n      <th>subject</th>\n      <th>message</th>\n      <th>trailer</th>\n      <th>difference</th>\n      <th>difference_truncated</th>\n      <th>repo_name</th>\n      <th>encoding</th>\n    </tr>\n  </thead>\n  <tbody>\n    <tr>\n      <th>0</th>\n      <td>3eca86e75ec7a7d4b9a9c8091b11676f7bd2a39f</td>\n      <td>8e1b4380409a85a922ee0d3f622b5dd4d16bcfad</td>\n      <td>[104a0c02e8b1936c049e18a6d4e4ab040fb61213]</td>\n      <td>{'name': 'Mark Rutland', 'email': '1db9dd262be...</td>\n      <td>{'name': 'Catalin Marinas', 'email': '15ce75b2...</td>\n      <td>arm64: Remove fixmap include fragility</td>\n      <td>arm64: Remove fixmap include fragility\\n\\nThe ...</td>\n      <td>[{'key': 'Signed-off-by', 'value': 'Mark Rutla...</td>\n      <td>[{'old_mode': 33188.0, 'new_mode': 33188.0, 'o...</td>\n      <td>None</td>\n      <td>torvalds/linux</td>\n      <td>None</td>\n    </tr>\n    <tr>\n      <th>1</th>\n      <td>7158627686f02319c50c8d9d78f75d4c8d126ff2</td>\n      <td>3b4d781bd966f07cad1b67b137f0ff8b89430e9a</td>\n      <td>[66aa8d6a145b6a66566b4fce219cc56c3d0e01c3]</td>\n      <td>{'name': 'Will Deacon', 'email': 'b913f13ef92a...</td>\n      <td>{'name': 'Catalin Marinas', 'email': '15ce75b2...</td>\n      <td>arm64: percpu: implement optimised pcpu access...</td>\n      <td>arm64: percpu: implement optimised pcpu access...</td>\n      <td>[{'key': 'Signed-off-by', 'value': 'Will Deaco...</td>\n      <td>[{'old_mode': 33188.0, 'new_mode': 33188.0, 'o...</td>\n      <td>None</td>\n      <td>torvalds/linux</td>\n      <td>None</td>\n    </tr>\n    <tr>\n      <th>2</th>\n      <td>9732cafd9dc0206479be919baf0067239f0a63ca</td>\n      <td>c8878035ac9cb6dce592957f12dc1723a583989d</td>\n      <td>[f3c003f72dfb2497056bcbb864885837a1968ed5]</td>\n      <td>{'name': 'Jiang Liu', 'email': 'c745fa7b96fe79...</td>\n      <td>{'name': 'Catalin Marinas', 'email': '15ce75b2...</td>\n      <td>arm64, jump label: optimize jump label impleme...</td>\n      <td>arm64, jump label: optimize jump label impleme...</td>\n      <td>[{'key': 'Reviewed-by', 'value': 'Will Deacon ...</td>\n      <td>[{'old_mode': 33188.0, 'new_mode': 33188.0, 'o...</td>\n      <td>None</td>\n      <td>torvalds/linux</td>\n      <td>None</td>\n    </tr>\n    <tr>\n      <th>3</th>\n      <td>4702abd3f9728893ad5b0f4389e1902588510459</td>\n      <td>32926e7c55ef585d9b9c174a0e5f9ed13ed6bf7e</td>\n      <td>[ddf28352b80c86754a6424e3a61e8bdf9213b3c7]</td>\n      <td>{'name': 'Nicolas Pitre', 'email': '408789a210...</td>\n      <td>{'name': 'Arnd Bergmann', 'email': 'f2c659f019...</td>\n      <td>ARM: mach-nuc93x: delete</td>\n      <td>ARM: mach-nuc93x: delete\\n\\nThis architecture ...</td>\n      <td>[{'key': 'Signed-off-by', 'value': 'Nicolas Pi...</td>\n      <td>[{'old_mode': 33188.0, 'new_mode': 33188.0, 'o...</td>\n      <td>None</td>\n      <td>torvalds/linux</td>\n      <td>None</td>\n    </tr>\n    <tr>\n      <th>4</th>\n      <td>57bd4b91a6cfc5bad4c5d829ef85293ea63643ea</td>\n      <td>2ffc2066eb7638e185663e9d849663403229d4e5</td>\n      <td>[f74c95c20bad8e183e41283475f68a3e7b247af4]</td>\n      <td>{'name': 'Ben Dooks', 'email': '1177f64998f284...</td>\n      <td>{'name': 'Ben Dooks', 'email': '1177f64998f284...</td>\n      <td>[ARM] S3C24XX: Movev udc headers to arch/arm/p...</td>\n      <td>[ARM] S3C24XX: Movev udc headers to arch/arm/p...</td>\n      <td>[{'key': 'Signed-off-by', 'value': 'Ben Dooks ...</td>\n      <td>[{'old_mode': 33188.0, 'new_mode': 33188.0, 'o...</td>\n      <td>None</td>\n      <td>torvalds/linux</td>\n      <td>None</td>\n    </tr>\n  </tbody>\n</table>\n</div>"
     },
     "metadata": {},
     "execution_count": 6
    }
   ],
   "source": [
    "from google.cloud import bigquery\n",
    "\n",
    "# Create a \"Client\" object\n",
    "client = bigquery.Client()\n",
    "\n",
    "# Construct a reference to the \"github_repos\" dataset\n",
    "dataset_ref = client.dataset(\"github_repos\", project=\"bigquery-public-data\")\n",
    "\n",
    "# API request - fetch the dataset\n",
    "dataset = client.get_dataset(dataset_ref)\n",
    "\n",
    "# Construct a reference to the \"sample_commits\" table\n",
    "table_ref = dataset_ref.table(\"sample_commits\")\n",
    "\n",
    "# API request - fetch the table\n",
    "sample_commits_table = client.get_table(table_ref)\n",
    "\n",
    "# Preview the first five lines of the table\n",
    "client.list_rows(sample_commits_table, max_results=5).to_dataframe()"
   ]
  },
  {
   "cell_type": "code",
   "execution_count": 7,
   "metadata": {},
   "outputs": [
    {
     "output_type": "execute_result",
     "data": {
      "text/plain": [
       "[SchemaField('commit', 'STRING', 'NULLABLE', None, (), None),\n",
       " SchemaField('tree', 'STRING', 'NULLABLE', None, (), None),\n",
       " SchemaField('parent', 'STRING', 'REPEATED', None, (), None),\n",
       " SchemaField('author', 'RECORD', 'NULLABLE', None, (SchemaField('name', 'STRING', 'NULLABLE', None, (), None), SchemaField('email', 'STRING', 'NULLABLE', None, (), None), SchemaField('time_sec', 'INTEGER', 'NULLABLE', None, (), None), SchemaField('tz_offset', 'INTEGER', 'NULLABLE', None, (), None), SchemaField('date', 'TIMESTAMP', 'NULLABLE', None, (), None)), None),\n",
       " SchemaField('committer', 'RECORD', 'NULLABLE', None, (SchemaField('name', 'STRING', 'NULLABLE', None, (), None), SchemaField('email', 'STRING', 'NULLABLE', None, (), None), SchemaField('time_sec', 'INTEGER', 'NULLABLE', None, (), None), SchemaField('tz_offset', 'INTEGER', 'NULLABLE', None, (), None), SchemaField('date', 'TIMESTAMP', 'NULLABLE', None, (), None)), None),\n",
       " SchemaField('subject', 'STRING', 'NULLABLE', None, (), None),\n",
       " SchemaField('message', 'STRING', 'NULLABLE', None, (), None),\n",
       " SchemaField('trailer', 'RECORD', 'REPEATED', None, (SchemaField('key', 'STRING', 'NULLABLE', None, (), None), SchemaField('value', 'STRING', 'NULLABLE', None, (), None), SchemaField('email', 'STRING', 'NULLABLE', None, (), None)), None),\n",
       " SchemaField('difference', 'RECORD', 'REPEATED', None, (SchemaField('old_mode', 'INTEGER', 'NULLABLE', None, (), None), SchemaField('new_mode', 'INTEGER', 'NULLABLE', None, (), None), SchemaField('old_path', 'STRING', 'NULLABLE', None, (), None), SchemaField('new_path', 'STRING', 'NULLABLE', None, (), None), SchemaField('old_sha1', 'STRING', 'NULLABLE', None, (), None), SchemaField('new_sha1', 'STRING', 'NULLABLE', None, (), None), SchemaField('old_repo', 'STRING', 'NULLABLE', None, (), None), SchemaField('new_repo', 'STRING', 'NULLABLE', None, (), None)), None),\n",
       " SchemaField('difference_truncated', 'BOOLEAN', 'NULLABLE', None, (), None),\n",
       " SchemaField('repo_name', 'STRING', 'NULLABLE', None, (), None),\n",
       " SchemaField('encoding', 'STRING', 'NULLABLE', None, (), None)]"
      ]
     },
     "metadata": {},
     "execution_count": 7
    }
   ],
   "source": [
    "# Print information on all the columns in the table\n",
    "sample_commits_table.schema"
   ]
  },
  {
   "source": [
    "Write a query to find the individuals with the most commits in this table in 2016. Your query should return a table with two columns:\n",
    "\n",
    "    committer_name - contains the name of each individual with a commit (from 2016) in the table\n",
    "    num_commits - shows the number of commits the individual has in the table (from 2016)\n",
    "\n",
    "Sort the table, so that people with more commits appear first.\n",
    "\n",
    "NOTE: You can find the name of each committer and the date of the commit under the \"committer\" column, in the \"name\" and \"date\" child fields, respectively.\n"
   ],
   "cell_type": "markdown",
   "metadata": {}
  },
  {
   "cell_type": "code",
   "execution_count": 8,
   "metadata": {},
   "outputs": [
    {
     "output_type": "execute_result",
     "data": {
      "text/plain": [
       "          committer_name  num_commits\n",
       "0     Greg Kroah-Hartman         3545\n",
       "1        David S. Miller         3120\n",
       "2  TensorFlower Gardener         2449\n",
       "3         Linus Torvalds         2424\n",
       "4        Benjamin Pasero         1127"
      ],
      "text/html": "<div>\n<style scoped>\n    .dataframe tbody tr th:only-of-type {\n        vertical-align: middle;\n    }\n\n    .dataframe tbody tr th {\n        vertical-align: top;\n    }\n\n    .dataframe thead th {\n        text-align: right;\n    }\n</style>\n<table border=\"1\" class=\"dataframe\">\n  <thead>\n    <tr style=\"text-align: right;\">\n      <th></th>\n      <th>committer_name</th>\n      <th>num_commits</th>\n    </tr>\n  </thead>\n  <tbody>\n    <tr>\n      <th>0</th>\n      <td>Greg Kroah-Hartman</td>\n      <td>3545</td>\n    </tr>\n    <tr>\n      <th>1</th>\n      <td>David S. Miller</td>\n      <td>3120</td>\n    </tr>\n    <tr>\n      <th>2</th>\n      <td>TensorFlower Gardener</td>\n      <td>2449</td>\n    </tr>\n    <tr>\n      <th>3</th>\n      <td>Linus Torvalds</td>\n      <td>2424</td>\n    </tr>\n    <tr>\n      <th>4</th>\n      <td>Benjamin Pasero</td>\n      <td>1127</td>\n    </tr>\n  </tbody>\n</table>\n</div>"
     },
     "metadata": {},
     "execution_count": 8
    }
   ],
   "source": [
    "\n",
    "max_commits_query = \"\"\"\n",
    "                    SELECT committer.name AS committer_name, COUNT(*) AS num_commits\n",
    "                    FROM `bigquery-public-data.github_repos.sample_commits`\n",
    "                    WHERE committer.date >= '2016-01-01' AND committer.date < '2017-01-01'\n",
    "                    GROUP BY committer_name\n",
    "                    ORDER BY num_commits DESC\n",
    "                    \"\"\"\n",
    "\n",
    "# Run the query, and return a pandas DataFrame\n",
    "num_trips_result = client.query(max_commits_query).result().to_dataframe()\n",
    "num_trips_result.head()"
   ]
  },
  {
   "source": [
    "#### 2) Look at languages!\n",
    "\n",
    "Now you will work with the languages table. Run the code cell below to print the first few rows.\n",
    "\n",
    "Each row of the languages table corresponds to a different repository.\n",
    "\n",
    "    The \"repo_name\" column contains the name of the repository,\n",
    "    the \"name\" field in the \"language\" column contains the programming languages that can be found in the repo, and\n",
    "    the \"bytes\" field in the \"language\" column has the size of the files (in bytes, for the corresponding language).\n",
    "\n",
    "\n",
    "Assume for the moment that you have access to a table called `sample_languages` that contains only a very small subset of the rows from the `languages` table: in fact, it contains only three rows!  This table is depicted in the image below.\n",
    "\n",
    "![](https://i.imgur.com/qAb5lZ2.png)\n",
    "\n",
    "How many rows are in the table returned by the query below?\n",
    "\n",
    "![](https://i.imgur.com/Q5qYAtz.png)\n"
   ],
   "cell_type": "markdown",
   "metadata": {}
  },
  {
   "cell_type": "code",
   "execution_count": null,
   "metadata": {},
   "outputs": [],
   "source": [
    "# Fill in the blank\n",
    "num_rows = 6"
   ]
  },
  {
   "source": [
    "**3) What's the most popular programming language?**\n",
    "\n",
    "Write a query to leverage the information in the languages table to determine which programming languages appear in the most repositories. The table returned by your query should have two columns:\n",
    "\n",
    "    language_name - the name of the programming language\n",
    "    num_repos - the number of repositories in the languages table that use the programming language\n",
    "\n",
    "Sort the table so that languages that appear in more repos are shown first.\n"
   ],
   "cell_type": "markdown",
   "metadata": {}
  },
  {
   "cell_type": "code",
   "execution_count": 9,
   "metadata": {},
   "outputs": [
    {
     "output_type": "execute_result",
     "data": {
      "text/plain": [
       "  language_name  num_repos\n",
       "0    JavaScript    1103928\n",
       "1           CSS     817583\n",
       "2          HTML     782443\n",
       "3         Shell     639854\n",
       "4        Python     550222"
      ],
      "text/html": "<div>\n<style scoped>\n    .dataframe tbody tr th:only-of-type {\n        vertical-align: middle;\n    }\n\n    .dataframe tbody tr th {\n        vertical-align: top;\n    }\n\n    .dataframe thead th {\n        text-align: right;\n    }\n</style>\n<table border=\"1\" class=\"dataframe\">\n  <thead>\n    <tr style=\"text-align: right;\">\n      <th></th>\n      <th>language_name</th>\n      <th>num_repos</th>\n    </tr>\n  </thead>\n  <tbody>\n    <tr>\n      <th>0</th>\n      <td>JavaScript</td>\n      <td>1103928</td>\n    </tr>\n    <tr>\n      <th>1</th>\n      <td>CSS</td>\n      <td>817583</td>\n    </tr>\n    <tr>\n      <th>2</th>\n      <td>HTML</td>\n      <td>782443</td>\n    </tr>\n    <tr>\n      <th>3</th>\n      <td>Shell</td>\n      <td>639854</td>\n    </tr>\n    <tr>\n      <th>4</th>\n      <td>Python</td>\n      <td>550222</td>\n    </tr>\n  </tbody>\n</table>\n</div>"
     },
     "metadata": {},
     "execution_count": 9
    }
   ],
   "source": [
    "\n",
    "pop_lang_query = \"\"\"\n",
    "                 SELECT l.name as language_name, COUNT(*) as num_repos\n",
    "                 FROM `bigquery-public-data.github_repos.languages`,\n",
    "                     UNNEST(language) AS l\n",
    "                 GROUP BY language_name\n",
    "                 ORDER BY num_repos DESC\n",
    "                 \"\"\"\n",
    "\n",
    "# Run the query, and return a pandas DataFrame\n",
    "num_trips_result = client.query(pop_lang_query).result().to_dataframe()\n",
    "num_trips_result.head()"
   ]
  },
  {
   "source": [
    "### 4) Which languages are used in the repository with the most languages?\n",
    "\n",
    "For this question, you'll restrict your attention to the repository with name `'polyrabbit/polyglot'`.\n",
    "\n",
    "Write a query that returns a table with one row for each language in this repository.  The table should have two columns:\n",
    "- `name` - the name of the programming language\n",
    "- `bytes` - the total number of bytes of that programming language\n",
    "\n",
    "Sort the table by the `bytes` column so that programming languages that take up more space in the repo appear first."
   ],
   "cell_type": "markdown",
   "metadata": {}
  },
  {
   "cell_type": "code",
   "execution_count": 10,
   "metadata": {},
   "outputs": [
    {
     "output_type": "execute_result",
     "data": {
      "text/plain": [
       "                  name   bytes\n",
       "0                Lasso  834726\n",
       "1                    C  819142\n",
       "2              Mercury  709952\n",
       "3          Objective-C  495392\n",
       "4  Game Maker Language  298131"
      ],
      "text/html": "<div>\n<style scoped>\n    .dataframe tbody tr th:only-of-type {\n        vertical-align: middle;\n    }\n\n    .dataframe tbody tr th {\n        vertical-align: top;\n    }\n\n    .dataframe thead th {\n        text-align: right;\n    }\n</style>\n<table border=\"1\" class=\"dataframe\">\n  <thead>\n    <tr style=\"text-align: right;\">\n      <th></th>\n      <th>name</th>\n      <th>bytes</th>\n    </tr>\n  </thead>\n  <tbody>\n    <tr>\n      <th>0</th>\n      <td>Lasso</td>\n      <td>834726</td>\n    </tr>\n    <tr>\n      <th>1</th>\n      <td>C</td>\n      <td>819142</td>\n    </tr>\n    <tr>\n      <th>2</th>\n      <td>Mercury</td>\n      <td>709952</td>\n    </tr>\n    <tr>\n      <th>3</th>\n      <td>Objective-C</td>\n      <td>495392</td>\n    </tr>\n    <tr>\n      <th>4</th>\n      <td>Game Maker Language</td>\n      <td>298131</td>\n    </tr>\n  </tbody>\n</table>\n</div>"
     },
     "metadata": {},
     "execution_count": 10
    }
   ],
   "source": [
    "# Your code here\n",
    "all_langs_query = \"\"\"\n",
    "                  SELECT l.name, l.bytes\n",
    "                  FROM `bigquery-public-data.github_repos.languages`,\n",
    "                      UNNEST(language) as l\n",
    "                  WHERE repo_name = 'polyrabbit/polyglot'\n",
    "                  ORDER BY l.bytes DESC\n",
    "                  \"\"\"\n",
    "\n",
    "# Run the query, and return a pandas DataFrame\n",
    "num_trips_result = client.query(all_langs_query).result().to_dataframe()\n",
    "num_trips_result.head()                  "
   ]
  }
 ]
}